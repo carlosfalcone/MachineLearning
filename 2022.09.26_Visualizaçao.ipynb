{
 "cells": [
  {
   "cell_type": "code",
   "execution_count": 1,
   "id": "a0786206",
   "metadata": {},
   "outputs": [],
   "source": [
    "import gym\n",
    "from stable_baselines import PPO2\n",
    "from OpenAIWrappers import wrapper\n",
    "from stable_baselines.common.vec_env import SubprocVecEnv\n",
    "from stable_baselines.common import set_global_seeds\n",
    "import time"
   ]
  },
  {
   "cell_type": "code",
   "execution_count": 19,
   "id": "745b9744",
   "metadata": {},
   "outputs": [
    {
     "name": "stdout",
     "output_type": "stream",
     "text": [
      "Loading a model without an environment, this model cannot be trained until it has a valid environment.\n"
     ]
    }
   ],
   "source": [
    "env = gym.make('BreakoutNoFrameskip-v4')\n",
    "env=wrapper(env)\n",
    "modelo=PPO2.load('C:/Users/Falcone/Documents/0_MachineLearning/2022.09.21_AprendizadoPorReforco/4-RodandoVariosAmbientesEmParalelo/PPO_3000000_steps')"
   ]
  },
  {
   "cell_type": "code",
   "execution_count": 20,
   "id": "cfbee574",
   "metadata": {},
   "outputs": [
    {
     "name": "stdout",
     "output_type": "stream",
     "text": [
      "Recompensa episodio 0 : 18.0\n",
      "Recompensa episodio 1 : 16.0\n",
      "Recompensa episodio 2 : 19.0\n",
      "Recompensa episodio 3 : 16.0\n",
      "Recompensa episodio 4 : 9.0\n",
      "Recompensa media: 15.6\n"
     ]
    }
   ],
   "source": [
    "lista_recompensas=[]\n",
    "for i in range(5):\n",
    "    obs=env.reset()\n",
    "    terminou=False\n",
    "    recompensa_episodio=0\n",
    "    while terminou != True:\n",
    "        acao, estado = modelo.predict(obs)\n",
    "        obs, recompensa, terminou, info=env.step(acao)\n",
    "        recompensa_episodio+=recompensa\n",
    "    print('Recompensa episodio',i,':',recompensa_episodio)\n",
    "    lista_recompensas.append(recompensa_episodio)\n",
    "    \n",
    "print('Recompensa media:',sum(lista_recompensas)/len(lista_recompensas))"
   ]
  },
  {
   "cell_type": "code",
   "execution_count": 18,
   "id": "61306899",
   "metadata": {},
   "outputs": [
    {
     "name": "stdout",
     "output_type": "stream",
     "text": [
      "Recompensa total: 16.0\n"
     ]
    }
   ],
   "source": [
    "env = gym.make('BreakoutNoFrameskip-v4')\n",
    "env = wrapper(env)\n",
    "\n",
    "obs = env.reset()\n",
    "recompensa_total = 0\n",
    "terminou = False\n",
    "\n",
    "while terminou!= True:\n",
    "    env.render()\n",
    "    time.sleep(0.02)\n",
    "    acao, estado = modelo.predict(obs)\n",
    "    obs, recompensa, terminou, info = env.step(acao)\n",
    "    recompensa_total+=recompensa\n",
    "print('Recompensa total:', recompensa_total)\n",
    "env.close()"
   ]
  },
  {
   "cell_type": "code",
   "execution_count": null,
   "id": "0485098b",
   "metadata": {},
   "outputs": [],
   "source": []
  }
 ],
 "metadata": {
  "kernelspec": {
   "display_name": "Python 3 (ipykernel)",
   "language": "python",
   "name": "python3"
  },
  "language_info": {
   "codemirror_mode": {
    "name": "ipython",
    "version": 3
   },
   "file_extension": ".py",
   "mimetype": "text/x-python",
   "name": "python",
   "nbconvert_exporter": "python",
   "pygments_lexer": "ipython3",
   "version": "3.7.13"
  }
 },
 "nbformat": 4,
 "nbformat_minor": 5
}
