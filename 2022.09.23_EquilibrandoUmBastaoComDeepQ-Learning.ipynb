{
 "cells": [
  {
   "cell_type": "code",
   "execution_count": 1,
   "id": "67a2f2ec",
   "metadata": {},
   "outputs": [],
   "source": [
    "import gym"
   ]
  },
  {
   "cell_type": "code",
   "execution_count": 2,
   "id": "25c032a3",
   "metadata": {
    "scrolled": true
   },
   "outputs": [
    {
     "name": "stderr",
     "output_type": "stream",
     "text": [
      "C:\\Users\\Falcone\\anaconda3\\envs\\gymoa\\lib\\site-packages\\tensorflow\\python\\framework\\dtypes.py:516: FutureWarning: Passing (type, 1) or '1type' as a synonym of type is deprecated; in a future version of numpy, it will be understood as (type, (1,)) / '(1,)type'.\n",
      "  _np_qint8 = np.dtype([(\"qint8\", np.int8, 1)])\n",
      "C:\\Users\\Falcone\\anaconda3\\envs\\gymoa\\lib\\site-packages\\tensorflow\\python\\framework\\dtypes.py:517: FutureWarning: Passing (type, 1) or '1type' as a synonym of type is deprecated; in a future version of numpy, it will be understood as (type, (1,)) / '(1,)type'.\n",
      "  _np_quint8 = np.dtype([(\"quint8\", np.uint8, 1)])\n",
      "C:\\Users\\Falcone\\anaconda3\\envs\\gymoa\\lib\\site-packages\\tensorflow\\python\\framework\\dtypes.py:518: FutureWarning: Passing (type, 1) or '1type' as a synonym of type is deprecated; in a future version of numpy, it will be understood as (type, (1,)) / '(1,)type'.\n",
      "  _np_qint16 = np.dtype([(\"qint16\", np.int16, 1)])\n",
      "C:\\Users\\Falcone\\anaconda3\\envs\\gymoa\\lib\\site-packages\\tensorflow\\python\\framework\\dtypes.py:519: FutureWarning: Passing (type, 1) or '1type' as a synonym of type is deprecated; in a future version of numpy, it will be understood as (type, (1,)) / '(1,)type'.\n",
      "  _np_quint16 = np.dtype([(\"quint16\", np.uint16, 1)])\n",
      "C:\\Users\\Falcone\\anaconda3\\envs\\gymoa\\lib\\site-packages\\tensorflow\\python\\framework\\dtypes.py:520: FutureWarning: Passing (type, 1) or '1type' as a synonym of type is deprecated; in a future version of numpy, it will be understood as (type, (1,)) / '(1,)type'.\n",
      "  _np_qint32 = np.dtype([(\"qint32\", np.int32, 1)])\n",
      "C:\\Users\\Falcone\\anaconda3\\envs\\gymoa\\lib\\site-packages\\tensorflow\\python\\framework\\dtypes.py:525: FutureWarning: Passing (type, 1) or '1type' as a synonym of type is deprecated; in a future version of numpy, it will be understood as (type, (1,)) / '(1,)type'.\n",
      "  np_resource = np.dtype([(\"resource\", np.ubyte, 1)])\n",
      "C:\\Users\\Falcone\\anaconda3\\envs\\gymoa\\lib\\site-packages\\tensorboard\\compat\\tensorflow_stub\\dtypes.py:541: FutureWarning: Passing (type, 1) or '1type' as a synonym of type is deprecated; in a future version of numpy, it will be understood as (type, (1,)) / '(1,)type'.\n",
      "  _np_qint8 = np.dtype([(\"qint8\", np.int8, 1)])\n",
      "C:\\Users\\Falcone\\anaconda3\\envs\\gymoa\\lib\\site-packages\\tensorboard\\compat\\tensorflow_stub\\dtypes.py:542: FutureWarning: Passing (type, 1) or '1type' as a synonym of type is deprecated; in a future version of numpy, it will be understood as (type, (1,)) / '(1,)type'.\n",
      "  _np_quint8 = np.dtype([(\"quint8\", np.uint8, 1)])\n",
      "C:\\Users\\Falcone\\anaconda3\\envs\\gymoa\\lib\\site-packages\\tensorboard\\compat\\tensorflow_stub\\dtypes.py:543: FutureWarning: Passing (type, 1) or '1type' as a synonym of type is deprecated; in a future version of numpy, it will be understood as (type, (1,)) / '(1,)type'.\n",
      "  _np_qint16 = np.dtype([(\"qint16\", np.int16, 1)])\n",
      "C:\\Users\\Falcone\\anaconda3\\envs\\gymoa\\lib\\site-packages\\tensorboard\\compat\\tensorflow_stub\\dtypes.py:544: FutureWarning: Passing (type, 1) or '1type' as a synonym of type is deprecated; in a future version of numpy, it will be understood as (type, (1,)) / '(1,)type'.\n",
      "  _np_quint16 = np.dtype([(\"quint16\", np.uint16, 1)])\n",
      "C:\\Users\\Falcone\\anaconda3\\envs\\gymoa\\lib\\site-packages\\tensorboard\\compat\\tensorflow_stub\\dtypes.py:545: FutureWarning: Passing (type, 1) or '1type' as a synonym of type is deprecated; in a future version of numpy, it will be understood as (type, (1,)) / '(1,)type'.\n",
      "  _np_qint32 = np.dtype([(\"qint32\", np.int32, 1)])\n",
      "C:\\Users\\Falcone\\anaconda3\\envs\\gymoa\\lib\\site-packages\\tensorboard\\compat\\tensorflow_stub\\dtypes.py:550: FutureWarning: Passing (type, 1) or '1type' as a synonym of type is deprecated; in a future version of numpy, it will be understood as (type, (1,)) / '(1,)type'.\n",
      "  np_resource = np.dtype([(\"resource\", np.ubyte, 1)])\n",
      "C:\\Users\\Falcone\\anaconda3\\envs\\gymoa\\lib\\site-packages\\stable_baselines\\__init__.py:33: UserWarning: stable-baselines is in maintenance mode, please use [Stable-Baselines3 (SB3)](https://github.com/DLR-RM/stable-baselines3) for an up-to-date version. You can find a [migration guide](https://stable-baselines3.readthedocs.io/en/master/guide/migration.html) in SB3 documentation.\n",
      "  \"stable-baselines is in maintenance mode, please use [Stable-Baselines3 (SB3)](https://github.com/DLR-RM/stable-baselines3) for an up-to-date version. You can find a [migration guide](https://stable-baselines3.readthedocs.io/en/master/guide/migration.html) in SB3 documentation.\"\n"
     ]
    }
   ],
   "source": [
    "from stable_baselines import DQN\n",
    "import warnings\n",
    "warnings.filterwarnings('ignore')"
   ]
  },
  {
   "cell_type": "code",
   "execution_count": null,
   "id": "ec4d3f1d",
   "metadata": {},
   "outputs": [],
   "source": [
    "from stable_baselines.deepq.policies import MlpPolicy"
   ]
  },
  {
   "cell_type": "code",
   "execution_count": null,
   "id": "c679991a",
   "metadata": {},
   "outputs": [],
   "source": [
    "env = gym.make('CartPole-v0')\n",
    "\n",
    "modelo = DQN(policy=MlpPolicy, env=env, gamma=0.99, learning_rate=0.0005, buffer_size=5000, \n",
    "            exploration_fraction=0.1, exploration_final_eps=0.1, exploration_initial_eps=1.0, \n",
    "            batch_size=32, double_q=False, learning_starts=5000, verbose=1)\n",
    "\n",
    "modelo.learn(total_timesteps=30000, log_interval=20)\n",
    "#Possivel soluçao: https://stackoverflow.com/questions/71449872/stable-baselines-module-error-gym-logger-has-no-attribute-min-level\n",
    "#C:\\Users\\Falcone\\anaconda3\\envs\\gymoa\\Lib\\site-packages\\stable_baselines\\common\\base_class.py\n",
    "#salvar o arquivo primeiro em outro diretorio: C:\\Users\\Falcone\\Documents\\0_MachineLearning\\2022.09.21_AprendizadoPorReforco\\DeepQ-Learning\n",
    "#change: self.gym_level = gym.logger.MIN_LEVEL\n",
    "#into: self.gym_level = gym.logger\n",
    "#Nao resolveu!\n",
    "\n",
    "#segunda possivel soluçao\n",
    "#https://stable-baselines.readthedocs.io/en/master/guide/install.html\n",
    "#Bleeding-edge version\n",
    "#pip install git+https://github.com/hill-a/stable-baselines\n",
    "#FUNCIONOU!!"
   ]
  },
  {
   "cell_type": "code",
   "execution_count": null,
   "id": "f0b3c4d7",
   "metadata": {},
   "outputs": [],
   "source": [
    "import time\n",
    "# Visualizando o modelo treinado:\n",
    "obs = env.reset()\n",
    "terminou = False\n",
    "recompensa_total = 0\n",
    "while terminou!= True:\n",
    "    acao, estado = modelo.predict(obs)\n",
    "    obs, recompensa, terminou, info = env.step(acao)\n",
    "    recompensa_total+=recompensa\n",
    "    env.render()\n",
    "    time.sleep(0.1) \n",
    "env.close()\n",
    "print('Recompensa total:', recompensa_total)"
   ]
  },
  {
   "cell_type": "code",
   "execution_count": null,
   "id": "b18465b7",
   "metadata": {},
   "outputs": [],
   "source": []
  }
 ],
 "metadata": {
  "kernelspec": {
   "display_name": "Python 3 (ipykernel)",
   "language": "python",
   "name": "python3"
  },
  "language_info": {
   "codemirror_mode": {
    "name": "ipython",
    "version": 3
   },
   "file_extension": ".py",
   "mimetype": "text/x-python",
   "name": "python",
   "nbconvert_exporter": "python",
   "pygments_lexer": "ipython3",
   "version": "3.7.13"
  }
 },
 "nbformat": 4,
 "nbformat_minor": 5
}
