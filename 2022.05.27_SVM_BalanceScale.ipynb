{
 "cells": [
  {
   "cell_type": "code",
   "execution_count": 21,
   "id": "a4bb285b",
   "metadata": {},
   "outputs": [],
   "source": [
    "import pandas as pd\n",
    "#dados=pd.read_csv('C:/Users/Falcone/Documents/0_MachineLearning/2022.05.27_SVM/balance-scale.data') #ok, funcionou\n",
    "#Escrever linha de codigo para ler o arquivo diretamente do site\n",
    "dados=pd.read_csv('http://archive.ics.uci.edu/ml/machine-learning-databases/balance-scale/balance-scale.data',\n",
    "                 names=['ClassName','Left-Weight','Left-Distance','Right-Weight','Right-Distance'])"
   ]
  },
  {
   "cell_type": "code",
   "execution_count": 22,
   "id": "6fb8a3fe",
   "metadata": {},
   "outputs": [
    {
     "data": {
      "text/html": [
       "<div>\n",
       "<style scoped>\n",
       "    .dataframe tbody tr th:only-of-type {\n",
       "        vertical-align: middle;\n",
       "    }\n",
       "\n",
       "    .dataframe tbody tr th {\n",
       "        vertical-align: top;\n",
       "    }\n",
       "\n",
       "    .dataframe thead th {\n",
       "        text-align: right;\n",
       "    }\n",
       "</style>\n",
       "<table border=\"1\" class=\"dataframe\">\n",
       "  <thead>\n",
       "    <tr style=\"text-align: right;\">\n",
       "      <th></th>\n",
       "      <th>ClassName</th>\n",
       "      <th>Left-Weight</th>\n",
       "      <th>Left-Distance</th>\n",
       "      <th>Right-Weight</th>\n",
       "      <th>Right-Distance</th>\n",
       "    </tr>\n",
       "  </thead>\n",
       "  <tbody>\n",
       "    <tr>\n",
       "      <th>0</th>\n",
       "      <td>B</td>\n",
       "      <td>1</td>\n",
       "      <td>1</td>\n",
       "      <td>1</td>\n",
       "      <td>1</td>\n",
       "    </tr>\n",
       "    <tr>\n",
       "      <th>1</th>\n",
       "      <td>R</td>\n",
       "      <td>1</td>\n",
       "      <td>1</td>\n",
       "      <td>1</td>\n",
       "      <td>2</td>\n",
       "    </tr>\n",
       "    <tr>\n",
       "      <th>2</th>\n",
       "      <td>R</td>\n",
       "      <td>1</td>\n",
       "      <td>1</td>\n",
       "      <td>1</td>\n",
       "      <td>3</td>\n",
       "    </tr>\n",
       "    <tr>\n",
       "      <th>3</th>\n",
       "      <td>R</td>\n",
       "      <td>1</td>\n",
       "      <td>1</td>\n",
       "      <td>1</td>\n",
       "      <td>4</td>\n",
       "    </tr>\n",
       "    <tr>\n",
       "      <th>4</th>\n",
       "      <td>R</td>\n",
       "      <td>1</td>\n",
       "      <td>1</td>\n",
       "      <td>1</td>\n",
       "      <td>5</td>\n",
       "    </tr>\n",
       "    <tr>\n",
       "      <th>...</th>\n",
       "      <td>...</td>\n",
       "      <td>...</td>\n",
       "      <td>...</td>\n",
       "      <td>...</td>\n",
       "      <td>...</td>\n",
       "    </tr>\n",
       "    <tr>\n",
       "      <th>620</th>\n",
       "      <td>L</td>\n",
       "      <td>5</td>\n",
       "      <td>5</td>\n",
       "      <td>5</td>\n",
       "      <td>1</td>\n",
       "    </tr>\n",
       "    <tr>\n",
       "      <th>621</th>\n",
       "      <td>L</td>\n",
       "      <td>5</td>\n",
       "      <td>5</td>\n",
       "      <td>5</td>\n",
       "      <td>2</td>\n",
       "    </tr>\n",
       "    <tr>\n",
       "      <th>622</th>\n",
       "      <td>L</td>\n",
       "      <td>5</td>\n",
       "      <td>5</td>\n",
       "      <td>5</td>\n",
       "      <td>3</td>\n",
       "    </tr>\n",
       "    <tr>\n",
       "      <th>623</th>\n",
       "      <td>L</td>\n",
       "      <td>5</td>\n",
       "      <td>5</td>\n",
       "      <td>5</td>\n",
       "      <td>4</td>\n",
       "    </tr>\n",
       "    <tr>\n",
       "      <th>624</th>\n",
       "      <td>B</td>\n",
       "      <td>5</td>\n",
       "      <td>5</td>\n",
       "      <td>5</td>\n",
       "      <td>5</td>\n",
       "    </tr>\n",
       "  </tbody>\n",
       "</table>\n",
       "<p>625 rows × 5 columns</p>\n",
       "</div>"
      ],
      "text/plain": [
       "    ClassName  Left-Weight  Left-Distance  Right-Weight  Right-Distance\n",
       "0           B            1              1             1               1\n",
       "1           R            1              1             1               2\n",
       "2           R            1              1             1               3\n",
       "3           R            1              1             1               4\n",
       "4           R            1              1             1               5\n",
       "..        ...          ...            ...           ...             ...\n",
       "620         L            5              5             5               1\n",
       "621         L            5              5             5               2\n",
       "622         L            5              5             5               3\n",
       "623         L            5              5             5               4\n",
       "624         B            5              5             5               5\n",
       "\n",
       "[625 rows x 5 columns]"
      ]
     },
     "execution_count": 22,
     "metadata": {},
     "output_type": "execute_result"
    }
   ],
   "source": [
    "dados"
   ]
  },
  {
   "cell_type": "code",
   "execution_count": 23,
   "id": "842273ea",
   "metadata": {},
   "outputs": [
    {
     "data": {
      "text/plain": [
       "ClassName         object\n",
       "Left-Weight        int64\n",
       "Left-Distance      int64\n",
       "Right-Weight       int64\n",
       "Right-Distance     int64\n",
       "dtype: object"
      ]
     },
     "execution_count": 23,
     "metadata": {},
     "output_type": "execute_result"
    }
   ],
   "source": [
    "dados.dtypes"
   ]
  },
  {
   "cell_type": "code",
   "execution_count": 24,
   "id": "5c10058f",
   "metadata": {},
   "outputs": [
    {
     "data": {
      "text/plain": [
       "ClassName         0\n",
       "Left-Weight       0\n",
       "Left-Distance     0\n",
       "Right-Weight      0\n",
       "Right-Distance    0\n",
       "dtype: int64"
      ]
     },
     "execution_count": 24,
     "metadata": {},
     "output_type": "execute_result"
    }
   ],
   "source": [
    "dados.isnull().sum()"
   ]
  },
  {
   "cell_type": "code",
   "execution_count": 25,
   "id": "1562e2d9",
   "metadata": {},
   "outputs": [],
   "source": [
    "dadosx=dados.drop('ClassName', axis=1)"
   ]
  },
  {
   "cell_type": "code",
   "execution_count": 27,
   "id": "5cc4d542",
   "metadata": {},
   "outputs": [],
   "source": [
    "dadosy=dados['ClassName']"
   ]
  },
  {
   "cell_type": "code",
   "execution_count": 38,
   "id": "fedf676c",
   "metadata": {},
   "outputs": [
    {
     "name": "stdout",
     "output_type": "stream",
     "text": [
      "{'C': 1000, 'degree': 1, 'gamma': 'auto', 'kernel': 'rbf'}\n",
      "1.0\n"
     ]
    }
   ],
   "source": [
    "from sklearn.svm import SVC\n",
    "from sklearn.preprocessing import MinMaxScaler\n",
    "from sklearn.model_selection import StratifiedKFold\n",
    "from sklearn.model_selection import GridSearchCV\n",
    "scaler=MinMaxScaler(feature_range=(0,1))\n",
    "dadosxnorm=scaler.fit_transform(dadosx)\n",
    "modelo=SVC()\n",
    "divdados=StratifiedKFold(n_splits=7,shuffle=True)\n",
    "param={'C':[0.8,0.9,1.0,1.1,1.2,2,20,40,80,1000],'kernel':['linear', 'poly', 'rbf', 'sigmoid'],'degree':[1,2,3,4],\n",
    "       'gamma':['scale', 'auto']}\n",
    "otimiza=GridSearchCV(modelo,param,cv=divdados,n_jobs=-1)\n",
    "otimiza.fit(dadosxnorm,dadosy)\n",
    "print(otimiza.best_params_)\n",
    "print(otimiza.best_score_)\n",
    "#O modelo atingiu a acuracia de 1.0 após utilizar n_splits=7 no StratifiedKfold e param 'C'=1000\n",
    "#Com valores inferiores a esse o modelo fica com acuracio menor que 1.0"
   ]
  },
  {
   "cell_type": "code",
   "execution_count": null,
   "id": "50dfff9a",
   "metadata": {},
   "outputs": [],
   "source": []
  }
 ],
 "metadata": {
  "kernelspec": {
   "display_name": "Python 3 (ipykernel)",
   "language": "python",
   "name": "python3"
  },
  "language_info": {
   "codemirror_mode": {
    "name": "ipython",
    "version": 3
   },
   "file_extension": ".py",
   "mimetype": "text/x-python",
   "name": "python",
   "nbconvert_exporter": "python",
   "pygments_lexer": "ipython3",
   "version": "3.9.7"
  }
 },
 "nbformat": 4,
 "nbformat_minor": 5
}
