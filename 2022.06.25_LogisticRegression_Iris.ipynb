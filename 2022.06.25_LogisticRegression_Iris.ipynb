{
 "cells": [
  {
   "cell_type": "code",
   "execution_count": 1,
   "id": "cfcc45e5",
   "metadata": {},
   "outputs": [],
   "source": [
    "from sklearn.datasets import load_iris\n",
    "import pandas as pd\n",
    "pd.set_option('display.max_columns',50)\n",
    "dados = load_iris()"
   ]
  },
  {
   "cell_type": "code",
   "execution_count": 2,
   "id": "0bbb0920",
   "metadata": {},
   "outputs": [
    {
     "data": {
      "text/html": [
       "<div>\n",
       "<style scoped>\n",
       "    .dataframe tbody tr th:only-of-type {\n",
       "        vertical-align: middle;\n",
       "    }\n",
       "\n",
       "    .dataframe tbody tr th {\n",
       "        vertical-align: top;\n",
       "    }\n",
       "\n",
       "    .dataframe thead tr th {\n",
       "        text-align: left;\n",
       "    }\n",
       "</style>\n",
       "<table border=\"1\" class=\"dataframe\">\n",
       "  <thead>\n",
       "    <tr>\n",
       "      <th></th>\n",
       "      <th>sepal length (cm)</th>\n",
       "      <th>sepal width (cm)</th>\n",
       "      <th>petal length (cm)</th>\n",
       "      <th>petal width (cm)</th>\n",
       "    </tr>\n",
       "  </thead>\n",
       "  <tbody>\n",
       "    <tr>\n",
       "      <th>0</th>\n",
       "      <td>5.1</td>\n",
       "      <td>3.5</td>\n",
       "      <td>1.4</td>\n",
       "      <td>0.2</td>\n",
       "    </tr>\n",
       "    <tr>\n",
       "      <th>1</th>\n",
       "      <td>4.9</td>\n",
       "      <td>3.0</td>\n",
       "      <td>1.4</td>\n",
       "      <td>0.2</td>\n",
       "    </tr>\n",
       "    <tr>\n",
       "      <th>2</th>\n",
       "      <td>4.7</td>\n",
       "      <td>3.2</td>\n",
       "      <td>1.3</td>\n",
       "      <td>0.2</td>\n",
       "    </tr>\n",
       "    <tr>\n",
       "      <th>3</th>\n",
       "      <td>4.6</td>\n",
       "      <td>3.1</td>\n",
       "      <td>1.5</td>\n",
       "      <td>0.2</td>\n",
       "    </tr>\n",
       "    <tr>\n",
       "      <th>4</th>\n",
       "      <td>5.0</td>\n",
       "      <td>3.6</td>\n",
       "      <td>1.4</td>\n",
       "      <td>0.2</td>\n",
       "    </tr>\n",
       "    <tr>\n",
       "      <th>...</th>\n",
       "      <td>...</td>\n",
       "      <td>...</td>\n",
       "      <td>...</td>\n",
       "      <td>...</td>\n",
       "    </tr>\n",
       "    <tr>\n",
       "      <th>145</th>\n",
       "      <td>6.7</td>\n",
       "      <td>3.0</td>\n",
       "      <td>5.2</td>\n",
       "      <td>2.3</td>\n",
       "    </tr>\n",
       "    <tr>\n",
       "      <th>146</th>\n",
       "      <td>6.3</td>\n",
       "      <td>2.5</td>\n",
       "      <td>5.0</td>\n",
       "      <td>1.9</td>\n",
       "    </tr>\n",
       "    <tr>\n",
       "      <th>147</th>\n",
       "      <td>6.5</td>\n",
       "      <td>3.0</td>\n",
       "      <td>5.2</td>\n",
       "      <td>2.0</td>\n",
       "    </tr>\n",
       "    <tr>\n",
       "      <th>148</th>\n",
       "      <td>6.2</td>\n",
       "      <td>3.4</td>\n",
       "      <td>5.4</td>\n",
       "      <td>2.3</td>\n",
       "    </tr>\n",
       "    <tr>\n",
       "      <th>149</th>\n",
       "      <td>5.9</td>\n",
       "      <td>3.0</td>\n",
       "      <td>5.1</td>\n",
       "      <td>1.8</td>\n",
       "    </tr>\n",
       "  </tbody>\n",
       "</table>\n",
       "<p>150 rows × 4 columns</p>\n",
       "</div>"
      ],
      "text/plain": [
       "    sepal length (cm) sepal width (cm) petal length (cm) petal width (cm)\n",
       "0                 5.1              3.5               1.4              0.2\n",
       "1                 4.9              3.0               1.4              0.2\n",
       "2                 4.7              3.2               1.3              0.2\n",
       "3                 4.6              3.1               1.5              0.2\n",
       "4                 5.0              3.6               1.4              0.2\n",
       "..                ...              ...               ...              ...\n",
       "145               6.7              3.0               5.2              2.3\n",
       "146               6.3              2.5               5.0              1.9\n",
       "147               6.5              3.0               5.2              2.0\n",
       "148               6.2              3.4               5.4              2.3\n",
       "149               5.9              3.0               5.1              1.8\n",
       "\n",
       "[150 rows x 4 columns]"
      ]
     },
     "execution_count": 2,
     "metadata": {},
     "output_type": "execute_result"
    }
   ],
   "source": [
    "dadosx = pd.DataFrame(dados.data, columns=[dados.feature_names])\n",
    "#dadosx.head()\n",
    "dadosx"
   ]
  },
  {
   "cell_type": "code",
   "execution_count": 3,
   "id": "aac8c621",
   "metadata": {
    "scrolled": true
   },
   "outputs": [
    {
     "data": {
      "text/plain": [
       "0     0\n",
       "1     0\n",
       "2     0\n",
       "3     0\n",
       "4     0\n",
       "5     0\n",
       "6     0\n",
       "7     0\n",
       "8     0\n",
       "9     0\n",
       "10    0\n",
       "11    0\n",
       "12    0\n",
       "13    0\n",
       "14    0\n",
       "15    0\n",
       "16    0\n",
       "17    0\n",
       "18    0\n",
       "19    0\n",
       "20    0\n",
       "21    0\n",
       "22    0\n",
       "23    0\n",
       "24    0\n",
       "25    0\n",
       "26    0\n",
       "27    0\n",
       "28    0\n",
       "29    0\n",
       "30    0\n",
       "31    0\n",
       "32    0\n",
       "33    0\n",
       "34    0\n",
       "35    0\n",
       "36    0\n",
       "37    0\n",
       "38    0\n",
       "39    0\n",
       "40    0\n",
       "41    0\n",
       "42    0\n",
       "43    0\n",
       "44    0\n",
       "45    0\n",
       "46    0\n",
       "47    0\n",
       "48    0\n",
       "49    0\n",
       "50    1\n",
       "51    1\n",
       "52    1\n",
       "53    1\n",
       "54    1\n",
       "55    1\n",
       "56    1\n",
       "57    1\n",
       "58    1\n",
       "59    1\n",
       "dtype: int32"
      ]
     },
     "execution_count": 3,
     "metadata": {},
     "output_type": "execute_result"
    }
   ],
   "source": [
    "dadosy = pd.Series(dados.target) #Carregamento dos resultados em forma de series, pois a seleção desta coluna atraves \n",
    "#do dataframe parece que nao é muito recomendado\n",
    "dadosy.head(60)"
   ]
  },
  {
   "cell_type": "code",
   "execution_count": 11,
   "id": "8857158e",
   "metadata": {},
   "outputs": [
    {
     "data": {
      "text/plain": [
       "0    50\n",
       "1    50\n",
       "2    50\n",
       "dtype: int64"
      ]
     },
     "execution_count": 11,
     "metadata": {},
     "output_type": "execute_result"
    }
   ],
   "source": [
    "dadosy.value_counts()"
   ]
  },
  {
   "cell_type": "code",
   "execution_count": 12,
   "id": "42625a49",
   "metadata": {},
   "outputs": [
    {
     "data": {
      "text/plain": [
       "1.0"
      ]
     },
     "execution_count": 12,
     "metadata": {},
     "output_type": "execute_result"
    }
   ],
   "source": [
    "#2022.04.26\n",
    "from sklearn.linear_model import LogisticRegression\n",
    "from sklearn.model_selection import train_test_split\n",
    "xtreino, xteste, ytreino, yteste = train_test_split(dadosx, dadosy, test_size=0.3, random_state=9)\n",
    "modelo = LogisticRegression(max_iter=300, solver='liblinear', penalty='l1', C=95)\n",
    "modelo.fit(xtreino, ytreino)\n",
    "modelo.score(xteste, yteste)"
   ]
  },
  {
   "cell_type": "code",
   "execution_count": 13,
   "id": "13046d55",
   "metadata": {},
   "outputs": [
    {
     "data": {
      "text/plain": [
       "(45, 4)"
      ]
     },
     "execution_count": 13,
     "metadata": {},
     "output_type": "execute_result"
    }
   ],
   "source": [
    "xteste.shape"
   ]
  },
  {
   "cell_type": "code",
   "execution_count": 14,
   "id": "78dd1a75",
   "metadata": {
    "scrolled": true
   },
   "outputs": [
    {
     "name": "stdout",
     "output_type": "stream",
     "text": [
      "[[4.18984241e-09 2.14967984e-01 7.85032012e-01]\n",
      " [9.01864165e-06 9.99604133e-01 3.86848841e-04]\n",
      " [5.29505707e-07 1.41858195e-01 8.58141276e-01]\n",
      " [4.13739080e-07 2.11070162e-01 7.88929424e-01]\n",
      " [1.08474573e-04 9.99890449e-01 1.07634394e-06]\n",
      " [8.85259824e-01 1.14740176e-01 3.34181021e-24]\n",
      " [8.83126923e-01 1.16873077e-01 3.68749891e-21]\n",
      " [7.73204562e-01 2.26795438e-01 1.17582058e-21]\n",
      " [2.34812962e-04 9.99670578e-01 9.46091841e-05]\n",
      " [7.56662520e-01 2.43337480e-01 1.30306280e-22]\n",
      " [7.44360262e-01 2.55639738e-01 1.82401895e-21]\n",
      " [5.76788564e-06 9.99618415e-01 3.75817349e-04]\n",
      " [3.35445662e-02 9.66455429e-01 4.64238508e-09]\n",
      " [6.44789230e-05 9.99765206e-01 1.70315164e-04]\n",
      " [8.57501458e-01 1.42498542e-01 6.57879582e-23]\n",
      " [2.90776765e-04 9.99709036e-01 1.87245821e-07]\n",
      " [8.97481955e-01 1.02518045e-01 6.22753836e-22]\n",
      " [1.61111001e-05 9.99093178e-01 8.90710647e-04]\n",
      " [1.07317846e-07 3.17045463e-01 6.82954430e-01]\n",
      " [8.10313028e-01 1.89686972e-01 2.93663557e-22]\n",
      " [8.68568288e-01 1.31431712e-01 2.27067030e-23]\n",
      " [8.79903501e-01 1.20096499e-01 2.92628463e-23]\n",
      " [5.05785439e-08 3.25271276e-01 6.74728673e-01]\n",
      " [8.44026295e-01 1.55973705e-01 1.68552018e-22]\n",
      " [4.33468610e-12 3.93700727e-01 6.06299273e-01]\n",
      " [8.06474471e-05 9.99799443e-01 1.19909343e-04]\n",
      " [9.27799479e-01 7.22005206e-02 3.95606248e-20]\n",
      " [8.66595366e-08 9.25880032e-02 9.07411910e-01]\n",
      " [7.26881846e-01 2.73118154e-01 2.54719126e-21]\n",
      " [8.31275356e-08 2.69643834e-01 7.30356083e-01]\n",
      " [8.19072965e-08 2.14181114e-01 7.85818805e-01]\n",
      " [4.77838722e-06 3.33160264e-01 6.66834957e-01]\n",
      " [8.74155727e-01 1.25844273e-01 5.19161927e-20]\n",
      " [1.19078373e-04 9.99880441e-01 4.80616346e-07]\n",
      " [3.38311887e-03 9.96616873e-01 8.23578987e-09]\n",
      " [5.19851024e-04 9.99478041e-01 2.10788448e-06]\n",
      " [6.60784874e-06 9.96420740e-01 3.57265182e-03]\n",
      " [7.86367123e-01 2.13632877e-01 2.50774565e-21]\n",
      " [3.89127106e-08 6.82481123e-02 9.31751849e-01]\n",
      " [8.55576975e-01 1.44423025e-01 8.33900331e-23]\n",
      " [9.02256923e-01 9.77430772e-02 7.10633023e-23]\n",
      " [9.32366378e-09 1.22162944e-01 8.77837047e-01]\n",
      " [6.58366478e-05 9.97544114e-01 2.39004958e-03]\n",
      " [9.27879591e-01 7.21204094e-02 3.45766072e-21]\n",
      " [1.63290487e-08 3.31977405e-01 6.68022579e-01]]\n"
     ]
    },
    {
     "data": {
      "text/plain": [
       "(45, 3)"
      ]
     },
     "execution_count": 14,
     "metadata": {},
     "output_type": "execute_result"
    }
   ],
   "source": [
    "predicoes = modelo.predict_proba(xteste)\n",
    "print(predicoes)\n",
    "predicoes.shape"
   ]
  },
  {
   "cell_type": "code",
   "execution_count": 15,
   "id": "e43e0748",
   "metadata": {},
   "outputs": [
    {
     "name": "stdout",
     "output_type": "stream",
     "text": [
      "[2 1 2 2 1 0 0 0 1 0 0 1 1 1 0 1 0 1 2 0 0 0 2 0 2 1 0 2 0 2 2 2 0 1 1 1 1\n",
      " 0 2 0 0 2 1 0 2]\n"
     ]
    }
   ],
   "source": [
    "predicoes2 = modelo.predict(xteste)\n",
    "print(predicoes2)"
   ]
  },
  {
   "cell_type": "code",
   "execution_count": 16,
   "id": "dcc240f0",
   "metadata": {},
   "outputs": [
    {
     "data": {
      "text/plain": [
       "(45,)"
      ]
     },
     "execution_count": 16,
     "metadata": {},
     "output_type": "execute_result"
    }
   ],
   "source": [
    "predicoes2.shape"
   ]
  }
 ],
 "metadata": {
  "kernelspec": {
   "display_name": "Python 3 (ipykernel)",
   "language": "python",
   "name": "python3"
  },
  "language_info": {
   "codemirror_mode": {
    "name": "ipython",
    "version": 3
   },
   "file_extension": ".py",
   "mimetype": "text/x-python",
   "name": "python",
   "nbconvert_exporter": "python",
   "pygments_lexer": "ipython3",
   "version": "3.9.7"
  }
 },
 "nbformat": 4,
 "nbformat_minor": 5
}
