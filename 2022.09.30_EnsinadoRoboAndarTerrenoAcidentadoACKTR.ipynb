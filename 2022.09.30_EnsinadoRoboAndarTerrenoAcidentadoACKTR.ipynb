{
 "cells": [
  {
   "cell_type": "code",
   "execution_count": null,
   "id": "cd37adc9",
   "metadata": {},
   "outputs": [],
   "source": [
    "import gym"
   ]
  },
  {
   "cell_type": "code",
   "execution_count": null,
   "id": "8884d7f9",
   "metadata": {},
   "outputs": [],
   "source": [
    "#Descobrindo o escopo d açoes que um agente pode ter no ambiente\n",
    "env=gym.make('BipedalWalkerHardcore-v3')\n",
    "print(env.action_space)"
   ]
  },
  {
   "cell_type": "code",
   "execution_count": null,
   "id": "16bc3470",
   "metadata": {},
   "outputs": [],
   "source": [
    "#Visualizando um estado\n",
    "env=gym.make('BipedalWalkerHardcore-v3')\n",
    "obs=env.reset()\n",
    "print(obs)"
   ]
  },
  {
   "cell_type": "code",
   "execution_count": null,
   "id": "cb8e58ec",
   "metadata": {},
   "outputs": [],
   "source": [
    "# Visualizando o agente interagindo com o ambiente\n",
    "import time\n",
    "\n",
    "env = gym.make('BipedalWalkerHardcore-v3')\n",
    "obs = env.reset() \n",
    "lista_recompensa=[]\n",
    "\n",
    "for i in range(2000):\n",
    "    env.render() \n",
    "    time.sleep(0.001)\n",
    "    acao = env.action_space.sample()\n",
    "    obs, recompensa, terminou, info = env.step(acao)  \n",
    "    if terminou: \n",
    "        print(\"Episódio finalizado depois de {} timesteps\".format(i+1))\n",
    "        break      \n",
    "env.close()"
   ]
  },
  {
   "cell_type": "code",
   "execution_count": null,
   "id": "807b8121",
   "metadata": {},
   "outputs": [],
   "source": [
    "from stable_baselines.common.vec_env import SubprocVecEnv\n",
    "from stable_baselines.common import set_global_seeds\n",
    "from stable_baselines import ACKTR\n",
    "from stable_baselines.common.callbacks import CheckpointCallback\n",
    "#from stable_baselines.common.policies import MlpPolicy\n",
    "\n",
    "def cria_env(nome_env,num, seed=0):\n",
    "    def _init():\n",
    "        env=gym.make(nome_env)\n",
    "        env.seed(seed+num)\n",
    "        return env\n",
    "    set_global_seeds(seed)\n",
    "    return _init\n",
    "import time\n",
    "num_cpu = 4\n",
    "env = SubprocVecEnv([cria_env(nome_env='BipedalWalkerHardcore-v3', num=i) for i in range(num_cpu)])\n",
    "\n",
    "checkpoint_callback = CheckpointCallback(save_freq=1000000, save_path='C:/Users/Falcone/Documents/0_MachineLearning/2022.09.21_AprendizadoPorReforco/5-BibliotecaA2C/', name_prefix='A2C')\n",
    "\n",
    "modelo = ACKTR(policy='MlpPolicy', env=env, gamma=0.99, n_steps=20, learning_rate=0.25, vf_coef=0.25, verbose=1)\n",
    "\n",
    "inicio = time.time()\n",
    "modelo.learn(total_timesteps=40000000, log_interval=100, callback=checkpoint_callback)\n",
    "fim = time.time()\n",
    "print('Tempo em horas:', (fim-inicio)/3600)"
   ]
  }
 ],
 "metadata": {
  "kernelspec": {
   "display_name": "Python 3 (ipykernel)",
   "language": "python",
   "name": "python3"
  },
  "language_info": {
   "codemirror_mode": {
    "name": "ipython",
    "version": 3
   },
   "file_extension": ".py",
   "mimetype": "text/x-python",
   "name": "python",
   "nbconvert_exporter": "python",
   "pygments_lexer": "ipython3",
   "version": "3.7.13"
  }
 },
 "nbformat": 4,
 "nbformat_minor": 5
}
