{
 "cells": [
  {
   "cell_type": "code",
   "execution_count": 1,
   "id": "9f29a1b0",
   "metadata": {},
   "outputs": [],
   "source": [
    "import string\n",
    "import re\n",
    "from numpy import array\n",
    "import pandas as pd\n",
    "from keras.models import Sequential\n",
    "from keras.layers import Dense, LSTM, Embedding, RepeatVector\n",
    "from keras.preprocessing.text import Tokenizer\n",
    "from keras_preprocessing.sequence import pad_sequences\n",
    "from keras.models import load_model\n",
    "from keras import optimizers\n",
    "import matplotlib.pyplot as plt\n",
    "import warnings\n",
    "warnings.filterwarnings('ignore')"
   ]
  },
  {
   "cell_type": "code",
   "execution_count": 4,
   "id": "539fb8c3",
   "metadata": {},
   "outputs": [],
   "source": [
    "#funçao que abre um arquivo de texto\n",
    "def abre_txt(endereco_arquivo):\n",
    "    arquivo=open(endereco_arquivo,mode='rt',encoding='utf-8') #mode='rt' é para abrir o arquivo no modo leitura\n",
    "    texto=arquivo.read()\n",
    "    arquivo.close()\n",
    "    return texto"
   ]
  },
  {
   "cell_type": "code",
   "execution_count": 5,
   "id": "96bf1ae0",
   "metadata": {},
   "outputs": [],
   "source": [
    "#função que quebra o texto em uma lista de palavras\n",
    "def lista_palavras(texto):\n",
    "    lista=texto.strip().split('\\n')\n",
    "    lista=[i.split('\\t') for i in lista]\n",
    "    return lista"
   ]
  },
  {
   "cell_type": "code",
   "execution_count": 6,
   "id": "13dbf401",
   "metadata": {},
   "outputs": [],
   "source": [
    "dataset=abre_txt('C:/Users/Falcone/Documents/0_MachineLearning/2022.08.27_ProcessamentoDaLinguagem/SistemaDeTraducao/deu.txt')\n",
    "alemao_ingles=lista_palavras(dataset)\n",
    "alemao_ingles=array(alemao_ingles)"
   ]
  },
  {
   "cell_type": "code",
   "execution_count": 7,
   "id": "4e183ad9",
   "metadata": {},
   "outputs": [],
   "source": [
    "#pegando apenas uma parte do dataset, para poupar processamento\n",
    "alemao_ingles=alemao_ingles[:50000,:]"
   ]
  },
  {
   "cell_type": "code",
   "execution_count": 8,
   "id": "201b2649",
   "metadata": {},
   "outputs": [
    {
     "data": {
      "text/plain": [
       "(50000, 3)"
      ]
     },
     "execution_count": 8,
     "metadata": {},
     "output_type": "execute_result"
    }
   ],
   "source": [
    "alemao_ingles.shape"
   ]
  },
  {
   "cell_type": "code",
   "execution_count": 9,
   "id": "1a9340ea",
   "metadata": {},
   "outputs": [
    {
     "data": {
      "text/plain": [
       "array(['I failed the exam.', 'Ich habe die Prüfung nicht bestanden.',\n",
       "       'CC-BY 2.0 (France) Attribution: tatoeba.org #258076 (CK) & #657323 (al_ex_an_der)'],\n",
       "      dtype='<U537')"
      ]
     },
     "execution_count": 9,
     "metadata": {},
     "output_type": "execute_result"
    }
   ],
   "source": [
    "alemao_ingles[24000]"
   ]
  },
  {
   "cell_type": "code",
   "execution_count": 10,
   "id": "a505cbb7",
   "metadata": {},
   "outputs": [
    {
     "name": "stdout",
     "output_type": "stream",
     "text": [
      "Geh.\n",
      "Hallo!\n",
      "Grüß Gott!\n",
      "Lauf!\n",
      "Lauf!\n",
      "Potzdonner!\n"
     ]
    }
   ],
   "source": [
    "cont=0\n",
    "for i in alemao_ingles[:,1]:\n",
    "    print(i)\n",
    "    cont+=1\n",
    "    if cont>5:\n",
    "        break"
   ]
  },
  {
   "cell_type": "code",
   "execution_count": 11,
   "id": "8cb080a1",
   "metadata": {},
   "outputs": [],
   "source": [
    "#removendo pontuaçoes do texto\n",
    "alemao_ingles[:,0]=[re.sub('[^\\w\\s]','',s) for s in alemao_ingles[:,0]]\n",
    "alemao_ingles[:,1]=[re.sub('[^\\w\\s]','',s) for s in alemao_ingles[:,1]]"
   ]
  },
  {
   "cell_type": "code",
   "execution_count": 12,
   "id": "fc1c2689",
   "metadata": {},
   "outputs": [
    {
     "name": "stdout",
     "output_type": "stream",
     "text": [
      "Geh\n",
      "Hallo\n",
      "Grüß Gott\n",
      "Lauf\n",
      "Lauf\n",
      "Potzdonner\n"
     ]
    }
   ],
   "source": [
    "cont=0\n",
    "for i in alemao_ingles[:,1]:\n",
    "    print(i)\n",
    "    cont+=1\n",
    "    if cont>5:\n",
    "        break"
   ]
  },
  {
   "cell_type": "code",
   "execution_count": 13,
   "id": "e580ca55",
   "metadata": {},
   "outputs": [],
   "source": [
    "#transformando tudo para minusculas\n",
    "for i in range(len(alemao_ingles)):\n",
    "    alemao_ingles[i,0]=alemao_ingles[i,0].lower()\n",
    "    alemao_ingles[i,1]=alemao_ingles[i,1].lower()"
   ]
  },
  {
   "cell_type": "code",
   "execution_count": 14,
   "id": "a6cae55d",
   "metadata": {},
   "outputs": [
    {
     "name": "stdout",
     "output_type": "stream",
     "text": [
      "Maximo comprimento ingles: 6\n",
      "Maximo comprimento alemao: 15\n"
     ]
    },
    {
     "data": {
      "text/plain": [
       "array([[<AxesSubplot:title={'center':'ingles'}>,\n",
       "        <AxesSubplot:title={'center':'alemao'}>]], dtype=object)"
      ]
     },
     "execution_count": 14,
     "metadata": {},
     "output_type": "execute_result"
    },
    {
     "data": {
      "image/png": "[encoded data removed]",
      "text/plain": [
       "<Figure size 432x288 with 2 Axes>"
      ]
     },
     "metadata": {
      "needs_background": "light"
     },
     "output_type": "display_data"
    }
   ],
   "source": [
    "#visualizando o tamanho das sentenças em cada idioma\n",
    "ingles=[]\n",
    "alemao=[]\n",
    "\n",
    "for i in alemao_ingles[:,0]:\n",
    "    ingles.append(len(i.split()))\n",
    "    \n",
    "for i in alemao_ingles[:,1]:\n",
    "    alemao.append(len(i.split()))\n",
    "    \n",
    "df=pd.DataFrame({'ingles':ingles, 'alemao':alemao})\n",
    "\n",
    "tamanho_max_ingles=df['ingles'].max()\n",
    "tamanho_max_alemao=df['alemao'].max()\n",
    "\n",
    "print('Maximo comprimento ingles:', tamanho_max_ingles)\n",
    "print('Maximo comprimento alemao:', tamanho_max_alemao)\n",
    "\n",
    "#visualizando um histograma de cada idioma\n",
    "df.hist(bins=30)"
   ]
  },
  {
   "cell_type": "code",
   "execution_count": 15,
   "id": "0935cf61",
   "metadata": {},
   "outputs": [],
   "source": [
    "#função que tokeniza as palavras\n",
    "def tokenizador(frases):\n",
    "    tokenizador=Tokenizer()\n",
    "    tokenizador.fit_on_texts(frases)\n",
    "    return tokenizador"
   ]
  },
  {
   "cell_type": "code",
   "execution_count": 16,
   "id": "c0e8ee58",
   "metadata": {},
   "outputs": [
    {
     "name": "stdout",
     "output_type": "stream",
     "text": [
      "Tamanho do vocabulario Ingles: 6124\n"
     ]
    }
   ],
   "source": [
    "#tokenizador ingles\n",
    "tokenizador_ingles=tokenizador(alemao_ingles[:,0])\n",
    "tamanho_vocabulario_ingles=len(tokenizador_ingles.word_index)+1\n",
    "print('Tamanho do vocabulario Ingles:',tamanho_vocabulario_ingles)"
   ]
  },
  {
   "cell_type": "code",
   "execution_count": 17,
   "id": "93fae1e6",
   "metadata": {},
   "outputs": [
    {
     "data": {
      "text/plain": [
       "<keras.preprocessing.text.Tokenizer at 0x1af59aa5f40>"
      ]
     },
     "execution_count": 17,
     "metadata": {},
     "output_type": "execute_result"
    }
   ],
   "source": [
    "tokenizador_ingles"
   ]
  },
  {
   "cell_type": "code",
   "execution_count": 18,
   "id": "a2e30b9f",
   "metadata": {},
   "outputs": [
    {
     "name": "stdout",
     "output_type": "stream",
     "text": [
      "Tamanho do vocabulario Alemao: 10003\n"
     ]
    }
   ],
   "source": [
    "#tokenizador alemao\n",
    "tokenizador_alemao=tokenizador(alemao_ingles[:,1])\n",
    "tamanho_vocabulario_alemao=len(tokenizador_alemao.word_index)+1\n",
    "print('Tamanho do vocabulario Alemao:',tamanho_vocabulario_alemao)"
   ]
  },
  {
   "cell_type": "code",
   "execution_count": 19,
   "id": "08d5069d",
   "metadata": {},
   "outputs": [],
   "source": [
    "def encoder_frases(tokenizador,comprimento,frases):\n",
    "    frases_tokenizadas=tokenizador.texts_to_sequences(frases)\n",
    "    frases_tokenizadas=pad_sequences(frases_tokenizadas,maxlen=comprimento,padding='post')\n",
    "    return frases_tokenizadas"
   ]
  },
  {
   "cell_type": "code",
   "execution_count": 20,
   "id": "cca7a007",
   "metadata": {},
   "outputs": [],
   "source": [
    "from sklearn.model_selection import train_test_split\n",
    "treino,teste=train_test_split(alemao_ingles,test_size=0.2,shuffle=False)\n",
    "#Inseri o parametro shuffle, pois nao quero embaralhar as amostras para poder comparar treinamentos com diferentes\n",
    "#quantidades de epocas"
   ]
  },
  {
   "cell_type": "code",
   "execution_count": 21,
   "id": "395abaf6",
   "metadata": {},
   "outputs": [],
   "source": [
    "#colocando os textos em alemao como variaveis preditoras e os textos em ingles como variaveis target\n",
    "x_treino=encoder_frases(tokenizador_alemao,tamanho_max_alemao,treino[:,1])\n",
    "y_treino=encoder_frases(tokenizador_ingles,tamanho_max_ingles,treino[:,0])\n",
    "\n",
    "x_teste=encoder_frases(tokenizador_alemao,tamanho_max_alemao,teste[:,1])\n",
    "y_teste=encoder_frases(tokenizador_ingles,tamanho_max_ingles,teste[:,0])"
   ]
  },
  {
   "cell_type": "code",
   "execution_count": 22,
   "id": "31a387e6",
   "metadata": {},
   "outputs": [
    {
     "data": {
      "text/plain": [
       "(40000, 15)"
      ]
     },
     "execution_count": 22,
     "metadata": {},
     "output_type": "execute_result"
    }
   ],
   "source": [
    "x_treino.shape"
   ]
  },
  {
   "cell_type": "code",
   "execution_count": 23,
   "id": "0213bf2e",
   "metadata": {},
   "outputs": [
    {
     "data": {
      "text/plain": [
       "(40000, 6)"
      ]
     },
     "execution_count": 23,
     "metadata": {},
     "output_type": "execute_result"
    }
   ],
   "source": [
    "y_treino.shape"
   ]
  },
  {
   "cell_type": "code",
   "execution_count": 24,
   "id": "e68e4495",
   "metadata": {},
   "outputs": [
    {
     "data": {
      "text/plain": [
       "(10000, 15)"
      ]
     },
     "execution_count": 24,
     "metadata": {},
     "output_type": "execute_result"
    }
   ],
   "source": [
    "x_teste.shape"
   ]
  },
  {
   "cell_type": "code",
   "execution_count": 25,
   "id": "44e71695",
   "metadata": {},
   "outputs": [],
   "source": [
    "from tensorflow.keras.models import load_model"
   ]
  },
  {
   "cell_type": "code",
   "execution_count": 26,
   "id": "389d789e",
   "metadata": {},
   "outputs": [
    {
     "name": "stdout",
     "output_type": "stream",
     "text": [
      "Model: \"sequential\"\n",
      "_________________________________________________________________\n",
      " Layer (type)                Output Shape              Param #   \n",
      "=================================================================\n",
      " embedding (Embedding)       (None, 15, 500)           5001500   \n",
      "                                                                 \n",
      " lstm (LSTM)                 (None, 500)               2002000   \n",
      "                                                                 \n",
      " repeat_vector (RepeatVector  (None, 6, 500)           0         \n",
      " )                                                               \n",
      "                                                                 \n",
      " lstm_1 (LSTM)               (None, 6, 500)            2002000   \n",
      "                                                                 \n",
      " dense (Dense)               (None, 6, 6124)           3068124   \n",
      "                                                                 \n",
      "=================================================================\n",
      "Total params: 12,073,624\n",
      "Trainable params: 12,073,624\n",
      "Non-trainable params: 0\n",
      "_________________________________________________________________\n"
     ]
    }
   ],
   "source": [
    "# load model\n",
    "modelo = load_model('C:/Users/Falcone/Documents/0_MachineLearning/2022.08.27_ProcessamentoDaLinguagem/SistemaDeTraducao/modelo_40epocas.h5')\n",
    "# summarize model.\n",
    "modelo.summary()"
   ]
  },
  {
   "cell_type": "code",
   "execution_count": 30,
   "id": "35c4cd2e",
   "metadata": {},
   "outputs": [],
   "source": [
    "# evaluate the model\n",
    "score = modelo.evaluate(x_treino, y_treino, verbose=0)\n",
    "#print(\"%s: %.2f%%\" % (modelo.metrics_names[0], score*100))"
   ]
  },
  {
   "cell_type": "code",
   "execution_count": 31,
   "id": "e3a5372b",
   "metadata": {},
   "outputs": [
    {
     "name": "stdout",
     "output_type": "stream",
     "text": [
      "0.8812296986579895\n"
     ]
    }
   ],
   "source": [
    "print(score)"
   ]
  },
  {
   "cell_type": "code",
   "execution_count": 58,
   "id": "9f5af573",
   "metadata": {},
   "outputs": [
    {
     "name": "stdout",
     "output_type": "stream",
     "text": [
      "loss: 0.88\n"
     ]
    }
   ],
   "source": [
    "#print(\"%s: %.2f%%\" % (modelo.metrics_names[0], score*100)) #codigo se o parametro fosse accuracy\n",
    "print(\"%s: %.2f\" % (modelo.metrics_names[0],score)) #formato correto para loss e nao accuracy"
   ]
  },
  {
   "cell_type": "markdown",
   "id": "e5b9d9ab",
   "metadata": {},
   "source": [
    "## Previsoes do dataset de treino"
   ]
  },
  {
   "cell_type": "code",
   "execution_count": 59,
   "id": "1ac555d7",
   "metadata": {},
   "outputs": [
    {
     "name": "stdout",
     "output_type": "stream",
     "text": [
      "1250/1250 [==============================] - 84s 67ms/step\n"
     ]
    }
   ],
   "source": [
    "previsoes_treino=modelo.predict(x_treino)"
   ]
  },
  {
   "cell_type": "code",
   "execution_count": 60,
   "id": "55ddcb34",
   "metadata": {},
   "outputs": [],
   "source": [
    "import numpy as np\n",
    "previsoes_resumida=[]\n",
    "for i in range(len(x_treino)):\n",
    "    previsao_linha=np.argmax(previsoes_treino[i],1)\n",
    "    previsoes_resumida.append(previsao_linha)"
   ]
  },
  {
   "cell_type": "code",
   "execution_count": 61,
   "id": "83ff5a38",
   "metadata": {},
   "outputs": [],
   "source": [
    "previsoes_resumida_array=np.array(previsoes_resumida)\n",
    "previsoes=previsoes_resumida_array"
   ]
  },
  {
   "cell_type": "code",
   "execution_count": 62,
   "id": "60dd72b7",
   "metadata": {},
   "outputs": [],
   "source": [
    "# Criando uma função que retorna as palavras a partir de seus números de tokenização:\n",
    "def coleta_palavra(token, tokenizador):\n",
    "    for palavra, index in tokenizador.word_index.items():\n",
    "        if index == token:\n",
    "            return palavra\n",
    "    return None"
   ]
  },
  {
   "cell_type": "code",
   "execution_count": 63,
   "id": "b9343036",
   "metadata": {},
   "outputs": [],
   "source": [
    "# Transformando todas as predições em palavras:\n",
    "texto_previsto = []\n",
    "for frase in previsoes: # para cada frase prevista\n",
    "    sentenca = []\n",
    "    for token in range(len(frase)): # para cada token previsto dentro de uma frase\n",
    "        palavra_ingles = coleta_palavra(frase[token], tokenizador_ingles) # palavra inglês\n",
    "        if(palavra_ingles == None):\n",
    "            sentenca.append('')\n",
    "        else:\n",
    "            sentenca.append(palavra_ingles)\n",
    "\n",
    "    texto_previsto.append(' '.join(sentenca))"
   ]
  },
  {
   "cell_type": "code",
   "execution_count": 64,
   "id": "5184c134",
   "metadata": {},
   "outputs": [],
   "source": [
    "#criando um dataset que contem as frases em ingles do dataset de teste e as respectivas previsoes\n",
    "#do modelo\n",
    "df_previsoes_treino=pd.DataFrame({'Referencias':treino[:,0],'Previsoes': texto_previsto})"
   ]
  },
  {
   "cell_type": "code",
   "execution_count": 65,
   "id": "729580f6",
   "metadata": {},
   "outputs": [
    {
     "data": {
      "text/html": [
       "<div>\n",
       "<style scoped>\n",
       "    .dataframe tbody tr th:only-of-type {\n",
       "        vertical-align: middle;\n",
       "    }\n",
       "\n",
       "    .dataframe tbody tr th {\n",
       "        vertical-align: top;\n",
       "    }\n",
       "\n",
       "    .dataframe thead th {\n",
       "        text-align: right;\n",
       "    }\n",
       "</style>\n",
       "<table border=\"1\" class=\"dataframe\">\n",
       "  <thead>\n",
       "    <tr style=\"text-align: right;\">\n",
       "      <th></th>\n",
       "      <th>Referencias</th>\n",
       "      <th>Previsoes</th>\n",
       "    </tr>\n",
       "  </thead>\n",
       "  <tbody>\n",
       "    <tr>\n",
       "      <th>1840</th>\n",
       "      <td>stay close</td>\n",
       "      <td>stay close</td>\n",
       "    </tr>\n",
       "    <tr>\n",
       "      <th>16871</th>\n",
       "      <td>come take a look</td>\n",
       "      <td>come take of this</td>\n",
       "    </tr>\n",
       "    <tr>\n",
       "      <th>22993</th>\n",
       "      <td>do you see a rose</td>\n",
       "      <td>do you have a rose</td>\n",
       "    </tr>\n",
       "    <tr>\n",
       "      <th>13067</th>\n",
       "      <td>i lost that bet</td>\n",
       "      <td>i love the bet</td>\n",
       "    </tr>\n",
       "    <tr>\n",
       "      <th>23994</th>\n",
       "      <td>i drove them home</td>\n",
       "      <td>i drove to home</td>\n",
       "    </tr>\n",
       "    <tr>\n",
       "      <th>24916</th>\n",
       "      <td>im first in line</td>\n",
       "      <td>im first in line</td>\n",
       "    </tr>\n",
       "    <tr>\n",
       "      <th>22641</th>\n",
       "      <td>are your lips dry</td>\n",
       "      <td>are your lips dry</td>\n",
       "    </tr>\n",
       "    <tr>\n",
       "      <th>10892</th>\n",
       "      <td>tom isnt tidy</td>\n",
       "      <td>tom isnt tidy</td>\n",
       "    </tr>\n",
       "    <tr>\n",
       "      <th>19676</th>\n",
       "      <td>put the gun down</td>\n",
       "      <td>put the gun down</td>\n",
       "    </tr>\n",
       "    <tr>\n",
       "      <th>3092</th>\n",
       "      <td>this is tom</td>\n",
       "      <td>this is tom</td>\n",
       "    </tr>\n",
       "  </tbody>\n",
       "</table>\n",
       "</div>"
      ],
      "text/plain": [
       "             Referencias            Previsoes\n",
       "1840          stay close       stay close    \n",
       "16871   come take a look  come take of this  \n",
       "22993  do you see a rose  do you have a rose \n",
       "13067    i lost that bet     i love the bet  \n",
       "23994  i drove them home    i drove to home  \n",
       "24916   im first in line   im first in line  \n",
       "22641  are your lips dry  are your lips dry  \n",
       "10892      tom isnt tidy     tom isnt tidy   \n",
       "19676   put the gun down   put the gun down  \n",
       "3092         this is tom       this is tom   "
      ]
     },
     "execution_count": 65,
     "metadata": {},
     "output_type": "execute_result"
    }
   ],
   "source": [
    "#visualizando alguns resultados\n",
    "df_previsoes_treino.sample(10)"
   ]
  },
  {
   "cell_type": "code",
   "execution_count": 66,
   "id": "37b11acd",
   "metadata": {},
   "outputs": [],
   "source": [
    "# aplicando o BLEU SCORE em varias sentenças\n",
    "from nltk.translate.bleu_score import corpus_bleu #usado para calcular varias sentenças\n",
    "previsoes=[]\n",
    "for i in df_previsoes_treino['Previsoes']:\n",
    "    previsoes.append(i.split())#i.split() irá quebrar cada frase em uma lista de palavras individuais\n",
    "\n",
    "referencias=[]\n",
    "for i in df_previsoes_treino['Referencias']:\n",
    "    lista=[i.split()]\n",
    "    referencias.append(lista)"
   ]
  },
  {
   "cell_type": "code",
   "execution_count": 78,
   "id": "50bec54f",
   "metadata": {},
   "outputs": [
    {
     "name": "stdout",
     "output_type": "stream",
     "text": [
      "0.61%\n"
     ]
    }
   ],
   "source": [
    "score=corpus_bleu(referencias,previsoes,weights=(0.33,0.33,0.33,0))\n",
    "print(\"%.2f%%\" % (score))"
   ]
  },
  {
   "cell_type": "markdown",
   "id": "2712cc26",
   "metadata": {},
   "source": [
    "## Previsoes do dataset de teste"
   ]
  },
  {
   "cell_type": "code",
   "execution_count": 79,
   "id": "d5e255cc",
   "metadata": {},
   "outputs": [
    {
     "data": {
      "text/plain": [
       "(10000, 15)"
      ]
     },
     "execution_count": 79,
     "metadata": {},
     "output_type": "execute_result"
    }
   ],
   "source": [
    "x_teste.shape"
   ]
  },
  {
   "cell_type": "code",
   "execution_count": 80,
   "id": "d12a2247",
   "metadata": {},
   "outputs": [
    {
     "name": "stdout",
     "output_type": "stream",
     "text": [
      "313/313 [==============================] - 22s 66ms/step\n"
     ]
    }
   ],
   "source": [
    "previsoes=modelo.predict(x_teste)"
   ]
  },
  {
   "cell_type": "code",
   "execution_count": 81,
   "id": "a9ae7538",
   "metadata": {},
   "outputs": [],
   "source": [
    "import numpy as np\n",
    "previsoes_resumida=[]\n",
    "for i in range(len(x_teste)):\n",
    "    #print('i:',i)\n",
    "    previsao_linha=np.argmax(previsoes[i],1)\n",
    "    previsoes_resumida.append(previsao_linha)\n",
    "    #print(previsoes_resumida)"
   ]
  },
  {
   "cell_type": "code",
   "execution_count": 82,
   "id": "aa206283",
   "metadata": {},
   "outputs": [],
   "source": [
    "previsoes_resumida_array=np.array(previsoes_resumida)"
   ]
  },
  {
   "cell_type": "code",
   "execution_count": 83,
   "id": "301c2d0a",
   "metadata": {},
   "outputs": [
    {
     "data": {
      "text/plain": [
       "(10000, 6)"
      ]
     },
     "execution_count": 83,
     "metadata": {},
     "output_type": "execute_result"
    }
   ],
   "source": [
    "previsoes_resumida_array.shape"
   ]
  },
  {
   "cell_type": "code",
   "execution_count": 84,
   "id": "fd359b03",
   "metadata": {},
   "outputs": [
    {
     "data": {
      "text/plain": [
       "array([[   4,    1, 1710,    0,    0,    0],\n",
       "       [  44,    1,   29,  169,    0,    0],\n",
       "       [   4,    1,  253,  253,    0,    0],\n",
       "       ...,\n",
       "       [ 104,  749,  108,    0,    0,    0],\n",
       "       [ 415,  517,    0,    0,    0,    0],\n",
       "       [ 104,  273,    0,    0,    0,    0]], dtype=int64)"
      ]
     },
     "execution_count": 84,
     "metadata": {},
     "output_type": "execute_result"
    }
   ],
   "source": [
    "previsoes_resumida_array"
   ]
  },
  {
   "cell_type": "code",
   "execution_count": 85,
   "id": "db9c00af",
   "metadata": {},
   "outputs": [],
   "source": [
    "previsoes=previsoes_resumida_array"
   ]
  },
  {
   "cell_type": "code",
   "execution_count": 86,
   "id": "96518e2f",
   "metadata": {},
   "outputs": [],
   "source": [
    "# Criando uma função que retorna as palavras a partir de seus números de tokenização:\n",
    "def coleta_palavra(token, tokenizador):\n",
    "    for palavra, index in tokenizador.word_index.items():\n",
    "        if index == token:\n",
    "            return palavra\n",
    "    return None\n",
    "\n",
    "# Transformando todas as predições em palavras:\n",
    "texto_previsto = []\n",
    "for frase in previsoes: # para cada frase prevista\n",
    "    sentenca = []\n",
    "    for token in range(len(frase)): # para cada token previsto dentro de uma frase\n",
    "        palavra_ingles = coleta_palavra(frase[token], tokenizador_ingles) # palavra inglês\n",
    "        if(palavra_ingles == None):\n",
    "            sentenca.append('')\n",
    "        else:\n",
    "            sentenca.append(palavra_ingles)\n",
    "\n",
    "    texto_previsto.append(' '.join(sentenca))"
   ]
  },
  {
   "cell_type": "code",
   "execution_count": 87,
   "id": "f126462f",
   "metadata": {},
   "outputs": [],
   "source": [
    "#criando um dataset que contem as frases em ingles do dataset de teste e as respectivas previsoes\n",
    "#do modelo\n",
    "df_previsoes=pd.DataFrame({'Referencias':teste[:,0],'Previsoes': texto_previsto})"
   ]
  },
  {
   "cell_type": "code",
   "execution_count": 88,
   "id": "b7437bec",
   "metadata": {},
   "outputs": [
    {
     "data": {
      "text/html": [
       "<div>\n",
       "<style scoped>\n",
       "    .dataframe tbody tr th:only-of-type {\n",
       "        vertical-align: middle;\n",
       "    }\n",
       "\n",
       "    .dataframe tbody tr th {\n",
       "        vertical-align: top;\n",
       "    }\n",
       "\n",
       "    .dataframe thead th {\n",
       "        text-align: right;\n",
       "    }\n",
       "</style>\n",
       "<table border=\"1\" class=\"dataframe\">\n",
       "  <thead>\n",
       "    <tr style=\"text-align: right;\">\n",
       "      <th></th>\n",
       "      <th>Referencias</th>\n",
       "      <th>Previsoes</th>\n",
       "    </tr>\n",
       "  </thead>\n",
       "  <tbody>\n",
       "    <tr>\n",
       "      <th>0</th>\n",
       "      <td>is tom an alcoholic</td>\n",
       "      <td>is tom autistic</td>\n",
       "    </tr>\n",
       "    <tr>\n",
       "      <th>1</th>\n",
       "      <td>is tom back already</td>\n",
       "      <td>has tom go yet</td>\n",
       "    </tr>\n",
       "    <tr>\n",
       "      <th>2</th>\n",
       "      <td>is tom doing better</td>\n",
       "      <td>is tom better better</td>\n",
       "    </tr>\n",
       "    <tr>\n",
       "      <th>3</th>\n",
       "      <td>is tom going to die</td>\n",
       "      <td>has tom help</td>\n",
       "    </tr>\n",
       "    <tr>\n",
       "      <th>4</th>\n",
       "      <td>is tom goodlooking</td>\n",
       "      <td>is tom well</td>\n",
       "    </tr>\n",
       "    <tr>\n",
       "      <th>...</th>\n",
       "      <td>...</td>\n",
       "      <td>...</td>\n",
       "    </tr>\n",
       "    <tr>\n",
       "      <th>9995</th>\n",
       "      <td>theyre best friends</td>\n",
       "      <td>they are friends</td>\n",
       "    </tr>\n",
       "    <tr>\n",
       "      <th>9996</th>\n",
       "      <td>theyre closed today</td>\n",
       "      <td>they went nearby</td>\n",
       "    </tr>\n",
       "    <tr>\n",
       "      <th>9997</th>\n",
       "      <td>theyre coming again</td>\n",
       "      <td>theyre winning again</td>\n",
       "    </tr>\n",
       "    <tr>\n",
       "      <th>9998</th>\n",
       "      <td>theyre coming again</td>\n",
       "      <td>hold fire</td>\n",
       "    </tr>\n",
       "    <tr>\n",
       "      <th>9999</th>\n",
       "      <td>theyre doing it now</td>\n",
       "      <td>theyre doing</td>\n",
       "    </tr>\n",
       "  </tbody>\n",
       "</table>\n",
       "<p>10000 rows × 2 columns</p>\n",
       "</div>"
      ],
      "text/plain": [
       "              Referencias                Previsoes\n",
       "0     is tom an alcoholic       is tom autistic   \n",
       "1     is tom back already         has tom go yet  \n",
       "2     is tom doing better   is tom better better  \n",
       "3     is tom going to die          has tom help   \n",
       "4      is tom goodlooking           is tom well   \n",
       "...                   ...                      ...\n",
       "9995  theyre best friends      they are friends   \n",
       "9996  theyre closed today      they went nearby   \n",
       "9997  theyre coming again  theyre winning again   \n",
       "9998  theyre coming again            hold fire    \n",
       "9999  theyre doing it now         theyre doing    \n",
       "\n",
       "[10000 rows x 2 columns]"
      ]
     },
     "execution_count": 88,
     "metadata": {},
     "output_type": "execute_result"
    }
   ],
   "source": [
    "#visualizando alguns resultados\n",
    "df_previsoes"
   ]
  },
  {
   "cell_type": "code",
   "execution_count": 89,
   "id": "7eba34c4",
   "metadata": {},
   "outputs": [
    {
     "data": {
      "text/html": [
       "<div>\n",
       "<style scoped>\n",
       "    .dataframe tbody tr th:only-of-type {\n",
       "        vertical-align: middle;\n",
       "    }\n",
       "\n",
       "    .dataframe tbody tr th {\n",
       "        vertical-align: top;\n",
       "    }\n",
       "\n",
       "    .dataframe thead th {\n",
       "        text-align: right;\n",
       "    }\n",
       "</style>\n",
       "<table border=\"1\" class=\"dataframe\">\n",
       "  <thead>\n",
       "    <tr style=\"text-align: right;\">\n",
       "      <th></th>\n",
       "      <th>Referencias</th>\n",
       "      <th>Previsoes</th>\n",
       "    </tr>\n",
       "  </thead>\n",
       "  <tbody>\n",
       "    <tr>\n",
       "      <th>3859</th>\n",
       "      <td>when do you want it</td>\n",
       "      <td>when did it end</td>\n",
       "    </tr>\n",
       "    <tr>\n",
       "      <th>676</th>\n",
       "      <td>my room key please</td>\n",
       "      <td>the this</td>\n",
       "    </tr>\n",
       "    <tr>\n",
       "      <th>5835</th>\n",
       "      <td>he emptied his glass</td>\n",
       "      <td>he has a day</td>\n",
       "    </tr>\n",
       "    <tr>\n",
       "      <th>8072</th>\n",
       "      <td>im right beside you</td>\n",
       "      <td>i agree to you</td>\n",
       "    </tr>\n",
       "    <tr>\n",
       "      <th>8067</th>\n",
       "      <td>im really surprised</td>\n",
       "      <td>im really</td>\n",
       "    </tr>\n",
       "    <tr>\n",
       "      <th>8848</th>\n",
       "      <td>my dog is not so big</td>\n",
       "      <td>this my is new</td>\n",
       "    </tr>\n",
       "    <tr>\n",
       "      <th>5382</th>\n",
       "      <td>do you want to dance</td>\n",
       "      <td>do you wanna talk</td>\n",
       "    </tr>\n",
       "    <tr>\n",
       "      <th>5607</th>\n",
       "      <td>excuse my clumsiness</td>\n",
       "      <td>get me some</td>\n",
       "    </tr>\n",
       "    <tr>\n",
       "      <th>7234</th>\n",
       "      <td>i owe him 50000 yen</td>\n",
       "      <td>i glad with him</td>\n",
       "    </tr>\n",
       "    <tr>\n",
       "      <th>802</th>\n",
       "      <td>now eat your supper</td>\n",
       "      <td>watch your juice</td>\n",
       "    </tr>\n",
       "  </tbody>\n",
       "</table>\n",
       "</div>"
      ],
      "text/plain": [
       "               Referencias            Previsoes\n",
       "3859   when do you want it    when did it end  \n",
       "676     my room key please         the this    \n",
       "5835  he emptied his glass       he has a day  \n",
       "8072   im right beside you     i agree to you  \n",
       "8067   im really surprised        im really    \n",
       "8848  my dog is not so big     this my is new  \n",
       "5382  do you want to dance  do you wanna talk  \n",
       "5607  excuse my clumsiness       get me some   \n",
       "7234   i owe him 50000 yen    i glad with him  \n",
       "802    now eat your supper  watch your juice   "
      ]
     },
     "execution_count": 89,
     "metadata": {},
     "output_type": "execute_result"
    }
   ],
   "source": [
    "#mostrando aleatoriamente 10 frases do dataset\n",
    "df_previsoes.sample(10)"
   ]
  },
  {
   "cell_type": "code",
   "execution_count": 90,
   "id": "7e0b74d2",
   "metadata": {},
   "outputs": [
    {
     "data": {
      "text/html": [
       "<div>\n",
       "<style scoped>\n",
       "    .dataframe tbody tr th:only-of-type {\n",
       "        vertical-align: middle;\n",
       "    }\n",
       "\n",
       "    .dataframe tbody tr th {\n",
       "        vertical-align: top;\n",
       "    }\n",
       "\n",
       "    .dataframe thead th {\n",
       "        text-align: right;\n",
       "    }\n",
       "</style>\n",
       "<table border=\"1\" class=\"dataframe\">\n",
       "  <thead>\n",
       "    <tr style=\"text-align: right;\">\n",
       "      <th></th>\n",
       "      <th>Referencias</th>\n",
       "      <th>Previsoes</th>\n",
       "    </tr>\n",
       "  </thead>\n",
       "  <tbody>\n",
       "    <tr>\n",
       "      <th>7430</th>\n",
       "      <td>i thought youd left</td>\n",
       "      <td>i made her mad</td>\n",
       "    </tr>\n",
       "  </tbody>\n",
       "</table>\n",
       "</div>"
      ],
      "text/plain": [
       "              Referencias         Previsoes\n",
       "7430  i thought youd left  i made her mad  "
      ]
     },
     "execution_count": 90,
     "metadata": {},
     "output_type": "execute_result"
    }
   ],
   "source": [
    "df_previsoes.loc[[7430]]"
   ]
  },
  {
   "cell_type": "code",
   "execution_count": 91,
   "id": "6c484e41",
   "metadata": {},
   "outputs": [],
   "source": [
    "# aplicando o BLEU SCORE em varias sentenças\n",
    "from nltk.translate.bleu_score import corpus_bleu #usado para calcular varias sentenças\n",
    "previsoes=[]\n",
    "for i in df_previsoes['Previsoes']:\n",
    "    previsoes.append(i.split())#i.split() irá quebrar cada frase em uma lista de palavras individuais\n",
    "\n",
    "referencias=[]\n",
    "for i in df_previsoes['Referencias']:\n",
    "    lista=[i.split()]\n",
    "    referencias.append(lista)"
   ]
  },
  {
   "cell_type": "code",
   "execution_count": 92,
   "id": "9c4cb17e",
   "metadata": {},
   "outputs": [
    {
     "name": "stdout",
     "output_type": "stream",
     "text": [
      "0.19%\n"
     ]
    }
   ],
   "source": [
    "score=corpus_bleu(referencias,previsoes,weights=(0.33,0.33,0.33,0))\n",
    "print(\"%.2f%%\" % (score))"
   ]
  },
  {
   "cell_type": "code",
   "execution_count": null,
   "id": "e5dfaecf",
   "metadata": {},
   "outputs": [],
   "source": []
  }
 ],
 "metadata": {
  "kernelspec": {
   "display_name": "Python 3 (ipykernel)",
   "language": "python",
   "name": "python3"
  },
  "language_info": {
   "codemirror_mode": {
    "name": "ipython",
    "version": 3
   },
   "file_extension": ".py",
   "mimetype": "text/x-python",
   "name": "python",
   "nbconvert_exporter": "python",
   "pygments_lexer": "ipython3",
   "version": "3.9.7"
  }
 },
 "nbformat": 4,
 "nbformat_minor": 5
}
