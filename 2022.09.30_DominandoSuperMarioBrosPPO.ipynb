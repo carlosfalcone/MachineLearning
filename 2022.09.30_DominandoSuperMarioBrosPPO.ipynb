{
 "cells": [
  {
   "cell_type": "code",
   "execution_count": null,
   "id": "c4a808d6",
   "metadata": {},
   "outputs": [],
   "source": [
    "#pip install gym-super-mario-bros\n",
    "import gym_super_mario_bros\n",
    "from nes_py.wrappers import JoypadSpace\n",
    "from gym_super_mario_bros.actions import RIGHT_ONLY #pode-se usar tambem o codigo COMPLEX_MOVEMENT para mais ações de movimento"
   ]
  },
  {
   "cell_type": "code",
   "execution_count": null,
   "id": "74b9b83a",
   "metadata": {},
   "outputs": [],
   "source": [
    "#Descobrindo o escopo d açoes que um agente pode ter no ambiente\n",
    "env=gym_super_mario_bros.make('SuperMarioBros-1-1-v0')\n",
    "env=JoypadSpace(env,RIGHT_ONLY)\n",
    "print(env.action_space)"
   ]
  },
  {
   "cell_type": "code",
   "execution_count": null,
   "id": "ec6f7470",
   "metadata": {},
   "outputs": [],
   "source": [
    "#Visualizando um estado\n",
    "obs=env.reset()\n",
    "print(obs)"
   ]
  },
  {
   "cell_type": "code",
   "execution_count": null,
   "id": "a6d05a74",
   "metadata": {},
   "outputs": [],
   "source": [
    "obs.shape"
   ]
  },
  {
   "cell_type": "code",
   "execution_count": null,
   "id": "c958fae4",
   "metadata": {},
   "outputs": [],
   "source": [
    "# Visualizando o agente interagindo com o ambiente\n",
    "import time\n",
    "\n",
    "for i in range(500):\n",
    "    env.render() \n",
    "    time.sleep(0.02    acao = env.action_space.sample()\n",
    "    obs, recompensa, terminou, info = env.step(acao)  \n",
    "    if terminou: \n",
    "        print(\"Episódio finalizado depois de {} timesteps\".format(i+1))\n",
    "        break      \n",
    "env.close()"
   ]
  },
  {
   "cell_type": "code",
   "execution_count": null,
   "id": "2936df31",
   "metadata": {},
   "outputs": [],
   "source": [
    "from MarioWrappers import wrapper\n",
    "from stable_baselines.common.vec_env import SubprocVecEnv\n",
    "from stable_baselines.common import set_global_seeds\n",
    "from stable_baselines import PPO2\n",
    "from stable_baselines.common.callbacks import CheckpointCallback\n",
    "#from stable_baselines.common.policies import MlpPolicy\n",
    "\n",
    "def cria_env(nome_env,num, seed=0):\n",
    "    def _init():\n",
    "        env=gym_super_mario_bros.make(nome_env)\n",
    "        env=JoypadSpace(env,RIGHT_ONLY)\n",
    "        env=wrapper(env)\n",
    "        env.seed(seed+num)\n",
    "        return env\n",
    "    set_global_seeds(seed)\n",
    "    return _init\n",
    "import time\n",
    "num_cpu = 4\n",
    "env = SubprocVecEnv([cria_env(nome_env='SuperMarioBros-1-1-v0', num=i) for i in range(num_cpu)])\n",
    "\n",
    "checkpoint_callback = CheckpointCallback(save_freq=100000, save_path='C:/Users/Falcone/Documents/0_MachineLearning/2022.09.21_AprendizadoPorReforco/7-DominandoSuperMarioBrosPPO/', name_prefix='A2C')\n",
    "\n",
    "modelo = PPO2(policy='CnnPolicy', env=env, gamma=0.99, n_steps=128, learning_rate=0.00025, vf_coef=0.25, verbose=1)\n",
    "\n",
    "inicio = time.time()\n",
    "modelo.learn(total_timesteps=4000000, log_interval=100, callback=checkpoint_callback)\n",
    "fim = time.time()\n",
    "print('Tempo em horas:', (fim-inicio)/3600)"
   ]
  }
 ],
 "metadata": {
  "kernelspec": {
   "display_name": "Python 3 (ipykernel)",
   "language": "python",
   "name": "python3"
  },
  "language_info": {
   "codemirror_mode": {
    "name": "ipython",
    "version": 3
   },
   "file_extension": ".py",
   "mimetype": "text/x-python",
   "name": "python",
   "nbconvert_exporter": "python",
   "pygments_lexer": "ipython3",
   "version": "3.7.13"
  }
 },
 "nbformat": 4,
 "nbformat_minor": 5
}
