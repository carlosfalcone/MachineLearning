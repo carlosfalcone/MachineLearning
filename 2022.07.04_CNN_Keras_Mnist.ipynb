{
 "cells": [
  {
   "cell_type": "code",
   "execution_count": 1,
   "id": "2cd9856c",
   "metadata": {},
   "outputs": [
    {
     "name": "stdout",
     "output_type": "stream",
     "text": [
      "[name: \"/device:CPU:0\"\n",
      "device_type: \"CPU\"\n",
      "memory_limit: 268435456\n",
      "locality {\n",
      "}\n",
      "incarnation: 9771288404657375591\n",
      ", name: \"/device:GPU:0\"\n",
      "device_type: \"GPU\"\n",
      "memory_limit: 2910506190\n",
      "locality {\n",
      "  bus_id: 1\n",
      "  links {\n",
      "  }\n",
      "}\n",
      "incarnation: 3124613532992543824\n",
      "physical_device_desc: \"device: 0, name: NVIDIA GeForce GTX 1050 Ti, pci bus id: 0000:01:00.0, compute capability: 6.1\"\n",
      "]\n"
     ]
    }
   ],
   "source": [
    "from tensorflow.python.client import device_lib\n",
    "print(device_lib.list_local_devices())"
   ]
  },
  {
   "cell_type": "code",
   "execution_count": 2,
   "id": "76ec8341",
   "metadata": {},
   "outputs": [],
   "source": [
    "from keras.datasets import mnist\n",
    "(xtreino,ytreino),(xteste,yteste)=mnist.load_data()"
   ]
  },
  {
   "cell_type": "code",
   "execution_count": 3,
   "id": "2901846b",
   "metadata": {},
   "outputs": [
    {
     "data": {
      "text/plain": [
       "(60000, 28, 28)"
      ]
     },
     "execution_count": 3,
     "metadata": {},
     "output_type": "execute_result"
    }
   ],
   "source": [
    "xtreino.shape"
   ]
  },
  {
   "cell_type": "code",
   "execution_count": 5,
   "id": "e079ff4a",
   "metadata": {},
   "outputs": [],
   "source": [
    "#Aplicando one hot encoding\n",
    "from tensorflow.keras.utils import to_categorical"
   ]
  },
  {
   "cell_type": "code",
   "execution_count": 6,
   "id": "afae741e",
   "metadata": {},
   "outputs": [],
   "source": [
    "ytreino=to_categorical(ytreino)\n",
    "yteste=to_categorical(yteste)"
   ]
  },
  {
   "cell_type": "code",
   "execution_count": 8,
   "id": "7c53dd79",
   "metadata": {},
   "outputs": [
    {
     "data": {
      "text/plain": [
       "(60000, 10)"
      ]
     },
     "execution_count": 8,
     "metadata": {},
     "output_type": "execute_result"
    }
   ],
   "source": [
    "ytreino.shape"
   ]
  },
  {
   "cell_type": "code",
   "execution_count": 11,
   "id": "69472fed",
   "metadata": {},
   "outputs": [
    {
     "data": {
      "text/plain": [
       "(10000, 28, 28)"
      ]
     },
     "execution_count": 11,
     "metadata": {},
     "output_type": "execute_result"
    }
   ],
   "source": [
    "xteste.shape"
   ]
  },
  {
   "cell_type": "code",
   "execution_count": 12,
   "id": "d3f721ee",
   "metadata": {},
   "outputs": [],
   "source": [
    "#Conversao dos dados para o tamanho esperado pelo modelo Conv2D: altura, largura e padrao de cores\n",
    "xtreino=xtreino.reshape(60000,28,28,1)\n",
    "xteste=xteste.reshape(10000,28,28,1)"
   ]
  },
  {
   "cell_type": "code",
   "execution_count": 13,
   "id": "b1c46f0b",
   "metadata": {},
   "outputs": [],
   "source": [
    "from keras.models import Sequential\n",
    "from keras.layers import Dense,Dropout,Conv2D,Flatten,MaxPooling2D"
   ]
  },
  {
   "cell_type": "code",
   "execution_count": 15,
   "id": "5b1d59cf",
   "metadata": {},
   "outputs": [],
   "source": [
    "#Criando a rede CNN (Convolutional Neural Networks)\n",
    "modelo=Sequential()\n",
    "modelo.add(Conv2D(filters=32, kernel_size=5,activation='relu',input_shape=(28,28,1)))\n",
    "modelo.add(MaxPooling2D(pool_size=(2,2),strides=None,padding='valid')) #padding='valid' significa que o padding nao será utilizado\n",
    "modelo.add(Conv2D(filters=64, kernel_size=5,activation='relu'))\n",
    "modelo.add(MaxPooling2D(pool_size=(2,2),strides=None,padding='valid'))\n",
    "modelo.add(Flatten())\n",
    "modelo.add(Dense(80,kernel_initializer='normal',activation='relu'))\n",
    "modelo.add(Dropout(0.2))\n",
    "modelo.add(Dense(10,kernel_initializer='normal',activation='softmax'))"
   ]
  },
  {
   "cell_type": "code",
   "execution_count": 16,
   "id": "326428ba",
   "metadata": {},
   "outputs": [],
   "source": [
    "#Definindo o otimizador e a funçao de custo\n",
    "modelo.compile(optimizer='adam',loss='categorical_crossentropy', metrics=['accuracy'])"
   ]
  },
  {
   "cell_type": "code",
   "execution_count": 17,
   "id": "2a0c5bd3",
   "metadata": {},
   "outputs": [
    {
     "name": "stdout",
     "output_type": "stream",
     "text": [
      "Epoch 1/10\n",
      "600/600 [==============================] - 13s 9ms/step - loss: 0.3297 - accuracy: 0.9095 - val_loss: 0.0497 - val_accuracy: 0.9836\n",
      "Epoch 2/10\n",
      "600/600 [==============================] - 5s 9ms/step - loss: 0.0736 - accuracy: 0.9774 - val_loss: 0.0404 - val_accuracy: 0.9861\n",
      "Epoch 3/10\n",
      "600/600 [==============================] - 5s 9ms/step - loss: 0.0534 - accuracy: 0.9840 - val_loss: 0.0320 - val_accuracy: 0.9898\n",
      "Epoch 4/10\n",
      "600/600 [==============================] - 5s 9ms/step - loss: 0.0427 - accuracy: 0.9869 - val_loss: 0.0414 - val_accuracy: 0.9870\n",
      "Epoch 5/10\n",
      "600/600 [==============================] - 5s 9ms/step - loss: 0.0366 - accuracy: 0.9883 - val_loss: 0.0361 - val_accuracy: 0.9895\n",
      "Epoch 6/10\n",
      "600/600 [==============================] - 5s 9ms/step - loss: 0.0334 - accuracy: 0.9899 - val_loss: 0.0387 - val_accuracy: 0.9891\n",
      "Epoch 7/10\n",
      "600/600 [==============================] - 5s 9ms/step - loss: 0.0299 - accuracy: 0.9910 - val_loss: 0.0409 - val_accuracy: 0.9898\n",
      "Epoch 8/10\n",
      "600/600 [==============================] - 5s 9ms/step - loss: 0.0256 - accuracy: 0.9922 - val_loss: 0.0370 - val_accuracy: 0.9908\n",
      "Epoch 9/10\n",
      "600/600 [==============================] - 5s 9ms/step - loss: 0.0279 - accuracy: 0.9914 - val_loss: 0.0381 - val_accuracy: 0.9893\n",
      "Epoch 10/10\n",
      "600/600 [==============================] - 5s 9ms/step - loss: 0.0256 - accuracy: 0.9923 - val_loss: 0.0324 - val_accuracy: 0.9920\n"
     ]
    },
    {
     "data": {
      "text/plain": [
       "<keras.callbacks.History at 0x2cb2c265340>"
      ]
     },
     "execution_count": 17,
     "metadata": {},
     "output_type": "execute_result"
    }
   ],
   "source": [
    "#Treinando o modelo\n",
    "modelo.fit(xtreino,ytreino,batch_size=100,epochs=10,validation_data=(xteste,yteste),verbose=1)"
   ]
  },
  {
   "cell_type": "code",
   "execution_count": null,
   "id": "c70983d5",
   "metadata": {},
   "outputs": [],
   "source": []
  }
 ],
 "metadata": {
  "kernelspec": {
   "display_name": "Python 3 (ipykernel)",
   "language": "python",
   "name": "python3"
  },
  "language_info": {
   "codemirror_mode": {
    "name": "ipython",
    "version": 3
   },
   "file_extension": ".py",
   "mimetype": "text/x-python",
   "name": "python",
   "nbconvert_exporter": "python",
   "pygments_lexer": "ipython3",
   "version": "3.9.7"
  }
 },
 "nbformat": 4,
 "nbformat_minor": 5
}
