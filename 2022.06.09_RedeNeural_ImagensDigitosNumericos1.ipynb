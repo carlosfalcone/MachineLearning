{
 "cells": [
  {
   "cell_type": "code",
   "execution_count": 1,
   "id": "1d643161",
   "metadata": {},
   "outputs": [],
   "source": [
    "import keras\n",
    "from keras.datasets import mnist\n",
    "import tensorflow as tf\n",
    "#ValueError: Creating variables on a non-first call to a function decorated with tf.function. ERRO OCORRIDO NA EXECUÇÃO\n",
    "#DO MODELO.FIT\n",
    "#tf.config.run_functions_eagerly(True) #linha de comando encontrada num forum da internet para solucionar a utilizaçao \n",
    "#tf.data.experimental.enable_debug_mode() #linhas de comando sugerida pelo proprio Jupyter durante a execução do modelo\n",
    "#Após carregar o modelo.fit na variavel historico, o erro acima nao apareceu mais!"
   ]
  },
  {
   "cell_type": "code",
   "execution_count": 2,
   "id": "5539cc55",
   "metadata": {},
   "outputs": [],
   "source": [
    "(xtreino,ytreino),(xteste,yteste)=mnist.load_data()"
   ]
  },
  {
   "cell_type": "code",
   "execution_count": 3,
   "id": "dcb061f5",
   "metadata": {
    "scrolled": true
   },
   "outputs": [],
   "source": [
    "#xtreino"
   ]
  },
  {
   "cell_type": "code",
   "execution_count": 4,
   "id": "dffe7030",
   "metadata": {},
   "outputs": [],
   "source": [
    "import pandas as pd\n",
    "pd.set_option('display.max_columns',784)\n",
    "#xtreinodf=pd.DataFrame(xtreino)\n",
    "#ValueError: Must pass 2-d input. shape=(60000, 28, 28)"
   ]
  },
  {
   "cell_type": "code",
   "execution_count": 5,
   "id": "e13a48d3",
   "metadata": {},
   "outputs": [
    {
     "data": {
      "text/plain": [
       "(60000, 28, 28)"
      ]
     },
     "execution_count": 5,
     "metadata": {},
     "output_type": "execute_result"
    }
   ],
   "source": [
    "xtreino.shape"
   ]
  },
  {
   "cell_type": "code",
   "execution_count": 6,
   "id": "32239f63",
   "metadata": {},
   "outputs": [
    {
     "data": {
      "text/plain": [
       "(10000, 28, 28)"
      ]
     },
     "execution_count": 6,
     "metadata": {},
     "output_type": "execute_result"
    }
   ],
   "source": [
    "xteste.shape"
   ]
  },
  {
   "cell_type": "code",
   "execution_count": 7,
   "id": "0ab9e957",
   "metadata": {},
   "outputs": [],
   "source": [
    "xtreinoremodelado=xtreino.reshape((60000,784))\n",
    "xtesteremodelado=xteste.reshape((10000,784))"
   ]
  },
  {
   "cell_type": "code",
   "execution_count": 8,
   "id": "65728a19",
   "metadata": {},
   "outputs": [],
   "source": [
    "#xtreinoremodelado"
   ]
  },
  {
   "cell_type": "code",
   "execution_count": 9,
   "id": "278442be",
   "metadata": {},
   "outputs": [
    {
     "data": {
      "text/plain": [
       "(60000, 784)"
      ]
     },
     "execution_count": 9,
     "metadata": {},
     "output_type": "execute_result"
    }
   ],
   "source": [
    "xtreinoremodelado.shape"
   ]
  },
  {
   "cell_type": "code",
   "execution_count": 10,
   "id": "dec82f4c",
   "metadata": {},
   "outputs": [
    {
     "data": {
      "text/plain": [
       "(10000, 784)"
      ]
     },
     "execution_count": 10,
     "metadata": {},
     "output_type": "execute_result"
    }
   ],
   "source": [
    "xtesteremodelado.shape"
   ]
  },
  {
   "cell_type": "code",
   "execution_count": 11,
   "id": "1bc931f2",
   "metadata": {},
   "outputs": [],
   "source": [
    "xtreinoremodeladodf=pd.DataFrame(xtreinoremodelado)\n",
    "xtesteremodeladodf=pd.DataFrame(xtesteremodelado)"
   ]
  },
  {
   "cell_type": "code",
   "execution_count": 12,
   "id": "fba4262c",
   "metadata": {},
   "outputs": [],
   "source": [
    "#xtreinoremodeladodf"
   ]
  },
  {
   "cell_type": "code",
   "execution_count": 13,
   "id": "524da5f6",
   "metadata": {
    "scrolled": true
   },
   "outputs": [],
   "source": [
    "#xtreinoremodelado[0]"
   ]
  },
  {
   "cell_type": "code",
   "execution_count": 14,
   "id": "ec3e193c",
   "metadata": {},
   "outputs": [],
   "source": [
    "#xtreinoremodeladodf.describe()"
   ]
  },
  {
   "cell_type": "code",
   "execution_count": 15,
   "id": "b87f734c",
   "metadata": {},
   "outputs": [
    {
     "data": {
      "text/plain": [
       "255"
      ]
     },
     "execution_count": 15,
     "metadata": {},
     "output_type": "execute_result"
    }
   ],
   "source": [
    "xtreinoremodeladodf.values.max()"
   ]
  },
  {
   "cell_type": "code",
   "execution_count": 16,
   "id": "3c350c02",
   "metadata": {},
   "outputs": [
    {
     "data": {
      "text/plain": [
       "<matplotlib.image.AxesImage at 0x1cc072e9ee0>"
      ]
     },
     "execution_count": 16,
     "metadata": {},
     "output_type": "execute_result"
    },
    {
     "data": {
      "image/png": "[encoded data removed]",
      "text/plain": [
       "<Figure size 432x288 with 1 Axes>"
      ]
     },
     "metadata": {
      "needs_background": "light"
     },
     "output_type": "display_data"
    }
   ],
   "source": [
    "import matplotlib.pyplot as plt\n",
    "plt.imshow(xtreino[0],cmap='gray')"
   ]
  },
  {
   "cell_type": "code",
   "execution_count": 17,
   "id": "c4eea347",
   "metadata": {},
   "outputs": [],
   "source": [
    "#import matplotlib.pyplot as plt\n",
    "#plt.imshow(xtreinoremodeladodf[1],cmap='gray')\n",
    "#TypeError: Invalid shape (60000,) for image data"
   ]
  },
  {
   "cell_type": "code",
   "execution_count": 18,
   "id": "87285544",
   "metadata": {},
   "outputs": [
    {
     "data": {
      "text/plain": [
       "pandas.core.frame.DataFrame"
      ]
     },
     "execution_count": 18,
     "metadata": {},
     "output_type": "execute_result"
    }
   ],
   "source": [
    "type(xtreinoremodeladodf)"
   ]
  },
  {
   "cell_type": "code",
   "execution_count": 19,
   "id": "40c5107a",
   "metadata": {},
   "outputs": [],
   "source": [
    "#Normalização dos dados\n",
    "xtreinoremodeladodfnorm=xtreinoremodeladodf.astype('float32')/255\n",
    "xtesteremodeladodfnorm=xtesteremodeladodf.astype('float32')/255"
   ]
  },
  {
   "cell_type": "code",
   "execution_count": 20,
   "id": "ceadf339",
   "metadata": {},
   "outputs": [],
   "source": [
    "#xtreinoremodeladodfnorm.describe()"
   ]
  },
  {
   "cell_type": "code",
   "execution_count": 21,
   "id": "33ac9352",
   "metadata": {},
   "outputs": [
    {
     "data": {
      "text/plain": [
       "array([5, 0, 4, ..., 5, 6, 8], dtype=uint8)"
      ]
     },
     "execution_count": 21,
     "metadata": {},
     "output_type": "execute_result"
    }
   ],
   "source": [
    "ytreino"
   ]
  },
  {
   "cell_type": "code",
   "execution_count": 22,
   "id": "028fdf48",
   "metadata": {},
   "outputs": [],
   "source": [
    "ytreinoS=pd.Series(ytreino)\n",
    "#ytreino.values.count()"
   ]
  },
  {
   "cell_type": "code",
   "execution_count": 23,
   "id": "2a3d351b",
   "metadata": {},
   "outputs": [
    {
     "data": {
      "text/plain": [
       "pandas.core.series.Series"
      ]
     },
     "execution_count": 23,
     "metadata": {},
     "output_type": "execute_result"
    }
   ],
   "source": [
    "type(ytreinoS)"
   ]
  },
  {
   "cell_type": "code",
   "execution_count": 24,
   "id": "8c4f933a",
   "metadata": {},
   "outputs": [
    {
     "data": {
      "text/plain": [
       "1    6742\n",
       "7    6265\n",
       "3    6131\n",
       "2    5958\n",
       "9    5949\n",
       "0    5923\n",
       "6    5918\n",
       "8    5851\n",
       "4    5842\n",
       "5    5421\n",
       "dtype: int64"
      ]
     },
     "execution_count": 24,
     "metadata": {},
     "output_type": "execute_result"
    }
   ],
   "source": [
    "ytreinoS.value_counts()"
   ]
  },
  {
   "cell_type": "code",
   "execution_count": 93,
   "id": "57174985",
   "metadata": {},
   "outputs": [],
   "source": [
    "from keras.models import Sequential\n",
    "from keras.layers import Dense, Activation\n",
    "from keras.optimizers import SGD\n",
    "from keras.optimizers import Adadelta\n",
    "from keras.optimizers import Nadam\n",
    "from keras.optimizers import Adagrad\n",
    "from keras.optimizers import RMSprop\n",
    "from keras.layers import Dropout\n",
    "from keras.layers import ActivityRegularization\n",
    "from keras import regularizers #Linha de comando utilizada pelo Natanael"
   ]
  },
  {
   "cell_type": "code",
   "execution_count": 108,
   "id": "590d508a",
   "metadata": {},
   "outputs": [],
   "source": [
    "#Criaçao da rede neural\n",
    "modelo=Sequential()\n",
    "modelo.add(Dense(30, input_dim=784, kernel_initializer='normal', activation='relu',kernel_regularizer=regularizers.l2(0.01)))\n",
    "                 #,activity_regularizer='l2'))\n",
    "#modelo.add(Dropout(0.05))\n",
    "modelo.add(Dense(30, kernel_initializer='normal', activation='relu'))\n",
    "#, kernel_regularizer='l2'))\n",
    "modelo.add(Dense(10, kernel_initializer='normal', activation='softmax'))\n",
    "#Utilizar regularização nas camadas para evitar overfitting dos dados de treino\n",
    "#Para utilizar o Dropout é necessario carregar a biblioteca Dropout from keras.layers\n",
    "#Usando o RMSprop com o Dropout de 0.05 nao ocorreu overfitting\n",
    "#kernel_regularizer funcionou melhor que o activity_regularizer... Essas opçoes sao obtidas utilizando-se a tecla TAB\n",
    "#dentro do modelo.add"
   ]
  },
  {
   "cell_type": "code",
   "execution_count": 109,
   "id": "f491d31f",
   "metadata": {},
   "outputs": [],
   "source": [
    "otimiza=RMSprop()\n",
    "#SGD com momentum=0.9 atinge valores altos de acuracia\n",
    "#Para otimizador Adadelta, utilizar o learning_rate=1.0\n",
    "#Para otimizador Adagrad, utilizar o learning_rate=0.5. Nao testei muitos valores..."
   ]
  },
  {
   "cell_type": "code",
   "execution_count": 110,
   "id": "72fe2689",
   "metadata": {},
   "outputs": [],
   "source": [
    "modelo.compile(loss='categorical_crossentropy', optimizer=otimiza, metrics=['acc'])"
   ]
  },
  {
   "cell_type": "code",
   "execution_count": 111,
   "id": "4d4f620b",
   "metadata": {},
   "outputs": [],
   "source": [
    "#one hot enconding para a variavel de saida (target)\n",
    "from keras.utils import np_utils\n",
    "ytreinoconvert=np_utils.to_categorical(ytreino)\n",
    "ytesteconvert=np_utils.to_categorical(yteste)"
   ]
  },
  {
   "cell_type": "code",
   "execution_count": 112,
   "id": "993df652",
   "metadata": {},
   "outputs": [
    {
     "data": {
      "text/plain": [
       "(60000, 10)"
      ]
     },
     "execution_count": 112,
     "metadata": {},
     "output_type": "execute_result"
    }
   ],
   "source": [
    "ytreinoconvert.shape"
   ]
  },
  {
   "cell_type": "code",
   "execution_count": 113,
   "id": "841f23b7",
   "metadata": {
    "scrolled": true
   },
   "outputs": [
    {
     "name": "stdout",
     "output_type": "stream",
     "text": [
      "Epoch 1/10\n",
      "300/300 [==============================] - 1s 3ms/step - loss: 1.1850 - acc: 0.7316 - val_loss: 0.6465 - val_acc: 0.8725\n",
      "Epoch 2/10\n",
      "300/300 [==============================] - 1s 2ms/step - loss: 0.5726 - acc: 0.8799 - val_loss: 0.4882 - val_acc: 0.8955\n",
      "Epoch 3/10\n",
      "300/300 [==============================] - 1s 2ms/step - loss: 0.4638 - acc: 0.8982 - val_loss: 0.4220 - val_acc: 0.9029\n",
      "Epoch 4/10\n",
      "300/300 [==============================] - 1s 2ms/step - loss: 0.4007 - acc: 0.9114 - val_loss: 0.3626 - val_acc: 0.9192\n",
      "Epoch 5/10\n",
      "300/300 [==============================] - 1s 2ms/step - loss: 0.3549 - acc: 0.9229 - val_loss: 0.3609 - val_acc: 0.9207\n",
      "Epoch 6/10\n",
      "300/300 [==============================] - 1s 2ms/step - loss: 0.3194 - acc: 0.9316 - val_loss: 0.2853 - val_acc: 0.9399\n",
      "Epoch 7/10\n",
      "300/300 [==============================] - 1s 2ms/step - loss: 0.2930 - acc: 0.9380 - val_loss: 0.2744 - val_acc: 0.9404\n",
      "Epoch 8/10\n",
      "300/300 [==============================] - 1s 2ms/step - loss: 0.2730 - acc: 0.9420 - val_loss: 0.2680 - val_acc: 0.9413\n",
      "Epoch 9/10\n",
      "300/300 [==============================] - 1s 2ms/step - loss: 0.2579 - acc: 0.9462 - val_loss: 0.2424 - val_acc: 0.9482\n",
      "Epoch 10/10\n",
      "300/300 [==============================] - 1s 2ms/step - loss: 0.2461 - acc: 0.9481 - val_loss: 0.2402 - val_acc: 0.9496\n"
     ]
    }
   ],
   "source": [
    "historico=modelo.fit(xtreinoremodeladodfnorm, ytreinoconvert, epochs=10, batch_size=200, \n",
    "           validation_data=(xtesteremodeladodfnorm, ytesteconvert),\n",
    "          verbose=1)"
   ]
  },
  {
   "cell_type": "code",
   "execution_count": 114,
   "id": "f544dab5",
   "metadata": {},
   "outputs": [
    {
     "data": {
      "image/png": "[encoded data removed]",
      "text/plain": [
       "<Figure size 432x288 with 1 Axes>"
      ]
     },
     "metadata": {
      "needs_background": "light"
     },
     "output_type": "display_data"
    }
   ],
   "source": [
    "acuraciatreino=historico.history['acc']\n",
    "acuraciateste=historico.history['val_acc']\n",
    "epocas=range(1,len(acuraciateste)+1) #+1 para começar do 1 e nao do 0\n",
    "plt.plot(epocas, acuraciatreino, '-g', label='Acuracia Treino')\n",
    "plt.plot(epocas, acuraciateste, '-b', label='Acuracia Teste')\n",
    "plt.legend()\n",
    "plt.xlabel('Epochs')\n",
    "plt.ylabel('Acuracia')\n",
    "plt.show() #Linha de comando opcional\n",
    "#Comnparaçao da acuracia dos dados de treino x dados de teste é importante para verificar se esta ocorrendo oferfitting nos\n",
    "#dados de treino"
   ]
  },
  {
   "cell_type": "code",
   "execution_count": null,
   "id": "0937d18f",
   "metadata": {},
   "outputs": [],
   "source": []
  }
 ],
 "metadata": {
  "kernelspec": {
   "display_name": "Python 3 (ipykernel)",
   "language": "python",
   "name": "python3"
  },
  "language_info": {
   "codemirror_mode": {
    "name": "ipython",
    "version": 3
   },
   "file_extension": ".py",
   "mimetype": "text/x-python",
   "name": "python",
   "nbconvert_exporter": "python",
   "pygments_lexer": "ipython3",
   "version": "3.9.7"
  }
 },
 "nbformat": 4,
 "nbformat_minor": 5
}
