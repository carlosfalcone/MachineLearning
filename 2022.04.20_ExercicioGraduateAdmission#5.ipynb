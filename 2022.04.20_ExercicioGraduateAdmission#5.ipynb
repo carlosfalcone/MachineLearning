{
 "cells": [
  {
   "cell_type": "code",
   "execution_count": 1,
   "id": "cec16436",
   "metadata": {},
   "outputs": [],
   "source": [
    "#2022.04.20 \n",
    "import pandas as pd\n",
    "from matplotlib import pyplot as plt\n",
    "import numpy as np\n",
    "import seaborn as sns\n",
    "#pd.set_option('display.max_columns', 30)\n",
    "dados = pd.read_csv('C:/Users/Falcone/Documents/0_MachineLearning/2022.04.18_ExercicioGraduateAdmision/Admission_Predict.csv')\n",
    "#dados.head() #Mostra somente as 5 primeiras linhas dos dados\n",
    "##v1_dados #Mostra as primeiras e ultimas linhas dos dados"
   ]
  },
  {
   "cell_type": "code",
   "execution_count": 2,
   "id": "ecc8ddcf",
   "metadata": {},
   "outputs": [],
   "source": [
    "#dados.dtypes"
   ]
  },
  {
   "cell_type": "code",
   "execution_count": 3,
   "id": "03c3364a",
   "metadata": {},
   "outputs": [],
   "source": [
    "#faltantes = dados.isnull().sum()\n",
    "#print(faltantes)"
   ]
  },
  {
   "cell_type": "code",
   "execution_count": 4,
   "id": "9057f2c9",
   "metadata": {},
   "outputs": [],
   "source": [
    "dados.drop('Serial No.', axis = 1, inplace=True)"
   ]
  },
  {
   "cell_type": "code",
   "execution_count": 5,
   "id": "e4c1f54c",
   "metadata": {},
   "outputs": [],
   "source": [
    "dados_x = dados.drop('ChanceOfAdmit ', axis = 1) #Olhando o exercicio resolvido pelo Natanael, identifiquei que tinha...\n",
    "#...um espaço ao final do nome da caracteristica ChanceOfAdmit. Após incluir este espaço após o nome, esta linha de comando...\n",
    "#...funcionou!!!! FICAR ESPERTO COM ESSE TIPO DE COISA!!!!\n",
    "dados_y = dados['ChanceOfAdmit ']"
   ]
  },
  {
   "cell_type": "code",
   "execution_count": 6,
   "id": "4a5f3eb0",
   "metadata": {},
   "outputs": [],
   "source": [
    "from sklearn.model_selection import GridSearchCV\n",
    "from sklearn.linear_model import ElasticNet"
   ]
  },
  {
   "cell_type": "code",
   "execution_count": 7,
   "id": "98cfae83",
   "metadata": {},
   "outputs": [],
   "source": [
    "valores = {'alpha': [0.1,0.5,1,2,5,10,25,50,100,200,300,500,750,1000,1500,2000,3000,5000], 'l1_ratio':[0.02,0.05,0.1,0.2,0.3,0.4,0.5,0.6,0.7,0.8,0.9]}"
   ]
  },
  {
   "cell_type": "code",
   "execution_count": 8,
   "id": "5647bf02",
   "metadata": {},
   "outputs": [
    {
     "name": "stdout",
     "output_type": "stream",
     "text": [
      "Melhor score: 0.7408292165331448\n",
      "Melhor alpha: 0.1\n",
      "Melhor l1_ratio: 0.02\n"
     ]
    }
   ],
   "source": [
    "modelo = ElasticNet()\n",
    "procura = GridSearchCV(estimator=modelo, param_grid=valores, cv=5)\n",
    "procura.fit(dados_x, dados_y)\n",
    "print('Melhor score:', procura.best_score_)\n",
    "print('Melhor alpha:', procura.best_estimator_.alpha)\n",
    "print('Melhor l1_ratio:', procura.best_estimator_.l1_ratio)"
   ]
  },
  {
   "cell_type": "code",
   "execution_count": null,
   "id": "7236bb4d",
   "metadata": {},
   "outputs": [],
   "source": []
  }
 ],
 "metadata": {
  "kernelspec": {
   "display_name": "Python 3 (ipykernel)",
   "language": "python",
   "name": "python3"
  },
  "language_info": {
   "codemirror_mode": {
    "name": "ipython",
    "version": 3
   },
   "file_extension": ".py",
   "mimetype": "text/x-python",
   "name": "python",
   "nbconvert_exporter": "python",
   "pygments_lexer": "ipython3",
   "version": "3.9.7"
  }
 },
 "nbformat": 4,
 "nbformat_minor": 5
}
