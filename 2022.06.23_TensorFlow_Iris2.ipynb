{
 "cells": [
  {
   "cell_type": "code",
   "execution_count": 1,
   "id": "0cfe944c",
   "metadata": {},
   "outputs": [],
   "source": [
    "from sklearn.datasets import load_iris\n",
    "dados=load_iris()"
   ]
  },
  {
   "cell_type": "code",
   "execution_count": 2,
   "id": "02824426",
   "metadata": {},
   "outputs": [],
   "source": [
    "#dados"
   ]
  },
  {
   "cell_type": "code",
   "execution_count": 3,
   "id": "711eed39",
   "metadata": {},
   "outputs": [],
   "source": [
    "import pandas as pd\n",
    "dadosx=pd.DataFrame(dados.data, columns=dados.feature_names)"
   ]
  },
  {
   "cell_type": "code",
   "execution_count": 4,
   "id": "92cfa659",
   "metadata": {},
   "outputs": [],
   "source": [
    "dadosy=pd.Series(dados.target)"
   ]
  },
  {
   "cell_type": "code",
   "execution_count": 5,
   "id": "ca719503",
   "metadata": {},
   "outputs": [],
   "source": [
    "dadosyencode=pd.get_dummies(dadosy)"
   ]
  },
  {
   "cell_type": "code",
   "execution_count": 6,
   "id": "a133f60d",
   "metadata": {},
   "outputs": [],
   "source": [
    "dadosyencode.columns=['setosa', 'versicolor', 'virginica']"
   ]
  },
  {
   "cell_type": "code",
   "execution_count": 7,
   "id": "b2fb15fd",
   "metadata": {},
   "outputs": [],
   "source": [
    "from sklearn.model_selection import train_test_split\n",
    "xtreino, xteste, ytreino, yteste=train_test_split(dadosx, dadosyencode, test_size=0.3, random_state=5, shuffle=True)"
   ]
  },
  {
   "cell_type": "code",
   "execution_count": 8,
   "id": "c5858eae",
   "metadata": {},
   "outputs": [
    {
     "data": {
      "text/plain": [
       "(105, 4)"
      ]
     },
     "execution_count": 8,
     "metadata": {},
     "output_type": "execute_result"
    }
   ],
   "source": [
    "xtreino.shape"
   ]
  },
  {
   "cell_type": "code",
   "execution_count": 9,
   "id": "80375eaf",
   "metadata": {},
   "outputs": [],
   "source": [
    "import tensorflow as tf"
   ]
  },
  {
   "cell_type": "code",
   "execution_count": 10,
   "id": "029c27b4",
   "metadata": {},
   "outputs": [],
   "source": [
    "#Parametros gerais\n",
    "learningrate=0.001\n",
    "#epochs=10\n",
    "batch_size=105"
   ]
  },
  {
   "cell_type": "code",
   "execution_count": 11,
   "id": "da6ce748",
   "metadata": {},
   "outputs": [],
   "source": [
    "#Parametros da rede neural\n",
    "nentrada=4\n",
    "ncamada1=10\n",
    "nclasses=3"
   ]
  },
  {
   "cell_type": "code",
   "execution_count": 12,
   "id": "ad522476",
   "metadata": {},
   "outputs": [],
   "source": [
    "#pesos e bias da camada1\n",
    "w1=tf.Variable(tf.random.normal([nentrada,ncamada1],0,0.05, tf.float64)) #media 0, desvio padrao 0.05\n",
    "b1=tf.Variable(tf.zeros([ncamada1], tf.float64))\n",
    "#pesos e bias da camada de saida\n",
    "wout=tf.Variable(tf.random.normal([ncamada1,nclasses],0,0.05, tf.float64))\n",
    "bout=tf.Variable(tf.zeros([nclasses], tf.float64))"
   ]
  },
  {
   "cell_type": "code",
   "execution_count": 13,
   "id": "9bc22fb2",
   "metadata": {},
   "outputs": [
    {
     "data": {
      "text/plain": [
       "<tf.Variable 'Variable:0' shape=(10,) dtype=float64, numpy=array([0., 0., 0., 0., 0., 0., 0., 0., 0., 0.])>"
      ]
     },
     "execution_count": 13,
     "metadata": {},
     "output_type": "execute_result"
    }
   ],
   "source": [
    "b1"
   ]
  },
  {
   "cell_type": "code",
   "execution_count": 13,
   "id": "538c939b",
   "metadata": {},
   "outputs": [
    {
     "data": {
      "text/plain": [
       "<tensorflow.python.eager.def_function.Function at 0x253ed8f5310>"
      ]
     },
     "execution_count": 13,
     "metadata": {},
     "output_type": "execute_result"
    }
   ],
   "source": [
    "#Função de custo\n",
    "#custo=tf.reduce_mean(tf.nn.softmax_cross_entropy_with_logits(logits=saida,labels=ytreino))\n",
    "@tf.function\n",
    "def cost(w1, b1, wout, bout):\n",
    "    #Pesos da camada1\n",
    "    layer1=tf.nn.relu(tf.add(tf.matmul(xtreino,w1),b1))\n",
    "    #Camada de saida\n",
    "    saida=tf.add(tf.matmul(layer1,wout),bout) #sem função de classificaçao dos valores na saida, ex: softmax\n",
    "    \n",
    "    error = tf.reduce_mean(tf.nn.softmax_cross_entropy_with_logits(logits=saida, labels=ytreino))\n",
    "    return error\n",
    "cost"
   ]
  },
  {
   "cell_type": "code",
   "execution_count": 14,
   "id": "052e472f",
   "metadata": {},
   "outputs": [
    {
     "data": {
      "text/plain": [
       "<tf.Tensor: shape=(), dtype=float64, numpy=1.097649498357425>"
      ]
     },
     "execution_count": 14,
     "metadata": {},
     "output_type": "execute_result"
    }
   ],
   "source": [
    "cost(w1, b1, wout, bout)"
   ]
  },
  {
   "cell_type": "code",
   "execution_count": 15,
   "id": "6b8872f4",
   "metadata": {},
   "outputs": [],
   "source": [
    "#Otimizador\n",
    "#optimizer = tf.optimizers.SGD(learning_rate=0.01)\n",
    "optimizer = tf.optimizers.Adam() #O otimizador Adam minimizou a oscilaçao na acurácia"
   ]
  },
  {
   "cell_type": "code",
   "execution_count": 16,
   "id": "c6c97d19",
   "metadata": {},
   "outputs": [],
   "source": [
    "trainable_vars = [w1,b1,wout,bout]"
   ]
  },
  {
   "cell_type": "code",
   "execution_count": 17,
   "id": "d75d8e1f",
   "metadata": {},
   "outputs": [
    {
     "data": {
      "image/png": "[encoded data removed]",
      "text/plain": [
       "<Figure size 432x288 with 1 Axes>"
      ]
     },
     "metadata": {
      "needs_background": "light"
     },
     "output_type": "display_data"
    }
   ],
   "source": [
    "import matplotlib.pyplot as plt\n",
    "x=[]\n",
    "y=0\n",
    "listacusto=[]\n",
    "epochs = 500 #(or however many iterations you want it to run)\n",
    "for _ in range(epochs):\n",
    "    y=y+1\n",
    "    x.append(y)\n",
    "    with tf.GradientTape() as tp:\n",
    "        #print('b1antes:',b1)\n",
    "        #print('w1antes:',w1)\n",
    "        #your loss/cost function must always be contained within the gradient tape instantiation\n",
    "        cost_fn = cost(w1,b1,wout,bout)\n",
    "        listacusto.append(cost_fn)\n",
    "        plt.plot(x, listacusto, '-g', label='Custo')\n",
    "    gradients = tp.gradient(cost_fn, trainable_vars)\n",
    "    optimizer.apply_gradients(zip(gradients, trainable_vars))\n",
    "    #print('custo:',cost_fn)\n",
    "    #print('w1depois:',w1)\n",
    "    #print('b1depois:',b1)\n",
    "    #print('wout:',wout)\n",
    "    #print('bout:',bout)"
   ]
  },
  {
   "cell_type": "code",
   "execution_count": 18,
   "id": "fdcafaff",
   "metadata": {},
   "outputs": [
    {
     "data": {
      "text/plain": [
       "<tf.Tensor: shape=(), dtype=float64, numpy=1.0>"
      ]
     },
     "execution_count": 18,
     "metadata": {},
     "output_type": "execute_result"
    }
   ],
   "source": [
    "#Calcular a acurácia do modelo\n",
    "#Calcular as previsoes do modelo e comparar com os yteste\n",
    "layer1=tf.nn.relu(tf.add(tf.matmul(xteste,w1),b1))\n",
    "#saida=tf.round(tf.nn.softmax(tf.add(tf.matmul(layer1,wout),bout))) função round\n",
    "#saida=tf.add(tf.matmul(layer1,wout),bout)\n",
    "saida=tf.nn.softmax(tf.add(tf.matmul(layer1,wout),bout))\n",
    "tf.reduce_sum(saida[0, :]) # Each sample in the batch now sums to 1\n",
    "#tf.round(tf.nn.sigmoid([saida]))\n",
    "#tf.round(tf.nn.sigmoid([.1])) #If you want to round the values to get 0 or 1, use tf.round:"
   ]
  },
  {
   "cell_type": "code",
   "execution_count": 19,
   "id": "ff46e29f",
   "metadata": {
    "scrolled": true
   },
   "outputs": [
    {
     "data": {
      "text/plain": [
       "<tf.Tensor: shape=(45, 3), dtype=float64, numpy=\n",
       "array([[6.45003040e-02, 6.87676813e-01, 2.47822883e-01],\n",
       "       [4.54888704e-03, 2.79066042e-01, 7.16385071e-01],\n",
       "       [2.79655623e-03, 2.05140706e-01, 7.92062738e-01],\n",
       "       [9.57513204e-01, 4.17413921e-02, 7.45403485e-04],\n",
       "       [1.66797731e-03, 2.09443397e-01, 7.88888626e-01],\n",
       "       [1.27563777e-01, 6.75677446e-01, 1.96758777e-01],\n",
       "       [9.37635548e-01, 6.12027553e-02, 1.16169644e-03],\n",
       "       [1.70435238e-02, 4.81757632e-01, 5.01198844e-01],\n",
       "       [9.19439538e-01, 7.88306230e-02, 1.72983940e-03],\n",
       "       [2.86541483e-02, 5.41936669e-01, 4.29409183e-01],\n",
       "       [2.88404031e-02, 5.58614161e-01, 4.12545436e-01],\n",
       "       [1.09070873e-02, 4.29315930e-01, 5.59776983e-01],\n",
       "       [1.89717102e-03, 2.19094618e-01, 7.79008211e-01],\n",
       "       [1.40216494e-03, 1.96124668e-01, 8.02473167e-01],\n",
       "       [9.36753024e-01, 6.20125212e-02, 1.23445523e-03],\n",
       "       [9.08343301e-01, 8.94714180e-02, 2.18528074e-03],\n",
       "       [8.65959758e-03, 3.87701830e-01, 6.03638573e-01],\n",
       "       [1.48689399e-03, 2.05726414e-01, 7.92786692e-01],\n",
       "       [9.61726272e-01, 3.77265320e-02, 5.47196062e-04],\n",
       "       [9.44973227e-01, 5.40514872e-02, 9.75286126e-04],\n",
       "       [5.63467086e-02, 6.91804692e-01, 2.51848599e-01],\n",
       "       [2.13504242e-03, 2.02217460e-01, 7.95647498e-01],\n",
       "       [9.70234017e-01, 2.94261972e-02, 3.39785372e-04],\n",
       "       [1.02634392e-02, 4.17702140e-01, 5.72034421e-01],\n",
       "       [6.19327034e-02, 6.65909432e-01, 2.72157865e-01],\n",
       "       [4.66814587e-03, 2.86820298e-01, 7.08511556e-01],\n",
       "       [4.19266925e-02, 6.82313546e-01, 2.75759762e-01],\n",
       "       [4.64495896e-02, 6.52301241e-01, 3.01249170e-01],\n",
       "       [2.31754861e-02, 5.56198234e-01, 4.20626280e-01],\n",
       "       [1.82505059e-03, 1.86466982e-01, 8.11707967e-01],\n",
       "       [9.56674033e-01, 4.26867512e-02, 6.39216266e-04],\n",
       "       [3.33333816e-02, 5.76659911e-01, 3.90006707e-01],\n",
       "       [1.29609035e-01, 7.03872880e-01, 1.66518085e-01],\n",
       "       [9.70195069e-01, 2.94751925e-02, 3.29738338e-04],\n",
       "       [3.11746660e-02, 6.80114733e-01, 2.88710601e-01],\n",
       "       [9.56973361e-01, 4.23862839e-02, 6.40354685e-04],\n",
       "       [9.28407174e-01, 7.00529829e-02, 1.53984291e-03],\n",
       "       [1.09485802e-03, 1.86308846e-01, 8.12596296e-01],\n",
       "       [9.66711109e-01, 3.28560983e-02, 4.32793133e-04],\n",
       "       [4.34513523e-03, 2.87343059e-01, 7.08311806e-01],\n",
       "       [5.23520561e-03, 2.80832089e-01, 7.13932705e-01],\n",
       "       [5.56588081e-02, 6.73031489e-01, 2.71309703e-01],\n",
       "       [9.61973842e-01, 3.75033403e-02, 5.22817388e-04],\n",
       "       [9.70138789e-01, 2.94900363e-02, 3.71174845e-04],\n",
       "       [2.13850485e-02, 5.71278993e-01, 4.07335958e-01]])>"
      ]
     },
     "execution_count": 19,
     "metadata": {},
     "output_type": "execute_result"
    }
   ],
   "source": [
    "#A função round deixou o array com um aspecto mais facil de ler, porem ainda nao reduziu os valores em 0 ou 1\n",
    "#Algumas previsoes ficaram apenas com zeros...\n",
    "saida"
   ]
  },
  {
   "cell_type": "code",
   "execution_count": 20,
   "id": "c4aa539b",
   "metadata": {},
   "outputs": [
    {
     "data": {
      "text/plain": [
       "TensorShape([45, 3])"
      ]
     },
     "execution_count": 20,
     "metadata": {},
     "output_type": "execute_result"
    }
   ],
   "source": [
    "saida.shape"
   ]
  },
  {
   "cell_type": "code",
   "execution_count": 21,
   "id": "c885f10f",
   "metadata": {},
   "outputs": [
    {
     "data": {
      "text/plain": [
       "<tf.Tensor: shape=(), dtype=float64, numpy=0.7163850708780228>"
      ]
     },
     "execution_count": 21,
     "metadata": {},
     "output_type": "execute_result"
    }
   ],
   "source": [
    "#teste identificaçao dos valores numa matriz\n",
    "saida[1,2]"
   ]
  },
  {
   "cell_type": "code",
   "execution_count": 22,
   "id": "7c30e6bc",
   "metadata": {},
   "outputs": [],
   "source": [
    "#teste \n",
    "import numpy as np\n",
    "saida2=np.array([[0.3, 0.5, 0.2],[0.5,0.3,0.2],[0.2,0.3,0.5]])"
   ]
  },
  {
   "cell_type": "code",
   "execution_count": 23,
   "id": "0f512e47",
   "metadata": {},
   "outputs": [
    {
     "data": {
      "text/plain": [
       "array([[0.3, 0.5, 0.2],\n",
       "       [0.5, 0.3, 0.2],\n",
       "       [0.2, 0.3, 0.5]])"
      ]
     },
     "execution_count": 23,
     "metadata": {},
     "output_type": "execute_result"
    }
   ],
   "source": [
    "saida2"
   ]
  },
  {
   "cell_type": "code",
   "execution_count": 24,
   "id": "3d966183",
   "metadata": {},
   "outputs": [
    {
     "data": {
      "text/plain": [
       "0.2"
      ]
     },
     "execution_count": 24,
     "metadata": {},
     "output_type": "execute_result"
    }
   ],
   "source": [
    "saida2[0,2]"
   ]
  },
  {
   "cell_type": "code",
   "execution_count": 25,
   "id": "829a8843",
   "metadata": {},
   "outputs": [],
   "source": [
    "saida2=np.array(saida)"
   ]
  },
  {
   "cell_type": "code",
   "execution_count": 26,
   "id": "41b65f56",
   "metadata": {
    "scrolled": true
   },
   "outputs": [
    {
     "data": {
      "text/plain": [
       "array([[6.45003040e-02, 6.87676813e-01, 2.47822883e-01],\n",
       "       [4.54888704e-03, 2.79066042e-01, 7.16385071e-01],\n",
       "       [2.79655623e-03, 2.05140706e-01, 7.92062738e-01],\n",
       "       [9.57513204e-01, 4.17413921e-02, 7.45403485e-04],\n",
       "       [1.66797731e-03, 2.09443397e-01, 7.88888626e-01],\n",
       "       [1.27563777e-01, 6.75677446e-01, 1.96758777e-01],\n",
       "       [9.37635548e-01, 6.12027553e-02, 1.16169644e-03],\n",
       "       [1.70435238e-02, 4.81757632e-01, 5.01198844e-01],\n",
       "       [9.19439538e-01, 7.88306230e-02, 1.72983940e-03],\n",
       "       [2.86541483e-02, 5.41936669e-01, 4.29409183e-01],\n",
       "       [2.88404031e-02, 5.58614161e-01, 4.12545436e-01],\n",
       "       [1.09070873e-02, 4.29315930e-01, 5.59776983e-01],\n",
       "       [1.89717102e-03, 2.19094618e-01, 7.79008211e-01],\n",
       "       [1.40216494e-03, 1.96124668e-01, 8.02473167e-01],\n",
       "       [9.36753024e-01, 6.20125212e-02, 1.23445523e-03],\n",
       "       [9.08343301e-01, 8.94714180e-02, 2.18528074e-03],\n",
       "       [8.65959758e-03, 3.87701830e-01, 6.03638573e-01],\n",
       "       [1.48689399e-03, 2.05726414e-01, 7.92786692e-01],\n",
       "       [9.61726272e-01, 3.77265320e-02, 5.47196062e-04],\n",
       "       [9.44973227e-01, 5.40514872e-02, 9.75286126e-04],\n",
       "       [5.63467086e-02, 6.91804692e-01, 2.51848599e-01],\n",
       "       [2.13504242e-03, 2.02217460e-01, 7.95647498e-01],\n",
       "       [9.70234017e-01, 2.94261972e-02, 3.39785372e-04],\n",
       "       [1.02634392e-02, 4.17702140e-01, 5.72034421e-01],\n",
       "       [6.19327034e-02, 6.65909432e-01, 2.72157865e-01],\n",
       "       [4.66814587e-03, 2.86820298e-01, 7.08511556e-01],\n",
       "       [4.19266925e-02, 6.82313546e-01, 2.75759762e-01],\n",
       "       [4.64495896e-02, 6.52301241e-01, 3.01249170e-01],\n",
       "       [2.31754861e-02, 5.56198234e-01, 4.20626280e-01],\n",
       "       [1.82505059e-03, 1.86466982e-01, 8.11707967e-01],\n",
       "       [9.56674033e-01, 4.26867512e-02, 6.39216266e-04],\n",
       "       [3.33333816e-02, 5.76659911e-01, 3.90006707e-01],\n",
       "       [1.29609035e-01, 7.03872880e-01, 1.66518085e-01],\n",
       "       [9.70195069e-01, 2.94751925e-02, 3.29738338e-04],\n",
       "       [3.11746660e-02, 6.80114733e-01, 2.88710601e-01],\n",
       "       [9.56973361e-01, 4.23862839e-02, 6.40354685e-04],\n",
       "       [9.28407174e-01, 7.00529829e-02, 1.53984291e-03],\n",
       "       [1.09485802e-03, 1.86308846e-01, 8.12596296e-01],\n",
       "       [9.66711109e-01, 3.28560983e-02, 4.32793133e-04],\n",
       "       [4.34513523e-03, 2.87343059e-01, 7.08311806e-01],\n",
       "       [5.23520561e-03, 2.80832089e-01, 7.13932705e-01],\n",
       "       [5.56588081e-02, 6.73031489e-01, 2.71309703e-01],\n",
       "       [9.61973842e-01, 3.75033403e-02, 5.22817388e-04],\n",
       "       [9.70138789e-01, 2.94900363e-02, 3.71174845e-04],\n",
       "       [2.13850485e-02, 5.71278993e-01, 4.07335958e-01]])"
      ]
     },
     "execution_count": 26,
     "metadata": {},
     "output_type": "execute_result"
    }
   ],
   "source": [
    "saida2"
   ]
  },
  {
   "cell_type": "code",
   "execution_count": 27,
   "id": "d54c1441",
   "metadata": {
    "scrolled": true
   },
   "outputs": [],
   "source": [
    "#Conversao da matriz saida: valores de probabilidades em 0 ou 1\n",
    "for i in range(45):\n",
    "    if saida2[i,0] > saida2[i,1] and saida2[i,0] > saida2[i,2]:\n",
    "        saida2[i,0]=1\n",
    "        saida2[i,1]=0\n",
    "        saida2[i,2]=0\n",
    "    if saida2[i,1] > saida2[i,0] and saida2[i,1] > saida2[i,2]:\n",
    "        saida2[i,1]=1\n",
    "        saida2[i,0]=0\n",
    "        saida2[i,2]=0\n",
    "    if saida2[i,2] > saida2[i,0] and saida2[i,2] > saida2[i,1]:\n",
    "        saida2[i,2]=1\n",
    "        saida2[i,1]=0\n",
    "        saida2[i,0]=0\n",
    "    #print(saida2[i,0],saida2[i,1],saida2[i,2])"
   ]
  },
  {
   "cell_type": "code",
   "execution_count": 28,
   "id": "495b5dd7",
   "metadata": {},
   "outputs": [
    {
     "data": {
      "text/plain": [
       "(45, 3)"
      ]
     },
     "execution_count": 28,
     "metadata": {},
     "output_type": "execute_result"
    }
   ],
   "source": [
    "saida2.shape"
   ]
  },
  {
   "cell_type": "code",
   "execution_count": 29,
   "id": "8df6a444",
   "metadata": {
    "scrolled": true
   },
   "outputs": [
    {
     "data": {
      "text/plain": [
       "(45, 3)"
      ]
     },
     "execution_count": 29,
     "metadata": {},
     "output_type": "execute_result"
    }
   ],
   "source": [
    "yteste.shape"
   ]
  },
  {
   "cell_type": "code",
   "execution_count": 30,
   "id": "e2a4b377",
   "metadata": {
    "scrolled": true
   },
   "outputs": [
    {
     "data": {
      "text/html": [
       "<div>\n",
       "<style scoped>\n",
       "    .dataframe tbody tr th:only-of-type {\n",
       "        vertical-align: middle;\n",
       "    }\n",
       "\n",
       "    .dataframe tbody tr th {\n",
       "        vertical-align: top;\n",
       "    }\n",
       "\n",
       "    .dataframe thead th {\n",
       "        text-align: right;\n",
       "    }\n",
       "</style>\n",
       "<table border=\"1\" class=\"dataframe\">\n",
       "  <thead>\n",
       "    <tr style=\"text-align: right;\">\n",
       "      <th></th>\n",
       "      <th>setosa</th>\n",
       "      <th>versicolor</th>\n",
       "      <th>virginica</th>\n",
       "    </tr>\n",
       "  </thead>\n",
       "  <tbody>\n",
       "    <tr>\n",
       "      <th>82</th>\n",
       "      <td>0</td>\n",
       "      <td>1</td>\n",
       "      <td>0</td>\n",
       "    </tr>\n",
       "    <tr>\n",
       "      <th>134</th>\n",
       "      <td>0</td>\n",
       "      <td>0</td>\n",
       "      <td>1</td>\n",
       "    </tr>\n",
       "    <tr>\n",
       "      <th>114</th>\n",
       "      <td>0</td>\n",
       "      <td>0</td>\n",
       "      <td>1</td>\n",
       "    </tr>\n",
       "    <tr>\n",
       "      <th>42</th>\n",
       "      <td>1</td>\n",
       "      <td>0</td>\n",
       "      <td>0</td>\n",
       "    </tr>\n",
       "    <tr>\n",
       "      <th>109</th>\n",
       "      <td>0</td>\n",
       "      <td>0</td>\n",
       "      <td>1</td>\n",
       "    </tr>\n",
       "    <tr>\n",
       "      <th>57</th>\n",
       "      <td>0</td>\n",
       "      <td>1</td>\n",
       "      <td>0</td>\n",
       "    </tr>\n",
       "    <tr>\n",
       "      <th>1</th>\n",
       "      <td>1</td>\n",
       "      <td>0</td>\n",
       "      <td>0</td>\n",
       "    </tr>\n",
       "    <tr>\n",
       "      <th>70</th>\n",
       "      <td>0</td>\n",
       "      <td>1</td>\n",
       "      <td>0</td>\n",
       "    </tr>\n",
       "    <tr>\n",
       "      <th>25</th>\n",
       "      <td>1</td>\n",
       "      <td>0</td>\n",
       "      <td>0</td>\n",
       "    </tr>\n",
       "    <tr>\n",
       "      <th>84</th>\n",
       "      <td>0</td>\n",
       "      <td>1</td>\n",
       "      <td>0</td>\n",
       "    </tr>\n",
       "    <tr>\n",
       "      <th>66</th>\n",
       "      <td>0</td>\n",
       "      <td>1</td>\n",
       "      <td>0</td>\n",
       "    </tr>\n",
       "    <tr>\n",
       "      <th>133</th>\n",
       "      <td>0</td>\n",
       "      <td>0</td>\n",
       "      <td>1</td>\n",
       "    </tr>\n",
       "    <tr>\n",
       "      <th>102</th>\n",
       "      <td>0</td>\n",
       "      <td>0</td>\n",
       "      <td>1</td>\n",
       "    </tr>\n",
       "    <tr>\n",
       "      <th>107</th>\n",
       "      <td>0</td>\n",
       "      <td>0</td>\n",
       "      <td>1</td>\n",
       "    </tr>\n",
       "    <tr>\n",
       "      <th>26</th>\n",
       "      <td>1</td>\n",
       "      <td>0</td>\n",
       "      <td>0</td>\n",
       "    </tr>\n",
       "    <tr>\n",
       "      <th>23</th>\n",
       "      <td>1</td>\n",
       "      <td>0</td>\n",
       "      <td>0</td>\n",
       "    </tr>\n",
       "    <tr>\n",
       "      <th>123</th>\n",
       "      <td>0</td>\n",
       "      <td>0</td>\n",
       "      <td>1</td>\n",
       "    </tr>\n",
       "    <tr>\n",
       "      <th>130</th>\n",
       "      <td>0</td>\n",
       "      <td>0</td>\n",
       "      <td>1</td>\n",
       "    </tr>\n",
       "    <tr>\n",
       "      <th>21</th>\n",
       "      <td>1</td>\n",
       "      <td>0</td>\n",
       "      <td>0</td>\n",
       "    </tr>\n",
       "    <tr>\n",
       "      <th>12</th>\n",
       "      <td>1</td>\n",
       "      <td>0</td>\n",
       "      <td>0</td>\n",
       "    </tr>\n",
       "    <tr>\n",
       "      <th>71</th>\n",
       "      <td>0</td>\n",
       "      <td>1</td>\n",
       "      <td>0</td>\n",
       "    </tr>\n",
       "    <tr>\n",
       "      <th>128</th>\n",
       "      <td>0</td>\n",
       "      <td>0</td>\n",
       "      <td>1</td>\n",
       "    </tr>\n",
       "    <tr>\n",
       "      <th>48</th>\n",
       "      <td>1</td>\n",
       "      <td>0</td>\n",
       "      <td>0</td>\n",
       "    </tr>\n",
       "    <tr>\n",
       "      <th>72</th>\n",
       "      <td>0</td>\n",
       "      <td>1</td>\n",
       "      <td>0</td>\n",
       "    </tr>\n",
       "    <tr>\n",
       "      <th>88</th>\n",
       "      <td>0</td>\n",
       "      <td>1</td>\n",
       "      <td>0</td>\n",
       "    </tr>\n",
       "    <tr>\n",
       "      <th>148</th>\n",
       "      <td>0</td>\n",
       "      <td>0</td>\n",
       "      <td>1</td>\n",
       "    </tr>\n",
       "    <tr>\n",
       "      <th>74</th>\n",
       "      <td>0</td>\n",
       "      <td>1</td>\n",
       "      <td>0</td>\n",
       "    </tr>\n",
       "    <tr>\n",
       "      <th>96</th>\n",
       "      <td>0</td>\n",
       "      <td>1</td>\n",
       "      <td>0</td>\n",
       "    </tr>\n",
       "    <tr>\n",
       "      <th>63</th>\n",
       "      <td>0</td>\n",
       "      <td>1</td>\n",
       "      <td>0</td>\n",
       "    </tr>\n",
       "    <tr>\n",
       "      <th>132</th>\n",
       "      <td>0</td>\n",
       "      <td>0</td>\n",
       "      <td>1</td>\n",
       "    </tr>\n",
       "    <tr>\n",
       "      <th>39</th>\n",
       "      <td>1</td>\n",
       "      <td>0</td>\n",
       "      <td>0</td>\n",
       "    </tr>\n",
       "    <tr>\n",
       "      <th>53</th>\n",
       "      <td>0</td>\n",
       "      <td>1</td>\n",
       "      <td>0</td>\n",
       "    </tr>\n",
       "    <tr>\n",
       "      <th>79</th>\n",
       "      <td>0</td>\n",
       "      <td>1</td>\n",
       "      <td>0</td>\n",
       "    </tr>\n",
       "    <tr>\n",
       "      <th>10</th>\n",
       "      <td>1</td>\n",
       "      <td>0</td>\n",
       "      <td>0</td>\n",
       "    </tr>\n",
       "    <tr>\n",
       "      <th>50</th>\n",
       "      <td>0</td>\n",
       "      <td>1</td>\n",
       "      <td>0</td>\n",
       "    </tr>\n",
       "    <tr>\n",
       "      <th>49</th>\n",
       "      <td>1</td>\n",
       "      <td>0</td>\n",
       "      <td>0</td>\n",
       "    </tr>\n",
       "    <tr>\n",
       "      <th>43</th>\n",
       "      <td>1</td>\n",
       "      <td>0</td>\n",
       "      <td>0</td>\n",
       "    </tr>\n",
       "    <tr>\n",
       "      <th>135</th>\n",
       "      <td>0</td>\n",
       "      <td>0</td>\n",
       "      <td>1</td>\n",
       "    </tr>\n",
       "    <tr>\n",
       "      <th>40</th>\n",
       "      <td>1</td>\n",
       "      <td>0</td>\n",
       "      <td>0</td>\n",
       "    </tr>\n",
       "    <tr>\n",
       "      <th>115</th>\n",
       "      <td>0</td>\n",
       "      <td>0</td>\n",
       "      <td>1</td>\n",
       "    </tr>\n",
       "    <tr>\n",
       "      <th>142</th>\n",
       "      <td>0</td>\n",
       "      <td>0</td>\n",
       "      <td>1</td>\n",
       "    </tr>\n",
       "    <tr>\n",
       "      <th>69</th>\n",
       "      <td>0</td>\n",
       "      <td>1</td>\n",
       "      <td>0</td>\n",
       "    </tr>\n",
       "    <tr>\n",
       "      <th>17</th>\n",
       "      <td>1</td>\n",
       "      <td>0</td>\n",
       "      <td>0</td>\n",
       "    </tr>\n",
       "    <tr>\n",
       "      <th>46</th>\n",
       "      <td>1</td>\n",
       "      <td>0</td>\n",
       "      <td>0</td>\n",
       "    </tr>\n",
       "    <tr>\n",
       "      <th>54</th>\n",
       "      <td>0</td>\n",
       "      <td>1</td>\n",
       "      <td>0</td>\n",
       "    </tr>\n",
       "  </tbody>\n",
       "</table>\n",
       "</div>"
      ],
      "text/plain": [
       "     setosa  versicolor  virginica\n",
       "82        0           1          0\n",
       "134       0           0          1\n",
       "114       0           0          1\n",
       "42        1           0          0\n",
       "109       0           0          1\n",
       "57        0           1          0\n",
       "1         1           0          0\n",
       "70        0           1          0\n",
       "25        1           0          0\n",
       "84        0           1          0\n",
       "66        0           1          0\n",
       "133       0           0          1\n",
       "102       0           0          1\n",
       "107       0           0          1\n",
       "26        1           0          0\n",
       "23        1           0          0\n",
       "123       0           0          1\n",
       "130       0           0          1\n",
       "21        1           0          0\n",
       "12        1           0          0\n",
       "71        0           1          0\n",
       "128       0           0          1\n",
       "48        1           0          0\n",
       "72        0           1          0\n",
       "88        0           1          0\n",
       "148       0           0          1\n",
       "74        0           1          0\n",
       "96        0           1          0\n",
       "63        0           1          0\n",
       "132       0           0          1\n",
       "39        1           0          0\n",
       "53        0           1          0\n",
       "79        0           1          0\n",
       "10        1           0          0\n",
       "50        0           1          0\n",
       "49        1           0          0\n",
       "43        1           0          0\n",
       "135       0           0          1\n",
       "40        1           0          0\n",
       "115       0           0          1\n",
       "142       0           0          1\n",
       "69        0           1          0\n",
       "17        1           0          0\n",
       "46        1           0          0\n",
       "54        0           1          0"
      ]
     },
     "execution_count": 30,
     "metadata": {},
     "output_type": "execute_result"
    }
   ],
   "source": [
    "yteste"
   ]
  },
  {
   "cell_type": "code",
   "execution_count": 31,
   "id": "b71454e8",
   "metadata": {},
   "outputs": [],
   "source": [
    "yteste2=np.array(yteste)"
   ]
  },
  {
   "cell_type": "code",
   "execution_count": 32,
   "id": "78a45c6c",
   "metadata": {
    "scrolled": true
   },
   "outputs": [
    {
     "data": {
      "text/plain": [
       "array([[0., 1., 0.],\n",
       "       [0., 0., 1.],\n",
       "       [0., 0., 1.],\n",
       "       [1., 0., 0.],\n",
       "       [0., 0., 1.],\n",
       "       [0., 1., 0.],\n",
       "       [1., 0., 0.],\n",
       "       [0., 0., 1.],\n",
       "       [1., 0., 0.],\n",
       "       [0., 1., 0.],\n",
       "       [0., 1., 0.],\n",
       "       [0., 0., 1.],\n",
       "       [0., 0., 1.],\n",
       "       [0., 0., 1.],\n",
       "       [1., 0., 0.],\n",
       "       [1., 0., 0.],\n",
       "       [0., 0., 1.],\n",
       "       [0., 0., 1.],\n",
       "       [1., 0., 0.],\n",
       "       [1., 0., 0.],\n",
       "       [0., 1., 0.],\n",
       "       [0., 0., 1.],\n",
       "       [1., 0., 0.],\n",
       "       [0., 0., 1.],\n",
       "       [0., 1., 0.],\n",
       "       [0., 0., 1.],\n",
       "       [0., 1., 0.],\n",
       "       [0., 1., 0.],\n",
       "       [0., 1., 0.],\n",
       "       [0., 0., 1.],\n",
       "       [1., 0., 0.],\n",
       "       [0., 1., 0.],\n",
       "       [0., 1., 0.],\n",
       "       [1., 0., 0.],\n",
       "       [0., 1., 0.],\n",
       "       [1., 0., 0.],\n",
       "       [1., 0., 0.],\n",
       "       [0., 0., 1.],\n",
       "       [1., 0., 0.],\n",
       "       [0., 0., 1.],\n",
       "       [0., 0., 1.],\n",
       "       [0., 1., 0.],\n",
       "       [1., 0., 0.],\n",
       "       [1., 0., 0.],\n",
       "       [0., 1., 0.]])"
      ]
     },
     "execution_count": 32,
     "metadata": {},
     "output_type": "execute_result"
    }
   ],
   "source": [
    "saida2"
   ]
  },
  {
   "cell_type": "code",
   "execution_count": 33,
   "id": "8bc63fdd",
   "metadata": {
    "scrolled": true
   },
   "outputs": [
    {
     "data": {
      "text/plain": [
       "array([[0, 1, 0],\n",
       "       [0, 0, 1],\n",
       "       [0, 0, 1],\n",
       "       [1, 0, 0],\n",
       "       [0, 0, 1],\n",
       "       [0, 1, 0],\n",
       "       [1, 0, 0],\n",
       "       [0, 1, 0],\n",
       "       [1, 0, 0],\n",
       "       [0, 1, 0],\n",
       "       [0, 1, 0],\n",
       "       [0, 0, 1],\n",
       "       [0, 0, 1],\n",
       "       [0, 0, 1],\n",
       "       [1, 0, 0],\n",
       "       [1, 0, 0],\n",
       "       [0, 0, 1],\n",
       "       [0, 0, 1],\n",
       "       [1, 0, 0],\n",
       "       [1, 0, 0],\n",
       "       [0, 1, 0],\n",
       "       [0, 0, 1],\n",
       "       [1, 0, 0],\n",
       "       [0, 1, 0],\n",
       "       [0, 1, 0],\n",
       "       [0, 0, 1],\n",
       "       [0, 1, 0],\n",
       "       [0, 1, 0],\n",
       "       [0, 1, 0],\n",
       "       [0, 0, 1],\n",
       "       [1, 0, 0],\n",
       "       [0, 1, 0],\n",
       "       [0, 1, 0],\n",
       "       [1, 0, 0],\n",
       "       [0, 1, 0],\n",
       "       [1, 0, 0],\n",
       "       [1, 0, 0],\n",
       "       [0, 0, 1],\n",
       "       [1, 0, 0],\n",
       "       [0, 0, 1],\n",
       "       [0, 0, 1],\n",
       "       [0, 1, 0],\n",
       "       [1, 0, 0],\n",
       "       [1, 0, 0],\n",
       "       [0, 1, 0]], dtype=uint8)"
      ]
     },
     "execution_count": 33,
     "metadata": {},
     "output_type": "execute_result"
    }
   ],
   "source": [
    "yteste2"
   ]
  },
  {
   "cell_type": "code",
   "execution_count": 34,
   "id": "37819630",
   "metadata": {},
   "outputs": [],
   "source": [
    "#Comparaçao entre matrizes, para calculo da acuracia\n",
    "acuracia=0\n",
    "for j in range(45):\n",
    "    resultado0=0\n",
    "    resultado1=0\n",
    "    resultado2=0\n",
    "    if saida2[j,0]==yteste2[j,0]:\n",
    "        resultado0=1\n",
    "    if saida2[j,1]==yteste2[j,1]:\n",
    "        resultado1=1\n",
    "    if saida2[j,2]==yteste2[j,2]:\n",
    "        resultado2=1\n",
    "    somaresultado=resultado0+resultado1+resultado2\n",
    "    if somaresultado==3:\n",
    "        acuracia=acuracia+1\n",
    "    #print(j)\n",
    "acuraciapercent=acuracia/(j+1) #j varia de 0 a 44"
   ]
  },
  {
   "cell_type": "code",
   "execution_count": 35,
   "id": "c5a41dd5",
   "metadata": {},
   "outputs": [
    {
     "data": {
      "text/plain": [
       "0.9555555555555556"
      ]
     },
     "execution_count": 35,
     "metadata": {},
     "output_type": "execute_result"
    }
   ],
   "source": [
    "acuraciapercent #Acuracia calculada manualmente"
   ]
  },
  {
   "cell_type": "code",
   "execution_count": 36,
   "id": "1328fd06",
   "metadata": {},
   "outputs": [
    {
     "data": {
      "text/plain": [
       "<tf.Tensor: shape=(45,), dtype=bool, numpy=\n",
       "array([ True,  True,  True,  True,  True,  True,  True, False,  True,\n",
       "        True,  True,  True,  True,  True,  True,  True,  True,  True,\n",
       "        True,  True,  True,  True,  True, False,  True,  True,  True,\n",
       "        True,  True,  True,  True,  True,  True,  True,  True,  True,\n",
       "        True,  True,  True,  True,  True,  True,  True,  True,  True])>"
      ]
     },
     "execution_count": 36,
     "metadata": {},
     "output_type": "execute_result"
    }
   ],
   "source": [
    "#Codigo do Natanael\n",
    "verificacao=tf.equal(tf.argmax(saida,1),tf.argmax(yteste,1))\n",
    "acuracia1=tf.math.reduce_mean(tf.cast(verificacao,tf.float32))\n",
    "verificacao"
   ]
  },
  {
   "cell_type": "code",
   "execution_count": 37,
   "id": "0abf81d6",
   "metadata": {},
   "outputs": [
    {
     "data": {
      "text/plain": [
       "<tf.Tensor: shape=(45,), dtype=int64, numpy=\n",
       "array([1, 2, 2, 0, 2, 1, 0, 2, 0, 1, 1, 2, 2, 2, 0, 0, 2, 2, 0, 0, 1, 2,\n",
       "       0, 2, 1, 2, 1, 1, 1, 2, 0, 1, 1, 0, 1, 0, 0, 2, 0, 2, 2, 1, 0, 0,\n",
       "       1], dtype=int64)>"
      ]
     },
     "execution_count": 37,
     "metadata": {},
     "output_type": "execute_result"
    }
   ],
   "source": [
    "saida3=tf.argmax(saida,1) #converte o maior valor da linha em um numero de classificaçao\n",
    "#Exemplo:[0.07090477, 0.68534094, 0.24375429] = 1, pois o maior valor esta na segunda coluna. O valor é um, pois a primeira\n",
    "#coluna possui indice zero.\n",
    "saida3"
   ]
  },
  {
   "cell_type": "code",
   "execution_count": 38,
   "id": "6d230bce",
   "metadata": {},
   "outputs": [
    {
     "data": {
      "text/plain": [
       "<tf.Tensor: shape=(45,), dtype=int64, numpy=\n",
       "array([1, 2, 2, 0, 2, 1, 0, 1, 0, 1, 1, 2, 2, 2, 0, 0, 2, 2, 0, 0, 1, 2,\n",
       "       0, 1, 1, 2, 1, 1, 1, 2, 0, 1, 1, 0, 1, 0, 0, 2, 0, 2, 2, 1, 0, 0,\n",
       "       1], dtype=int64)>"
      ]
     },
     "execution_count": 38,
     "metadata": {},
     "output_type": "execute_result"
    }
   ],
   "source": [
    "#Na matriz yteste, a funçao argmax ira indicar a coluna do maior valor encontrado numa linha\n",
    "yteste3=tf.argmax(yteste,1)\n",
    "yteste3"
   ]
  },
  {
   "cell_type": "code",
   "execution_count": 39,
   "id": "bac6a2d2",
   "metadata": {},
   "outputs": [
    {
     "data": {
      "text/plain": [
       "<tf.Tensor: shape=(), dtype=float32, numpy=0.95555556>"
      ]
     },
     "execution_count": 39,
     "metadata": {},
     "output_type": "execute_result"
    }
   ],
   "source": [
    "acuracia1 #Acuracia calculada com auxilio das funçoes do tensorflow"
   ]
  },
  {
   "cell_type": "code",
   "execution_count": null,
   "id": "67c151c3",
   "metadata": {},
   "outputs": [],
   "source": []
  }
 ],
 "metadata": {
  "kernelspec": {
   "display_name": "Python 3 (ipykernel)",
   "language": "python",
   "name": "python3"
  },
  "language_info": {
   "codemirror_mode": {
    "name": "ipython",
    "version": 3
   },
   "file_extension": ".py",
   "mimetype": "text/x-python",
   "name": "python",
   "nbconvert_exporter": "python",
   "pygments_lexer": "ipython3",
   "version": "3.9.7"
  }
 },
 "nbformat": 4,
 "nbformat_minor": 5
}
