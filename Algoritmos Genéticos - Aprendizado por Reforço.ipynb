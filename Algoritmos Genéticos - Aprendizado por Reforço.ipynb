{
 "cells": [
  {
   "cell_type": "code",
   "execution_count": 1,
   "metadata": {},
   "outputs": [
    {
     "name": "stderr",
     "output_type": "stream",
     "text": [
      "Using TensorFlow backend.\n"
     ]
    }
   ],
   "source": [
    "# Iremos criar um agente para interagir com o ambiente escolhendo as melhores ações para cada estado. Esse agente será uma rede\n",
    "# neural que recebe como entrada o estado e retorna como saída a melhor ação a ser tomada. \n",
    "# Em vez de treinar essa rede usando gradiente descendente como estamos acostumados (nesse caso não temos os dados de treinamento\n",
    "# do que é certo ou errado, e também não temos um algoritmo de RL para guiar o treino da rede neural), iremos iniciar várias \n",
    "# redes (várias populações) com pesos aleatórios e iremos avançar usando um algoritmo genético. Ou seja, as redes interagem com \n",
    "# o ambiente e recebem um feedback (Fitness Function, que é uma função da recompensa do sistema: pode ser a recompensa total de \n",
    "# um episódio, por exemplo). Depois dessa interação, selecionamos as melhores populações de pesos, fazemos crossover + mutação, \n",
    "# criamos novas populações de pesos e interagimos essas novas redes com o ambiente para a próxima seleção. No final, escolheremos\n",
    "# a rede neural mais bem calibrada.\n",
    "\n",
    "import warnings\n",
    "warnings.filterwarnings('ignore')\n",
    "import random\n",
    "import numpy as np\n",
    "import matplotlib.pyplot as plt\n",
    "import gym\n",
    "import keras\n",
    "from keras.models import Sequential\n",
    "from keras.layers import Dense\n",
    "from deap import base\n",
    "from deap import creator\n",
    "from deap import tools\n",
    "from deap import algorithms\n",
    "import deap"
   ]
  },
  {
   "cell_type": "code",
   "execution_count": 2,
   "metadata": {},
   "outputs": [],
   "source": [
    "def organiza_pesos(pesos, dimensoes_rede):\n",
    "\n",
    "    pesos_para_keras=[]\n",
    "    desloca=0\n",
    "    \n",
    "    for camada in range(len(dimensoes_rede)-1):\n",
    "        weights=[]\n",
    "        for neuronio in range(dimensoes_rede[camada]): \n",
    "            weights.append(pesos[desloca:desloca+dimensoes_rede[camada+1]]) \n",
    "            desloca=desloca+dimensoes_rede[camada+1]\n",
    "            \n",
    "        pesos_para_keras.append(np.array(weights)) \n",
    "        pesos_para_keras.append(np.array(pesos[desloca:desloca+dimensoes_rede[camada+1]]))\n",
    "        desloca=desloca+dimensoes_rede[camada+1]\n",
    "\n",
    "    return pesos_para_keras"
   ]
  },
  {
   "cell_type": "code",
   "execution_count": 3,
   "metadata": {},
   "outputs": [],
   "source": [
    "# Fitness Function (irá interagir com o ambiente a partir dos dados da rede neural fornecida e retornar a recompensa do episódio)\n",
    "def cart_pole(individuo):\n",
    "    maximo_iteracoes = 200\n",
    "    recompensa_total=0\n",
    "    env = gym.make('CartPole-v0')\n",
    "    obs = env.reset()\n",
    "    modelo.set_weights(organiza_pesos(individuo,[4,10,5,1]))\n",
    "\n",
    "    for i in range(maximo_iteracoes): # avalia a recompensa total obtida\n",
    "        acao = modelo.predict_classes(np.array([obs]))[0][0]\n",
    "        obs, recompensa, terminou, info = env.step(acao)\n",
    "        recompensa_total+=recompensa\n",
    "        if terminou or i==maximo_iteracoes-1: # se morreu ou chegou em 200 iterações\n",
    "            return recompensa_total,\n",
    "            break"
   ]
  },
  {
   "cell_type": "code",
   "execution_count": 4,
   "metadata": {},
   "outputs": [],
   "source": [
    "# Criando o modelo da rede neural (sem informar compilador ou algoritmo otimizador, apenas o esqueleto da rede):\n",
    "# Essa rede terá 4 neurônios de entrada (estado atual), 10 neurônios na 1ª camada oculta, 5 neurônios na segunda e 1 neurônio\n",
    "# na saída: \n",
    "modelo = Sequential()\n",
    "modelo.add(Dense(10, input_dim=4, activation='relu'))\n",
    "modelo.add(Dense(5, activation='relu'))\n",
    "modelo.add(Dense(1, activation='sigmoid')) # A ação do agente no Cartpole consiste em 0 ou 1\n",
    "\n",
    "# Criando o algoritmo genético:\n",
    "creator.create(name=\"ClasseFitness\", base=base.Fitness, weights=(1.0,))     \n",
    "creator.create(name=\"ClasseIndividuos\", base=list, fitness=creator.ClasseFitness) \n",
    "\n",
    "# Toolbox\n",
    "modulo_toolbox = base.Toolbox()\n",
    "modulo_toolbox.register(\"pesos_e_bias\", random.uniform, -1, 1) # definindo pesos no range [-1, 1]                  \n",
    "modulo_toolbox.register(\"individuos\", tools.initRepeat, creator.ClasseIndividuos, modulo_toolbox.pesos_e_bias, 111)\n",
    "# Aqui temos 111 variáveis por indivíduo, pois 4x10 + 10 + 10x5 + 5 + 5x1 + 1 = 111 (qtde de pesos e bias totais da rede)\n",
    "modulo_toolbox.register(\"populacao\", tools.initRepeat, list, modulo_toolbox.individuos, 100)  # criando uma população de 100 indivíduos\n",
    "modulo_toolbox.register(\"evaluate\", cart_pole) # informando a Fitness Function\n",
    "modulo_toolbox.register(\"mate\", tools.cxBlend, alpha=0.5) # informando o crossover\n",
    "modulo_toolbox.register(\"mutate\", tools.mutGaussian, mu=0.0, sigma=0.2, indpb=0.05) # informando a  mutação\n",
    "modulo_toolbox.register(\"select\", tools.selTournament, tournsize=3) # informando a seleção natural"
   ]
  },
  {
   "cell_type": "code",
   "execution_count": 5,
   "metadata": {},
   "outputs": [
    {
     "name": "stdout",
     "output_type": "stream",
     "text": [
      "WARNING:tensorflow:From C:\\Users\\Falcone\\anaconda3\\envs\\gymoa\\lib\\site-packages\\keras\\backend\\tensorflow_backend.py:422: The name tf.global_variables is deprecated. Please use tf.compat.v1.global_variables instead.\n",
      "\n",
      "gen\tnevals\tmedia\tdp    \tmin\tmax\n",
      "0  \t100   \t14.32\t14.578\t8  \t98 \n",
      "1  \t92    \t13.76\t16.2869\t8  \t134\n",
      "2  \t86    \t17.65\t23.9747\t8  \t144\n",
      "3  \t86    \t20.17\t26.4927\t8  \t134\n",
      "4  \t80    \t19.9 \t23.0367\t8  \t134\n",
      "5  \t86    \t20.4 \t23.5792\t8  \t134\n",
      "6  \t78    \t25.27\t29.4601\t8  \t200\n",
      "7  \t78    \t29.9 \t41.1926\t8  \t200\n",
      "8  \t86    \t27.81\t36.2755\t8  \t200\n",
      "9  \t89    \t25.45\t37.8202\t8  \t200\n",
      "10 \t85    \t31.98\t46.3812\t8  \t200\n"
     ]
    }
   ],
   "source": [
    "# Executando o código completo em ordem:\n",
    "    \n",
    "populacao = modulo_toolbox.populacao() \n",
    "hof = tools.HallOfFame(1) # salvando o melhor indivíduo de todos\n",
    "estatisticas = tools.Statistics(lambda ind: ind.fitness.values) # criando estatísticas de cada população\n",
    "\n",
    "estatisticas.register(\"media\", np.mean)\n",
    "estatisticas.register(\"dp\", np.std)\n",
    "estatisticas.register(\"min\", np.min)\n",
    "estatisticas.register(\"max\", np.max)\n",
    "\n",
    "# Rodando o algoritmo completo:\n",
    "populacao, log = algorithms.eaSimple(populacao, modulo_toolbox, cxpb=0.8, mutpb=0.2, ngen=10, stats=estatisticas, halloffame=hof, verbose=True)"
   ]
  },
  {
   "cell_type": "code",
   "execution_count": 6,
   "metadata": {},
   "outputs": [],
   "source": [
    "pesos_finais = hof[0]"
   ]
  },
  {
   "cell_type": "code",
   "execution_count": 7,
   "metadata": {},
   "outputs": [
    {
     "data": {
      "text/plain": [
       "[0.23037917714079267,\n",
       " 0.2871014439779445,\n",
       " -0.1992403367663325,\n",
       " -0.21124348542069285,\n",
       " -0.08068714114572317,\n",
       " -0.4564034946573546,\n",
       " -0.05172854304103963,\n",
       " -1.222808623820599,\n",
       " 0.39669633525825065,\n",
       " -0.3779192003634627,\n",
       " 0.29907703377004513,\n",
       " 0.4651202658280819,\n",
       " 0.5968757865567011,\n",
       " -0.5422285429239698,\n",
       " 1.0412836785959545,\n",
       " 0.291456978257598,\n",
       " -0.3607589041265303,\n",
       " -0.36594210166904756,\n",
       " -1.0088851091115902,\n",
       " -0.8891654190443707,\n",
       " -0.9365481859299615,\n",
       " 0.33226135271390644,\n",
       " -0.0860875044685532,\n",
       " -0.09445624140748932,\n",
       " -0.5427715215439503,\n",
       " 0.5683723151883129,\n",
       " -0.7560902879340269,\n",
       " -0.036927674495694784,\n",
       " 0.3996893067483838,\n",
       " -0.5949634662517709,\n",
       " -0.003961394203597451,\n",
       " -0.7922626281870047,\n",
       " 0.20502801172429422,\n",
       " -0.12408190703002595,\n",
       " -0.20864468128751917,\n",
       " 0.8048591411853762,\n",
       " -0.7056662411332916,\n",
       " 0.8383779647883376,\n",
       " -0.261170725144938,\n",
       " 0.2865642893420498,\n",
       " 0.46483248143541483,\n",
       " 0.14292735884094349,\n",
       " 1.2543268204149172,\n",
       " -1.8434743876197985,\n",
       " 0.3490904713997146,\n",
       " 1.1063743281256577,\n",
       " 0.6208496894846136,\n",
       " 0.25740791797011053,\n",
       " -0.7715328422778901,\n",
       " 0.05091916781147332,\n",
       " 0.38090183570464403,\n",
       " 1.4918100675473949,\n",
       " -0.3519662258002756,\n",
       " -0.7429833264412482,\n",
       " 1.5724769628301036,\n",
       " 0.18629362643585518,\n",
       " -0.4004157129803147,\n",
       " -0.35670193069905776,\n",
       " 0.20025644446881716,\n",
       " 0.5401353736079948,\n",
       " -0.05080324730081789,\n",
       " 0.1410757723049326,\n",
       " -0.3850778043525974,\n",
       " -1.9893818593807935,\n",
       " -0.5158081882877704,\n",
       " 0.12659109999403872,\n",
       " 0.03924643035944095,\n",
       " 0.8007655576040811,\n",
       " -0.03615712371739807,\n",
       " 0.2608622623180637,\n",
       " 0.6459936141027972,\n",
       " 0.5642351429472536,\n",
       " 1.2447287134362996,\n",
       " -1.329273829228182,\n",
       " 3.0376276306432257,\n",
       " 0.944341489420253,\n",
       " -0.5405567295839976,\n",
       " 0.9586286362485954,\n",
       " 0.15723721956627723,\n",
       " 0.27538411722695183,\n",
       " -1.0503428812959852,\n",
       " 1.0226618704957229,\n",
       " -0.6499714588779856,\n",
       " -2.337551295481509,\n",
       " 1.0595120096931503,\n",
       " -1.617518424651188,\n",
       " 1.8218940086123727,\n",
       " -1.0590106645985697,\n",
       " 1.5252162053756526,\n",
       " -1.4131070073462981,\n",
       " -0.16482286247480302,\n",
       " 1.199002960288491,\n",
       " -0.14270790785039497,\n",
       " -0.1561429116687557,\n",
       " 0.6723723569080603,\n",
       " -0.6146223982318391,\n",
       " 0.8653100364110123,\n",
       " -0.9375497886522149,\n",
       " 1.779745297976255,\n",
       " 0.8263635671077755,\n",
       " 0.30978888046851805,\n",
       " -0.8188129575033015,\n",
       " -0.8598924976854563,\n",
       " -0.42910406440546867,\n",
       " -0.316019208530538,\n",
       " 0.8359980883687154,\n",
       " 0.3120017061069507,\n",
       " 0.7679505548532892,\n",
       " 0.8543064353805843,\n",
       " -0.4457315967770344,\n",
       " -0.09819174586052912]"
      ]
     },
     "execution_count": 7,
     "metadata": {},
     "output_type": "execute_result"
    }
   ],
   "source": [
    "pesos_finais"
   ]
  },
  {
   "cell_type": "code",
   "execution_count": 8,
   "metadata": {},
   "outputs": [],
   "source": [
    "modelo.set_weights(organiza_pesos(pesos_finais,[4,10,5,1]))"
   ]
  },
  {
   "cell_type": "code",
   "execution_count": 9,
   "metadata": {},
   "outputs": [
    {
     "name": "stdout",
     "output_type": "stream",
     "text": [
      "Recompensa total: 200.0\n"
     ]
    }
   ],
   "source": [
    "import time\n",
    "env = gym.make('CartPole-v0')\n",
    "obs = env.reset()\n",
    "recompensa_total=0\n",
    "for i in range(200): \n",
    "    env.render()\n",
    "    time.sleep(0.1)\n",
    "    acao = modelo.predict_classes(np.array([obs]))[0][0]\n",
    "    obs, recompensa, terminou, info = env.step(acao)\n",
    "    recompensa_total+=recompensa\n",
    "    if terminou:\n",
    "        break\n",
    "env.close()\n",
    "print('Recompensa total:', recompensa_total)"
   ]
  },
  {
   "cell_type": "code",
   "execution_count": 10,
   "metadata": {},
   "outputs": [
    {
     "data": {
      "text/plain": [
       "0"
      ]
     },
     "execution_count": 10,
     "metadata": {},
     "output_type": "execute_result"
    }
   ],
   "source": [
    "modelo.predict_classes(np.array([obs]))[0][0]"
   ]
  },
  {
   "cell_type": "code",
   "execution_count": null,
   "metadata": {},
   "outputs": [],
   "source": []
  }
 ],
 "metadata": {
  "kernelspec": {
   "display_name": "Python 3 (ipykernel)",
   "language": "python",
   "name": "python3"
  },
  "language_info": {
   "codemirror_mode": {
    "name": "ipython",
    "version": 3
   },
   "file_extension": ".py",
   "mimetype": "text/x-python",
   "name": "python",
   "nbconvert_exporter": "python",
   "pygments_lexer": "ipython3",
   "version": "3.7.13"
  }
 },
 "nbformat": 4,
 "nbformat_minor": 4
}
