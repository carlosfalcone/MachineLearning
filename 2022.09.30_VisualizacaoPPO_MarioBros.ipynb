{
 "cells": [
  {
   "cell_type": "code",
   "execution_count": 5,
   "id": "a0786206",
   "metadata": {},
   "outputs": [],
   "source": [
    "import gym\n",
    "from stable_baselines import PPO2\n",
    "import time"
   ]
  },
  {
   "cell_type": "code",
   "execution_count": 15,
   "id": "745b9744",
   "metadata": {},
   "outputs": [
    {
     "name": "stdout",
     "output_type": "stream",
     "text": [
      "Loading a model without an environment, this model cannot be trained until it has a valid environment.\n",
      "WARNING:tensorflow:Entity <bound method Flatten.call of <tensorflow.python.layers.core.Flatten object at 0x00000204AFE8A408>> could not be transformed and will be executed as-is. Please report this to the AutgoGraph team. When filing the bug, set the verbosity to 10 (on Linux, `export AUTOGRAPH_VERBOSITY=10`) and attach the full output. Cause: converting <bound method Flatten.call of <tensorflow.python.layers.core.Flatten object at 0x00000204AFE8A408>>: AttributeError: module 'gast' has no attribute 'Index'\n",
      "WARNING: Entity <bound method Flatten.call of <tensorflow.python.layers.core.Flatten object at 0x00000204AFE8A408>> could not be transformed and will be executed as-is. Please report this to the AutgoGraph team. When filing the bug, set the verbosity to 10 (on Linux, `export AUTOGRAPH_VERBOSITY=10`) and attach the full output. Cause: converting <bound method Flatten.call of <tensorflow.python.layers.core.Flatten object at 0x00000204AFE8A408>>: AttributeError: module 'gast' has no attribute 'Index'\n",
      "WARNING:tensorflow:Entity <bound method Flatten.call of <tensorflow.python.layers.core.Flatten object at 0x00000204AF9F6148>> could not be transformed and will be executed as-is. Please report this to the AutgoGraph team. When filing the bug, set the verbosity to 10 (on Linux, `export AUTOGRAPH_VERBOSITY=10`) and attach the full output. Cause: converting <bound method Flatten.call of <tensorflow.python.layers.core.Flatten object at 0x00000204AF9F6148>>: AttributeError: module 'gast' has no attribute 'Index'\n",
      "WARNING: Entity <bound method Flatten.call of <tensorflow.python.layers.core.Flatten object at 0x00000204AF9F6148>> could not be transformed and will be executed as-is. Please report this to the AutgoGraph team. When filing the bug, set the verbosity to 10 (on Linux, `export AUTOGRAPH_VERBOSITY=10`) and attach the full output. Cause: converting <bound method Flatten.call of <tensorflow.python.layers.core.Flatten object at 0x00000204AF9F6148>>: AttributeError: module 'gast' has no attribute 'Index'\n"
     ]
    }
   ],
   "source": [
    "env=gym_super_mario_bros.make('SuperMarioBros-1-1-v0')\n",
    "modelo=PPO2.load('C:/Users/Falcone/Documents/0_MachineLearning/2022.09.21_AprendizadoPorReforco/7-DominandoSuperMarioBrosPPO/A2C_4000000_steps')"
   ]
  },
  {
   "cell_type": "code",
   "execution_count": 16,
   "id": "61306899",
   "metadata": {},
   "outputs": [
    {
     "name": "stdout",
     "output_type": "stream",
     "text": [
      "Recompensa total: -93.69397354676576\n"
     ]
    }
   ],
   "source": [
    "obs = env.reset()\n",
    "recompensa_total = 0\n",
    "terminou = False\n",
    "\n",
    "while terminou!= True:\n",
    "    env.render()\n",
    "    time.sleep(0.02)\n",
    "    acao, estado = modelo.predict(obs)\n",
    "    obs, recompensa, terminou, info = env.step(acao)\n",
    "    recompensa_total+=recompensa\n",
    "print('Recompensa total:', recompensa_total)\n",
    "env.close()"
   ]
  },
  {
   "cell_type": "code",
   "execution_count": null,
   "id": "cfbee574",
   "metadata": {},
   "outputs": [],
   "source": [
    "lista_recompensas=[]\n",
    "for i in range(5):\n",
    "    obs=env.reset()\n",
    "    terminou=False\n",
    "    recompensa_episodio=0\n",
    "    while terminou != True:\n",
    "        acao, estado = modelo.predict(obs)\n",
    "        obs, recompensa, terminou, info=env.step(acao)\n",
    "        recompensa_episodio+=recompensa\n",
    "    print('Recompensa episodio',i,':',recompensa_episodio)\n",
    "    lista_recompensas.append(recompensa_episodio)\n",
    "    \n",
    "print('Recompensa media:',sum(lista_recompensas)/len(lista_recompensas))"
   ]
  },
  {
   "cell_type": "code",
   "execution_count": null,
   "id": "0485098b",
   "metadata": {},
   "outputs": [],
   "source": []
  }
 ],
 "metadata": {
  "kernelspec": {
   "display_name": "Python 3 (ipykernel)",
   "language": "python",
   "name": "python3"
  },
  "language_info": {
   "codemirror_mode": {
    "name": "ipython",
    "version": 3
   },
   "file_extension": ".py",
   "mimetype": "text/x-python",
   "name": "python",
   "nbconvert_exporter": "python",
   "pygments_lexer": "ipython3",
   "version": "3.7.13"
  }
 },
 "nbformat": 4,
 "nbformat_minor": 5
}
