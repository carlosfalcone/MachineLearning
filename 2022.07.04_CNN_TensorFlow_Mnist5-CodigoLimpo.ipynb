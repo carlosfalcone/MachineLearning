{
 "cells": [
  {
   "cell_type": "code",
   "execution_count": 1,
   "id": "3781f7b4",
   "metadata": {},
   "outputs": [
    {
     "name": "stdout",
     "output_type": "stream",
     "text": [
      "versao do tensorflow: 2.9.1\n"
     ]
    }
   ],
   "source": [
    "import tensorflow as tf\n",
    "print('versao do tensorflow:',tf.__version__)"
   ]
  },
  {
   "cell_type": "code",
   "execution_count": 2,
   "id": "e6b49f9d",
   "metadata": {},
   "outputs": [],
   "source": [
    "#Carregue e prepare o conjunto de dados MNIST\n",
    "mnist = tf.keras.datasets.mnist\n",
    "(xtreino, ytreino), (xteste, yteste) = mnist.load_data()\n",
    "xtreino, xteste = xtreino / 255.0, xteste / 255.0 #normalizaçao dos dados"
   ]
  },
  {
   "cell_type": "code",
   "execution_count": 3,
   "id": "dbccabfb",
   "metadata": {},
   "outputs": [
    {
     "data": {
      "text/plain": [
       "numpy.ndarray"
      ]
     },
     "execution_count": 3,
     "metadata": {},
     "output_type": "execute_result"
    }
   ],
   "source": [
    "type(xtreino)"
   ]
  },
  {
   "cell_type": "code",
   "execution_count": 4,
   "id": "3ff649af",
   "metadata": {},
   "outputs": [
    {
     "data": {
      "text/plain": [
       "(60000, 28, 28)"
      ]
     },
     "execution_count": 4,
     "metadata": {},
     "output_type": "execute_result"
    }
   ],
   "source": [
    "xtreino.shape"
   ]
  },
  {
   "cell_type": "code",
   "execution_count": 5,
   "id": "b41ec50e",
   "metadata": {},
   "outputs": [],
   "source": [
    "# Add a channels dimension #Adiçao do canal de cor (escala de cinza)\n",
    "xtreino = xtreino[..., tf.newaxis].astype(\"float32\")\n",
    "xteste = xteste[..., tf.newaxis].astype(\"float32\")"
   ]
  },
  {
   "cell_type": "code",
   "execution_count": 6,
   "id": "58a39de3",
   "metadata": {},
   "outputs": [
    {
     "data": {
      "text/plain": [
       "(60000, 28, 28, 1)"
      ]
     },
     "execution_count": 6,
     "metadata": {},
     "output_type": "execute_result"
    }
   ],
   "source": [
    "xtreino.shape"
   ]
  },
  {
   "cell_type": "code",
   "execution_count": 7,
   "id": "d7fd2891",
   "metadata": {},
   "outputs": [],
   "source": [
    "#xtreino[0]"
   ]
  },
  {
   "cell_type": "code",
   "execution_count": 8,
   "id": "f9ccb3c4",
   "metadata": {},
   "outputs": [
    {
     "data": {
      "text/plain": [
       "(10000, 28, 28, 1)"
      ]
     },
     "execution_count": 8,
     "metadata": {},
     "output_type": "execute_result"
    }
   ],
   "source": [
    "xteste.shape"
   ]
  },
  {
   "cell_type": "code",
   "execution_count": 9,
   "id": "6d837e8a",
   "metadata": {},
   "outputs": [
    {
     "data": {
      "text/plain": [
       "(60000,)"
      ]
     },
     "execution_count": 9,
     "metadata": {},
     "output_type": "execute_result"
    }
   ],
   "source": [
    "ytreino.shape"
   ]
  },
  {
   "cell_type": "code",
   "execution_count": 10,
   "id": "f547a183",
   "metadata": {},
   "outputs": [
    {
     "data": {
      "text/plain": [
       "(10000,)"
      ]
     },
     "execution_count": 10,
     "metadata": {},
     "output_type": "execute_result"
    }
   ],
   "source": [
    "yteste.shape"
   ]
  },
  {
   "cell_type": "code",
   "execution_count": 11,
   "id": "697ca41d",
   "metadata": {},
   "outputs": [
    {
     "data": {
      "text/plain": [
       "array([7, 2, 1, ..., 4, 5, 6], dtype=uint8)"
      ]
     },
     "execution_count": 11,
     "metadata": {},
     "output_type": "execute_result"
    }
   ],
   "source": [
    "yteste"
   ]
  },
  {
   "cell_type": "code",
   "execution_count": 12,
   "id": "541692c8",
   "metadata": {},
   "outputs": [],
   "source": [
    "ytreinoonehot=tf.one_hot(ytreino,10) #one hot aplicado nos dados de treino\n",
    "#ytreinoonehot"
   ]
  },
  {
   "cell_type": "code",
   "execution_count": 13,
   "id": "6a756cd5",
   "metadata": {},
   "outputs": [
    {
     "data": {
      "text/plain": [
       "TensorShape([60000, 10])"
      ]
     },
     "execution_count": 13,
     "metadata": {},
     "output_type": "execute_result"
    }
   ],
   "source": [
    "ytreinoonehot.shape"
   ]
  },
  {
   "cell_type": "code",
   "execution_count": 14,
   "id": "f7436d60",
   "metadata": {},
   "outputs": [],
   "source": [
    "ytesteonehot=tf.one_hot(yteste,10) #one hot aplicado nos dados de teste\n",
    "#ytesteonehot"
   ]
  },
  {
   "cell_type": "code",
   "execution_count": 15,
   "id": "8fb10a0d",
   "metadata": {},
   "outputs": [],
   "source": [
    "def conv2d(entrada,w,b):\n",
    "    return tf.nn.relu(tf.nn.bias_add(tf.nn.conv2d(entrada,w,strides=[1,1,1,1],padding='VALID'),b)) #padding=VALID quer dizer que o padding nao sera utilizado"
   ]
  },
  {
   "cell_type": "code",
   "execution_count": 16,
   "id": "76a2cc46",
   "metadata": {},
   "outputs": [],
   "source": [
    "def maxpool(entrada1,k):\n",
    "    return tf.nn.max_pool(entrada1, ksize=[1,k,k,1],strides=[1,k,k,1],padding='VALID')"
   ]
  },
  {
   "cell_type": "code",
   "execution_count": 17,
   "id": "0400d108",
   "metadata": {},
   "outputs": [],
   "source": [
    "#Inicializaçao dos pesos\n",
    "w1=tf.Variable(tf.random.normal([5,5,1,32],0,0.05,tf.float32)) #camada interna1, filtro(kernel) 5x5, 1 imagem para varrer, 32 feature maps de saida, media zero e desvio padrao 0.05\n",
    "w2=tf.Variable(tf.random.normal([5,5,32,64],0,0.05,tf.float32)) #camada interna2, filtro 5x5, 32 pooling layers da camada 1 para varrer, 64 fetaure maps de saida\n",
    "w3=tf.Variable(tf.random.normal([4*4*64,80],0,0.05,tf.float32)) #64 poolings 4x4 dispostos em apenas 1 coluna (flatten) - Camada Densa de 80 neuronios #0.0063 desvio padrao Natanael\n",
    "wout=tf.Variable(tf.random.normal([80,10],0,0.05,tf.float32)) #10 neuronios de saida conectados aos 80 neuronios da camada anterior #0.04 desvio padrao Natanael"
   ]
  },
  {
   "cell_type": "code",
   "execution_count": 18,
   "id": "1a4d47b4",
   "metadata": {},
   "outputs": [],
   "source": [
    "#Inicializaçao dos bias\n",
    "b1=tf.Variable(tf.zeros([32]))\n",
    "b2=tf.Variable(tf.zeros([64]))\n",
    "b3=tf.Variable(tf.zeros([80]))\n",
    "bout=tf.Variable(tf.zeros([10]))"
   ]
  },
  {
   "cell_type": "code",
   "execution_count": 19,
   "id": "e1bd951d",
   "metadata": {},
   "outputs": [
    {
     "data": {
      "text/plain": [
       "<tensorflow.python.eager.def_function.Function at 0x173182a9e20>"
      ]
     },
     "execution_count": 19,
     "metadata": {},
     "output_type": "execute_result"
    }
   ],
   "source": [
    "#Função de saida (resultado do modelo)\n",
    "@tf.function\n",
    "def saida(entrada,w1,w2,w3,wout,b1,b2,b3,bout):\n",
    "    #Camada CNN1\n",
    "    conv1=conv2d(entrada,w1,b1)\n",
    "    pool1=maxpool(conv1,k=2)\n",
    "    #Camada CNN2\n",
    "    conv2=conv2d(pool1,w2,b2)\n",
    "    pool2=maxpool(conv2,k=2)\n",
    "    #Camada densa oculta\n",
    "    convcoluna=tf.reshape(pool2, shape=[-1,w3.get_shape().as_list()[0]])\n",
    "    densa1=tf.nn.relu(tf.add(tf.matmul(convcoluna, w3),b3))\n",
    "    dropoutdensa=tf.nn.dropout(densa1,0.2)\n",
    "    #Camda densa de saída\n",
    "    saida=tf.add(tf.matmul(dropoutdensa,wout),bout)\n",
    "    return saida\n",
    "saida"
   ]
  },
  {
   "cell_type": "code",
   "execution_count": 20,
   "id": "6925d62c",
   "metadata": {},
   "outputs": [
    {
     "data": {
      "text/plain": [
       "<tensorflow.python.eager.def_function.Function at 0x173182a9790>"
      ]
     },
     "execution_count": 20,
     "metadata": {},
     "output_type": "execute_result"
    }
   ],
   "source": [
    "#Função de custo\n",
    "@tf.function\n",
    "def cost(saida,gabtreino):\n",
    "    error = tf.reduce_mean(tf.nn.softmax_cross_entropy_with_logits(logits=saida, labels=gabtreino))\n",
    "    return error\n",
    "cost"
   ]
  },
  {
   "cell_type": "code",
   "execution_count": 21,
   "id": "4c7adb18",
   "metadata": {},
   "outputs": [],
   "source": [
    "#Otimizador\n",
    "optimizer = tf.optimizers.Adam() #O otimizador Adam minimizou a oscilaçao da acurácia"
   ]
  },
  {
   "cell_type": "code",
   "execution_count": 22,
   "id": "53b8bcd2",
   "metadata": {},
   "outputs": [],
   "source": [
    "trainable_vars = [w1,w2,w3,wout,b1,b2,b3,bout]"
   ]
  },
  {
   "cell_type": "code",
   "execution_count": 23,
   "id": "efc246a2",
   "metadata": {
    "scrolled": true
   },
   "outputs": [
    {
     "name": "stdout",
     "output_type": "stream",
     "text": [
      "epoca1 custo:0.2792049050331116 acuracia treino:0.9171333312988281 acuracia teste:0.9236000180244446\n",
      "tempo em segundos 117.8129506111145\n",
      "epoca2 custo:0.1554601937532425 acuracia treino:0.9535833597183228 acuracia teste:0.9563999772071838\n",
      "tempo em segundos 236.0345323085785\n",
      "epoca3 custo:0.11098212003707886 acuracia treino:0.9672999978065491 acuracia teste:0.9677000045776367\n",
      "tempo em segundos 353.0015480518341\n",
      "epoca4 custo:0.08812035620212555 acuracia treino:0.9737833142280579 acuracia teste:0.9757999777793884\n",
      "tempo em segundos 469.78835940361023\n",
      "epoca5 custo:0.07570281624794006 acuracia treino:0.9771666526794434 acuracia teste:0.9789999723434448\n",
      "tempo em segundos 587.1014273166656\n",
      "epoca6 custo:0.06966295838356018 acuracia treino:0.9790666699409485 acuracia teste:0.9787999987602234\n",
      "tempo em segundos 704.2940864562988\n",
      "epoca7 custo:0.05855405330657959 acuracia treino:0.982283353805542 acuracia teste:0.9811000227928162\n",
      "tempo em segundos 821.2623519897461\n",
      "epoca8 custo:0.05113128200173378 acuracia treino:0.9846000075340271 acuracia teste:0.9830999970436096\n",
      "tempo em segundos 938.5674231052399\n",
      "epoca9 custo:0.043522223830223083 acuracia treino:0.9868166446685791 acuracia teste:0.9854999780654907\n",
      "tempo em segundos 1055.5027453899384\n",
      "epoca10 custo:0.04250266030430794 acuracia treino:0.9866166710853577 acuracia teste:0.9860000014305115\n",
      "tempo em segundos 1173.6969866752625\n"
     ]
    },
    {
     "data": {
      "image/png": "[encoded data removed]",
      "text/plain": [
       "<Figure size 432x288 with 1 Axes>"
      ]
     },
     "metadata": {
      "needs_background": "light"
     },
     "output_type": "display_data"
    }
   ],
   "source": [
    "import time\n",
    "import numpy as np\n",
    "import matplotlib.pyplot as plt\n",
    "x=[] #Lista para armazenar a quantidade de batches\n",
    "y=0 #Complemento para Lista para armazenar a quantidade de batches\n",
    "epochs = 10 #(or however many iterations you want it to run)\n",
    "listacustotreino=[]\n",
    "listaacurtreino=[]\n",
    "listaacurteste=[]\n",
    "tempoinicial=time.time()\n",
    "\n",
    "for _ in range(epochs): #loop for das épocas\n",
    "    y=y+1\n",
    "    x.append(y)\n",
    "    #print('epoca:',y)\n",
    "    tamanhobatch=1000\n",
    "    deltabatch=tamanhobatch #Mesmo valor que tamanhobatch, porem este numero nao varia dentro do loop for\n",
    "    batches=60000/tamanhobatch\n",
    "    batchesint=int(batches) #Quantidade de batches no formato integer (numero inteiro)\n",
    "    #print('numero total de batches:',batchesint)\n",
    "    m=0\n",
    "    #Utilizar batches para fazer o calculo de custo e atualizaçao dos pesos e bias\n",
    "    for n in range (batchesint): #Loop for de cada batch de forma a cobrir todos os dados\n",
    "        #print('batch number:',n)\n",
    "        listabatchesxtreino=[]\n",
    "        listabatchesytreino=[]\n",
    "        paramif=0\n",
    "        for l in range (m,tamanhobatch): #Loop for das linhas dentro de um batch\n",
    "            #print('Qtd de amostras:',l)\n",
    "            listabatchesxtreino.append(xtreino[l]) #carrega trechos de amostras do banco de dados\n",
    "            listabatchesytreino.append(ytreinoonehot[l]) #carrega trechos de amostras do banco de dados\n",
    "            m=m+1\n",
    "            paramif=paramif+1\n",
    "            listabatchesxtreino1=np.array(listabatchesxtreino)\n",
    "            listabatchesytreino1=np.array(listabatchesytreino)\n",
    "            if paramif+1 > deltabatch:\n",
    "                with tf.GradientTape() as tp:\n",
    "                #your loss/cost function must always be contained within the gradient tape instantiation\n",
    "                    saidatreino = saida(listabatchesxtreino1,w1,w2,w3,wout,b1,b2,b3,bout)\n",
    "                    custotreino = cost(saidatreino,listabatchesytreino1)\n",
    "                gradients = tp.gradient(custotreino, trainable_vars)\n",
    "                optimizer.apply_gradients(zip(gradients, trainable_vars)) #Atualizaçao dos pesos e bias\n",
    "        tamanhobatch=deltabatch+l+1\n",
    "    \n",
    "    #Acuracia treino para cada epoca\n",
    "    saidatreino = saida(xtreino,w1,w2,w3,wout,b1,b2,b3,bout) #saida do modelo com os pesos e bias atualizados apos rodar todos os batches\n",
    "    custotreino = cost(saidatreino,ytreinoonehot)\n",
    "    verificacao=tf.equal(tf.argmax(saidatreino,1),tf.argmax(ytreinoonehot,1))\n",
    "    acuraciatreino=tf.math.reduce_mean(tf.cast(verificacao,tf.float32))\n",
    "    \n",
    "    #Saida do modelo e acuracia do teste para cada epoca\n",
    "    saidateste = saida(xteste,w1,w2,w3,wout,b1,b2,b3,bout)\n",
    "    verificacao=tf.equal(tf.argmax(saidateste,1),tf.argmax(ytesteonehot,1))\n",
    "    acuraciateste=tf.math.reduce_mean(tf.cast(verificacao,tf.float32))\n",
    "    \n",
    "    print(f'epoca{y}',f'custo:{custotreino}',f'acuracia treino:{acuraciatreino}',f'acuracia teste:{acuraciateste}')\n",
    "    #listacustotreino.append(custotreino) #grafico custo x epocas\n",
    "    #plt.plot(x, listacustotreino, '-g', label='Custo') #grafico custo x epocas\n",
    "    listaacurtreino.append(acuraciatreino) #grafico acuracia treino x epocas\n",
    "    #print('lista acuracia treino:',listaacurtreino)\n",
    "    plt.plot(x, listaacurtreino, '-g', label='Custo') #grafico acuracia treino x epocas\n",
    "    listaacurteste.append(acuraciateste) #grafico acuracia teste x epocas\n",
    "    plt.plot(x, listaacurteste, '-b', label='Custo') #grafico acuracia teste x epocas\n",
    "    \n",
    "    tempofinal=time.time()\n",
    "    tf.print('tempo em segundos', tempofinal - tempoinicial)"
   ]
  },
  {
   "cell_type": "code",
   "execution_count": null,
   "id": "a5f1d710",
   "metadata": {},
   "outputs": [],
   "source": []
  }
 ],
 "metadata": {
  "kernelspec": {
   "display_name": "Python 3 (ipykernel)",
   "language": "python",
   "name": "python3"
  },
  "language_info": {
   "codemirror_mode": {
    "name": "ipython",
    "version": 3
   },
   "file_extension": ".py",
   "mimetype": "text/x-python",
   "name": "python",
   "nbconvert_exporter": "python",
   "pygments_lexer": "ipython3",
   "version": "3.8.13"
  }
 },
 "nbformat": 4,
 "nbformat_minor": 5
}
