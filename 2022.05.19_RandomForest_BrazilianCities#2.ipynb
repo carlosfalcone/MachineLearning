{
 "cells": [
  {
   "cell_type": "code",
   "execution_count": 1,
   "id": "80c753b4",
   "metadata": {},
   "outputs": [],
   "source": [
    "import pandas as pd\n",
    "dados=pd.read_csv('C:/Users/Falcone/Documents/0_MachineLearning/2022.05.17_RandomForest/BRAZIL_CITIES.csv',sep=';')\n",
    "#dados"
   ]
  },
  {
   "cell_type": "code",
   "execution_count": 2,
   "id": "893f0ece",
   "metadata": {},
   "outputs": [],
   "source": [
    "dados.drop(['CITY', 'IDHM Ranking 2010', 'IDHM_Renda', 'IDHM_Longevidade', 'IDHM_Educacao', 'LONG', 'LAT', 'GVA_MAIN',\n",
    "            'REGIAO_TUR', 'MUN_EXPENDIT', 'HOTELS', 'BEDS', 'Pr_Agencies', 'Pu_Agencies', 'Pr_Bank', 'Pu_Bank',\n",
    "            'Pr_Assets', 'Pu_Assets','UBER','MAC','WAL-MART'], axis=1, inplace=True)"
   ]
  },
  {
   "cell_type": "code",
   "execution_count": 3,
   "id": "779c2278",
   "metadata": {
    "scrolled": true
   },
   "outputs": [],
   "source": [
    "#dados.isnull().sum()/len(dados['STATE'])*100"
   ]
  },
  {
   "cell_type": "code",
   "execution_count": 4,
   "id": "c735b2c2",
   "metadata": {
    "scrolled": true
   },
   "outputs": [],
   "source": [
    "#dados.dtypes"
   ]
  },
  {
   "cell_type": "code",
   "execution_count": 5,
   "id": "184e804a",
   "metadata": {},
   "outputs": [],
   "source": [
    "state_encode=pd.get_dummies(dados['STATE'])\n",
    "categoria_encode=pd.get_dummies(dados['CATEGORIA_TUR'])\n",
    "rural_encode=pd.get_dummies(dados['RURAL_URBAN'])\n",
    "dados.drop('STATE', axis=1, inplace=True)\n",
    "dados.drop('CATEGORIA_TUR', axis=1, inplace=True)\n",
    "dados.drop('RURAL_URBAN', axis=1, inplace=True)\n",
    "dados2=pd.concat([dados,state_encode,categoria_encode,rural_encode], axis=1)"
   ]
  },
  {
   "cell_type": "code",
   "execution_count": 6,
   "id": "56308ada",
   "metadata": {},
   "outputs": [],
   "source": [
    "#dados2"
   ]
  },
  {
   "cell_type": "code",
   "execution_count": 7,
   "id": "c257daac",
   "metadata": {
    "scrolled": true
   },
   "outputs": [
    {
     "data": {
      "text/plain": [
       "CAPITAL                    0.000000\n",
       "IBGE_RES_POP               0.143549\n",
       "IBGE_RES_POP_BRAS          0.143549\n",
       "IBGE_RES_POP_ESTR          0.143549\n",
       "IBGE_DU                    0.179437\n",
       "IBGE_DU_URBAN              0.179437\n",
       "IBGE_DU_RURAL              1.453436\n",
       "IBGE_POP                   0.143549\n",
       "IBGE_1                     0.143549\n",
       "IBGE_1-4                   0.143549\n",
       "IBGE_5-9                   0.143549\n",
       "IBGE_10-14                 0.143549\n",
       "IBGE_15-59                 0.143549\n",
       "IBGE_60+                   0.143549\n",
       "IBGE_PLANTED_AREA          0.053831\n",
       "IBGE_CROP_PRODUCTION_$     0.053831\n",
       "IDHM                       0.143549\n",
       "ALT                        0.161493\n",
       "PAY_TV                     0.053831\n",
       "FIXED_PHONES               0.053831\n",
       "AREA                       0.053831\n",
       "ESTIMATED_POP              0.053831\n",
       "GVA_AGROPEC                0.053831\n",
       "GVA_INDUSTRY               0.053831\n",
       "GVA_SERVICES               0.053831\n",
       "GVA_PUBLIC                 0.053831\n",
       " GVA_TOTAL                 0.053831\n",
       "TAXES                      0.053831\n",
       "GDP                        0.053831\n",
       "POP_GDP                    0.053831\n",
       "GDP_CAPITA                 0.053831\n",
       "COMP_TOT                   0.053831\n",
       "COMP_A                     0.053831\n",
       "COMP_B                     0.053831\n",
       "COMP_C                     0.053831\n",
       "COMP_D                     0.053831\n",
       "COMP_E                     0.053831\n",
       "COMP_F                     0.053831\n",
       "COMP_G                     0.053831\n",
       "COMP_H                     0.053831\n",
       "COMP_I                     0.053831\n",
       "COMP_J                     0.053831\n",
       "COMP_K                     0.053831\n",
       "COMP_L                     0.053831\n",
       "COMP_M                     0.053831\n",
       "COMP_N                     0.053831\n",
       "COMP_O                     0.053831\n",
       "COMP_P                     0.053831\n",
       "COMP_Q                     0.053831\n",
       "COMP_R                     0.053831\n",
       "COMP_S                     0.053831\n",
       "COMP_T                     0.053831\n",
       "COMP_U                     0.053831\n",
       "Cars                       0.197380\n",
       "Motorcycles                0.197380\n",
       "Wheeled_tractor            0.197380\n",
       "POST_OFFICES               2.153239\n",
       "AC                         0.000000\n",
       "AL                         0.000000\n",
       "AM                         0.000000\n",
       "AP                         0.000000\n",
       "BA                         0.000000\n",
       "CE                         0.000000\n",
       "DF                         0.000000\n",
       "ES                         0.000000\n",
       "GO                         0.000000\n",
       "MA                         0.000000\n",
       "MG                         0.000000\n",
       "MS                         0.000000\n",
       "MT                         0.000000\n",
       "PA                         0.000000\n",
       "PB                         0.000000\n",
       "PE                         0.000000\n",
       "PI                         0.000000\n",
       "PR                         0.000000\n",
       "RJ                         0.000000\n",
       "RN                         0.000000\n",
       "RO                         0.000000\n",
       "RR                         0.000000\n",
       "RS                         0.000000\n",
       "SC                         0.000000\n",
       "SE                         0.000000\n",
       "SP                         0.000000\n",
       "TO                         0.000000\n",
       "A                          0.000000\n",
       "B                          0.000000\n",
       "C                          0.000000\n",
       "D                          0.000000\n",
       "E                          0.000000\n",
       "Intermediário Adjacente    0.000000\n",
       "Intermediário Remoto       0.000000\n",
       "Rural Adjacente            0.000000\n",
       "Rural Remoto               0.000000\n",
       "Sem classificação          0.000000\n",
       "Urbano                     0.000000\n",
       "dtype: float64"
      ]
     },
     "execution_count": 7,
     "metadata": {},
     "output_type": "execute_result"
    }
   ],
   "source": [
    "pd.set_option('display.max_rows',100)\n",
    "dados2.isnull().sum()/len(dados2['CAPITAL'])*100\n",
    "#A propria conversao de texto para numeros, eliminou os dados NaN que estavam na variavel CATEGORIA_TUR por exemplo"
   ]
  },
  {
   "cell_type": "code",
   "execution_count": 8,
   "id": "7bc8ff18",
   "metadata": {},
   "outputs": [],
   "source": [
    "dados2.dropna(axis=0, inplace=True)"
   ]
  },
  {
   "cell_type": "code",
   "execution_count": 9,
   "id": "b301ed79",
   "metadata": {
    "scrolled": true
   },
   "outputs": [
    {
     "data": {
      "text/plain": [
       "CAPITAL                    0.0\n",
       "IBGE_RES_POP               0.0\n",
       "IBGE_RES_POP_BRAS          0.0\n",
       "IBGE_RES_POP_ESTR          0.0\n",
       "IBGE_DU                    0.0\n",
       "IBGE_DU_URBAN              0.0\n",
       "IBGE_DU_RURAL              0.0\n",
       "IBGE_POP                   0.0\n",
       "IBGE_1                     0.0\n",
       "IBGE_1-4                   0.0\n",
       "IBGE_5-9                   0.0\n",
       "IBGE_10-14                 0.0\n",
       "IBGE_15-59                 0.0\n",
       "IBGE_60+                   0.0\n",
       "IBGE_PLANTED_AREA          0.0\n",
       "IBGE_CROP_PRODUCTION_$     0.0\n",
       "IDHM                       0.0\n",
       "ALT                        0.0\n",
       "PAY_TV                     0.0\n",
       "FIXED_PHONES               0.0\n",
       "AREA                       0.0\n",
       "ESTIMATED_POP              0.0\n",
       "GVA_AGROPEC                0.0\n",
       "GVA_INDUSTRY               0.0\n",
       "GVA_SERVICES               0.0\n",
       "GVA_PUBLIC                 0.0\n",
       " GVA_TOTAL                 0.0\n",
       "TAXES                      0.0\n",
       "GDP                        0.0\n",
       "POP_GDP                    0.0\n",
       "GDP_CAPITA                 0.0\n",
       "COMP_TOT                   0.0\n",
       "COMP_A                     0.0\n",
       "COMP_B                     0.0\n",
       "COMP_C                     0.0\n",
       "COMP_D                     0.0\n",
       "COMP_E                     0.0\n",
       "COMP_F                     0.0\n",
       "COMP_G                     0.0\n",
       "COMP_H                     0.0\n",
       "COMP_I                     0.0\n",
       "COMP_J                     0.0\n",
       "COMP_K                     0.0\n",
       "COMP_L                     0.0\n",
       "COMP_M                     0.0\n",
       "COMP_N                     0.0\n",
       "COMP_O                     0.0\n",
       "COMP_P                     0.0\n",
       "COMP_Q                     0.0\n",
       "COMP_R                     0.0\n",
       "COMP_S                     0.0\n",
       "COMP_T                     0.0\n",
       "COMP_U                     0.0\n",
       "Cars                       0.0\n",
       "Motorcycles                0.0\n",
       "Wheeled_tractor            0.0\n",
       "POST_OFFICES               0.0\n",
       "AC                         0.0\n",
       "AL                         0.0\n",
       "AM                         0.0\n",
       "AP                         0.0\n",
       "BA                         0.0\n",
       "CE                         0.0\n",
       "DF                         0.0\n",
       "ES                         0.0\n",
       "GO                         0.0\n",
       "MA                         0.0\n",
       "MG                         0.0\n",
       "MS                         0.0\n",
       "MT                         0.0\n",
       "PA                         0.0\n",
       "PB                         0.0\n",
       "PE                         0.0\n",
       "PI                         0.0\n",
       "PR                         0.0\n",
       "RJ                         0.0\n",
       "RN                         0.0\n",
       "RO                         0.0\n",
       "RR                         0.0\n",
       "RS                         0.0\n",
       "SC                         0.0\n",
       "SE                         0.0\n",
       "SP                         0.0\n",
       "TO                         0.0\n",
       "A                          0.0\n",
       "B                          0.0\n",
       "C                          0.0\n",
       "D                          0.0\n",
       "E                          0.0\n",
       "Intermediário Adjacente    0.0\n",
       "Intermediário Remoto       0.0\n",
       "Rural Adjacente            0.0\n",
       "Rural Remoto               0.0\n",
       "Sem classificação          0.0\n",
       "Urbano                     0.0\n",
       "dtype: float64"
      ]
     },
     "execution_count": 9,
     "metadata": {},
     "output_type": "execute_result"
    }
   ],
   "source": [
    "pd.set_option('display.max_rows',100)\n",
    "dados2.isnull().sum()/len(dados2['CAPITAL'])*100"
   ]
  },
  {
   "cell_type": "code",
   "execution_count": 10,
   "id": "9f513034",
   "metadata": {},
   "outputs": [],
   "source": [
    "dadosx=dados2.drop('IDHM', axis=1)\n",
    "dadosy=dados2['IDHM']"
   ]
  },
  {
   "cell_type": "code",
   "execution_count": 11,
   "id": "8b28677d",
   "metadata": {},
   "outputs": [],
   "source": [
    "#dadosx"
   ]
  },
  {
   "cell_type": "code",
   "execution_count": 12,
   "id": "2812972f",
   "metadata": {},
   "outputs": [],
   "source": [
    "#dadosy"
   ]
  },
  {
   "cell_type": "code",
   "execution_count": 13,
   "id": "69fc1db1",
   "metadata": {},
   "outputs": [],
   "source": [
    "from sklearn.preprocessing import MinMaxScaler\n",
    "normaliza=MinMaxScaler(feature_range=(0, 1))\n",
    "dadosxnorm=normaliza.fit_transform(dadosx)"
   ]
  },
  {
   "cell_type": "code",
   "execution_count": 14,
   "id": "a9dd6bb6",
   "metadata": {},
   "outputs": [],
   "source": [
    "#dadosxnorm"
   ]
  },
  {
   "cell_type": "code",
   "execution_count": 15,
   "id": "f88488fb",
   "metadata": {},
   "outputs": [],
   "source": [
    "from sklearn.decomposition import PCA\n",
    "pca=PCA(n_components=15)\n",
    "dadosx_pca=pca.fit_transform(dadosxnorm)"
   ]
  },
  {
   "cell_type": "code",
   "execution_count": 16,
   "id": "402b0250",
   "metadata": {},
   "outputs": [],
   "source": [
    "#dadosx_pca"
   ]
  },
  {
   "cell_type": "code",
   "execution_count": 18,
   "id": "5874e06f",
   "metadata": {},
   "outputs": [
    {
     "data": {
      "text/plain": [
       "array([0.19583701, 0.12162792, 0.08095638, 0.07072222, 0.05173514,\n",
       "       0.05057867, 0.04195469, 0.0390812 , 0.03509223, 0.03082312,\n",
       "       0.0295308 , 0.02239032, 0.02061981, 0.01971799, 0.01785609])"
      ]
     },
     "execution_count": 18,
     "metadata": {},
     "output_type": "execute_result"
    }
   ],
   "source": [
    "pca.explained_variance_ratio_"
   ]
  },
  {
   "cell_type": "code",
   "execution_count": 19,
   "id": "72bc8e79",
   "metadata": {},
   "outputs": [
    {
     "data": {
      "text/plain": [
       "0.8285235739213861"
      ]
     },
     "execution_count": 19,
     "metadata": {},
     "output_type": "execute_result"
    }
   ],
   "source": [
    "sum(pca.explained_variance_ratio_)"
   ]
  },
  {
   "cell_type": "code",
   "execution_count": 20,
   "id": "524b9153",
   "metadata": {},
   "outputs": [
    {
     "data": {
      "text/plain": [
       "0.8027482936840076"
      ]
     },
     "execution_count": 20,
     "metadata": {},
     "output_type": "execute_result"
    }
   ],
   "source": [
    "#rodar o modelo RandomForestRegressor\n",
    "from sklearn.ensemble import RandomForestRegressor\n",
    "from sklearn.model_selection import cross_val_score\n",
    "from sklearn.model_selection import KFold\n",
    "modelo=RandomForestRegressor(n_estimators=100)\n",
    "kfold=KFold(n_splits=3)\n",
    "resultado=cross_val_score(modelo,dadosx_pca,dadosy,cv=kfold,n_jobs=-1)\n",
    "resultado.mean()"
   ]
  },
  {
   "cell_type": "code",
   "execution_count": 21,
   "id": "7d203e1b",
   "metadata": {},
   "outputs": [
    {
     "data": {
      "text/plain": [
       "0.8678323786491414"
      ]
     },
     "execution_count": 21,
     "metadata": {},
     "output_type": "execute_result"
    }
   ],
   "source": [
    "resultado=cross_val_score(modelo,dadosxnorm,dadosy,cv=kfold,n_jobs=-1)\n",
    "resultado.mean()"
   ]
  },
  {
   "cell_type": "code",
   "execution_count": 31,
   "id": "30fabbb8",
   "metadata": {},
   "outputs": [
    {
     "name": "stdout",
     "output_type": "stream",
     "text": [
      "{'max_depth': 15, 'min_samples_leaf': 5, 'min_samples_split': 2}\n",
      "0.808254856996164\n"
     ]
    }
   ],
   "source": [
    "from sklearn.model_selection import GridSearchCV\n",
    "param={'max_depth':[15,20,30,50],'min_samples_split':[2,3,4,5,7,9,11],'min_samples_leaf':[3,5,6,9,11]}\n",
    "grid_randomforest=GridSearchCV(modelo,param,cv=3,n_jobs=-1)\n",
    "grid_randomforest.fit(dadosx_pca,dadosy)\n",
    "print(grid_randomforest.best_params_)\n",
    "print(grid_randomforest.best_score_)"
   ]
  },
  {
   "cell_type": "code",
   "execution_count": null,
   "id": "a04f2f71",
   "metadata": {},
   "outputs": [],
   "source": []
  }
 ],
 "metadata": {
  "kernelspec": {
   "display_name": "Python 3 (ipykernel)",
   "language": "python",
   "name": "python3"
  },
  "language_info": {
   "codemirror_mode": {
    "name": "ipython",
    "version": 3
   },
   "file_extension": ".py",
   "mimetype": "text/x-python",
   "name": "python",
   "nbconvert_exporter": "python",
   "pygments_lexer": "ipython3",
   "version": "3.9.7"
  }
 },
 "nbformat": 4,
 "nbformat_minor": 5
}
